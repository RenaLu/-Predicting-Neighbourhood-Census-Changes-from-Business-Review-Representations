{
  "nbformat": 4,
  "nbformat_minor": 0,
  "metadata": {
    "colab": {
      "name": "CensusPrediction_Education.ipynb",
      "provenance": [],
      "collapsed_sections": [],
      "toc_visible": true
    },
    "kernelspec": {
      "name": "python3",
      "display_name": "Python 3"
    }
  },
  "cells": [
    {
      "cell_type": "markdown",
      "metadata": {
        "id": "f5QEoXb0vhch",
        "colab_type": "text"
      },
      "source": [
        "# Imports and Global Variables"
      ]
    },
    {
      "cell_type": "code",
      "metadata": {
        "id": "Tmm2_PLSXXms",
        "colab_type": "code",
        "outputId": "08d7b7a9-6708-4231-b373-436ccd758be2",
        "colab": {
          "base_uri": "https://localhost:8080/",
          "height": 143
        }
      },
      "source": [
        "!pip install pytorch-ignite"
      ],
      "execution_count": 0,
      "outputs": [
        {
          "output_type": "stream",
          "text": [
            "Collecting pytorch-ignite\n",
            "\u001b[?25l  Downloading https://files.pythonhosted.org/packages/35/55/41e8a995876fd2ade29bdba0c3efefa38e7d605cb353c70f3173c04928b5/pytorch_ignite-0.3.0-py2.py3-none-any.whl (103kB)\n",
            "\r\u001b[K     |███▏                            | 10kB 17.5MB/s eta 0:00:01\r\u001b[K     |██████▎                         | 20kB 1.7MB/s eta 0:00:01\r\u001b[K     |█████████▌                      | 30kB 2.3MB/s eta 0:00:01\r\u001b[K     |████████████▋                   | 40kB 1.6MB/s eta 0:00:01\r\u001b[K     |███████████████▉                | 51kB 1.8MB/s eta 0:00:01\r\u001b[K     |███████████████████             | 61kB 2.2MB/s eta 0:00:01\r\u001b[K     |██████████████████████▏         | 71kB 2.4MB/s eta 0:00:01\r\u001b[K     |█████████████████████████▎      | 81kB 2.5MB/s eta 0:00:01\r\u001b[K     |████████████████████████████▍   | 92kB 2.8MB/s eta 0:00:01\r\u001b[K     |███████████████████████████████▋| 102kB 2.8MB/s eta 0:00:01\r\u001b[K     |████████████████████████████████| 112kB 2.8MB/s \n",
            "\u001b[?25hRequirement already satisfied: torch in /usr/local/lib/python3.6/dist-packages (from pytorch-ignite) (1.4.0)\n",
            "Installing collected packages: pytorch-ignite\n",
            "Successfully installed pytorch-ignite-0.3.0\n"
          ],
          "name": "stdout"
        }
      ]
    },
    {
      "cell_type": "code",
      "metadata": {
        "id": "8-UhiP9qfJOA",
        "colab_type": "code",
        "colab": {}
      },
      "source": [
        "import pandas as pd\n",
        "import numpy as np\n",
        "import matplotlib.pyplot as plt\n",
        "from pathlib import Path\n",
        "from ast import literal_eval\n",
        "from collections import defaultdict\n",
        "from tqdm import tqdm\n",
        "from sklearn.model_selection import train_test_split\n",
        "from sklearn.preprocessing import normalize\n",
        "from scipy import sparse\n",
        "\n",
        "from sklearn.linear_model import RidgeCV"
      ],
      "execution_count": 0,
      "outputs": []
    },
    {
      "cell_type": "code",
      "metadata": {
        "id": "d7xsyi3AX56i",
        "colab_type": "code",
        "colab": {}
      },
      "source": [
        "from ignite.handlers import ModelCheckpoint, EarlyStopping, TerminateOnNan\n",
        "from ignite.engine import Engine, Events\n",
        "from ignite.metrics import Accuracy, Loss, RunningAverage\n",
        "from ignite.handlers import ModelCheckpoint, EarlyStopping\n",
        "from ignite.contrib.handlers import ProgressBar"
      ],
      "execution_count": 0,
      "outputs": []
    },
    {
      "cell_type": "code",
      "metadata": {
        "id": "KwPy5Lh3CH-a",
        "colab_type": "code",
        "colab": {}
      },
      "source": [
        "import torch\n",
        "import torch.nn as nn\n",
        "from torch import optim\n",
        "import string\n",
        "import random\n",
        "import torch.utils.data as Data"
      ],
      "execution_count": 0,
      "outputs": []
    },
    {
      "cell_type": "code",
      "metadata": {
        "id": "itB2xTKXZm3o",
        "colab_type": "code",
        "outputId": "b6978126-76a0-46d4-ddba-ee253a7b691c",
        "colab": {
          "base_uri": "https://localhost:8080/",
          "height": 34
        }
      },
      "source": [
        "from collections import OrderedDict\n",
        "import locale\n",
        "from locale import atof, atoi\n",
        "locale.setlocale(locale.LC_NUMERIC, '')"
      ],
      "execution_count": 0,
      "outputs": [
        {
          "output_type": "execute_result",
          "data": {
            "text/plain": [
              "'en_US.UTF-8'"
            ]
          },
          "metadata": {
            "tags": []
          },
          "execution_count": 5
        }
      ]
    },
    {
      "cell_type": "code",
      "metadata": {
        "id": "wBzBYsqc1OAw",
        "colab_type": "code",
        "outputId": "96ee6eec-f6a9-499f-dfd5-e45da2bacc9e",
        "colab": {
          "base_uri": "https://localhost:8080/",
          "height": 125
        }
      },
      "source": [
        "from google.colab import drive\n",
        "drive.mount('/content/drive')"
      ],
      "execution_count": 0,
      "outputs": [
        {
          "output_type": "stream",
          "text": [
            "Go to this URL in a browser: https://accounts.google.com/o/oauth2/auth?client_id=947318989803-6bn6qk8qdgf4n4g3pfee6491hc0brc4i.apps.googleusercontent.com&redirect_uri=urn%3aietf%3awg%3aoauth%3a2.0%3aoob&response_type=code&scope=email%20https%3a%2f%2fwww.googleapis.com%2fauth%2fdocs.test%20https%3a%2f%2fwww.googleapis.com%2fauth%2fdrive%20https%3a%2f%2fwww.googleapis.com%2fauth%2fdrive.photos.readonly%20https%3a%2f%2fwww.googleapis.com%2fauth%2fpeopleapi.readonly\n",
            "\n",
            "Enter your authorization code:\n",
            "··········\n",
            "Mounted at /content/drive\n"
          ],
          "name": "stdout"
        }
      ]
    },
    {
      "cell_type": "code",
      "metadata": {
        "id": "KmD0YDfwfafe",
        "colab_type": "code",
        "colab": {}
      },
      "source": [
        "use_idf = True\n",
        "max_features = 2**10\n",
        "pca_components = 2**4\n",
        "DRIVE_PATH = Path('/content/drive/My Drive/Thesis2019/')\n",
        "NEIGHBOURHOOD_PROFILES_PATH = Path('neighbourhood-profiles-2016-csv.csv')\n",
        "NEIGHBOURHOOD_PROFILES_PATH_OLD = Path('neighbourhood-data-2001-2011.xlsx')\n",
        "DATA_DIR = DRIVE_PATH.joinpath('data_stripped')\n",
        "use_cuda = True\n",
        "years = [2011, 2016]"
      ],
      "execution_count": 0,
      "outputs": []
    },
    {
      "cell_type": "markdown",
      "metadata": {
        "id": "6KxXDNKRxRpT",
        "colab_type": "text"
      },
      "source": [
        "# Dataset Wrapper"
      ]
    },
    {
      "cell_type": "markdown",
      "metadata": {
        "id": "VHv4QW7DYBKP",
        "colab_type": "text"
      },
      "source": [
        "Pytorch Dataset wrappers"
      ]
    },
    {
      "cell_type": "code",
      "metadata": {
        "id": "eDgKDOkoxTQh",
        "colab_type": "code",
        "colab": {}
      },
      "source": [
        "class ReviewsVector(Data.Dataset):\n",
        "    \"\"\"Reviews Vector dataset.\"\"\"\n",
        "\n",
        "    def __init__(self, data):\n",
        "        \"\"\"\n",
        "        Args: \n",
        "          data\n",
        "\n",
        "        \"\"\"\n",
        "        self.shape = data.shape\n",
        "        self.data = torch.tensor(data).type(torch.FloatTensor)\n",
        "        if use_cuda and torch.cuda.is_available():\n",
        "          self.data = self.data.cuda()\n",
        "\n",
        "    def __len__(self):\n",
        "        return len(self.data)\n",
        "\n",
        "    def __getitem__(self, idx):\n",
        "        return self.data[idx]\n",
        "\n",
        "class CensusVector(Data.Dataset):\n",
        "  def __init__(self, data, reviews_embedding):\n",
        "        \"\"\"\n",
        "        Args: \n",
        "          data\n",
        "\n",
        "        \"\"\"\n",
        "        self.shape = data.shape\n",
        "        self.data = torch.tensor(data).type(torch.FloatTensor)\n",
        "        self.reviews_embedding = torch.tensor(reviews_embedding).type(torch.FloatTensor)\n",
        "        if use_cuda and torch.cuda.is_available():\n",
        "            self.data = self.data.cuda()\n",
        "            self.reviews_embedding = self.reviews_embedding.cuda()\n",
        "            \n",
        "  def __len__(self):\n",
        "      return len(self.data)\n",
        "\n",
        "  def __getitem__(self, idx):\n",
        "      return {\"data\": self.data[idx],\n",
        "              \"reviews_embedding\": self.reviews_embedding[idx]}"
      ],
      "execution_count": 0,
      "outputs": []
    },
    {
      "cell_type": "markdown",
      "metadata": {
        "id": "b0yvBkQovmDE",
        "colab_type": "text"
      },
      "source": [
        "# Data Cleaning and Preprocessing"
      ]
    },
    {
      "cell_type": "markdown",
      "metadata": {
        "id": "cdiWF8NSwfqx",
        "colab_type": "text"
      },
      "source": [
        "## Selecting and Matching Attributes for 2011 and 2016 data"
      ]
    },
    {
      "cell_type": "markdown",
      "metadata": {
        "id": "RiwEZ3YDYGGC",
        "colab_type": "text"
      },
      "source": [
        "Match census categories from different years."
      ]
    },
    {
      "cell_type": "code",
      "metadata": {
        "id": "CV574nlTv42q",
        "colab_type": "code",
        "colab": {}
      },
      "source": [
        "nbh_profiles = pd.read_csv(DRIVE_PATH.joinpath(NEIGHBOURHOOD_PROFILES_PATH))\n",
        "nbh_profiles_2011 = pd.read_excel(DRIVE_PATH.joinpath(NEIGHBOURHOOD_PROFILES_PATH_OLD), sheet_name='2011')"
      ],
      "execution_count": 0,
      "outputs": []
    },
    {
      "cell_type": "code",
      "metadata": {
        "id": "j7N_jBiOZonh",
        "colab_type": "code",
        "outputId": "74a77c3d-b7ca-4210-d33a-11eedd7fc1f3",
        "colab": {
          "base_uri": "https://localhost:8080/",
          "height": 357
        }
      },
      "source": [
        "list(nbh_profiles_2011[nbh_profiles_2011['Topic']=='Highest certificate, diploma or degree']['Attribute'])"
      ],
      "execution_count": 0,
      "outputs": [
        {
          "output_type": "execute_result",
          "data": {
            "text/plain": [
              "['Total population aged 15 years and over by highest certificate, diploma or degree',\n",
              " '  No certificate, diploma or degree',\n",
              " '  High school diploma or equivalent',\n",
              " '  Postsecondary certificate, diploma or degree',\n",
              " '    Apprenticeship or trades certificate or diploma',\n",
              " '    College, CEGEP or other non-university certificate or diploma',\n",
              " '    University certificate or diploma below bachelor level',\n",
              " '    University certificate, diploma or degree at bachelor level or above',\n",
              " \"      Bachelor's degree\",\n",
              " '      University certificate, diploma or degree above bachelor level',\n",
              " 'Total population aged 25 to 64 years by highest certificate, diploma or degree',\n",
              " '  No certificate, diploma or degree',\n",
              " '  High school diploma or equivalent',\n",
              " '  Postsecondary certificate, diploma or degree',\n",
              " '    Apprenticeship or trades certificate or diploma',\n",
              " '    College, CEGEP or other non-university certificate or diploma',\n",
              " '    University certificate or diploma below bachelor level',\n",
              " '    University certificate, diploma or degree at bachelor level or above',\n",
              " \"      Bachelor's degree\",\n",
              " '      University certificate, diploma or degree above bachelor level']"
            ]
          },
          "metadata": {
            "tags": []
          },
          "execution_count": 12
        }
      ]
    },
    {
      "cell_type": "code",
      "metadata": {
        "id": "5HOILGeIcQp_",
        "colab_type": "code",
        "outputId": "8727f3d7-a2fd-4c00-b8e3-77ea070fd402",
        "colab": {
          "base_uri": "https://localhost:8080/",
          "height": 527
        }
      },
      "source": [
        "list(nbh_profiles[nbh_profiles['Topic']=='Highest certificate, diploma or degree']['Characteristic'])"
      ],
      "execution_count": 0,
      "outputs": [
        {
          "output_type": "execute_result",
          "data": {
            "text/plain": [
              "[\"      Master's degree\",\n",
              " '  Postsecondary certificate, diploma or degree',\n",
              " '    Apprenticeship or trades certificate or diploma',\n",
              " 'Total - Highest certificate, diploma or degree for the population aged 15 years and over in private households - 25% sample data',\n",
              " '  No certificate, diploma or degree',\n",
              " '  Secondary (high) school diploma or equivalency certificate',\n",
              " '      Trades certificate or diploma other than Certificate of Apprenticeship or Certificate of Qualification',\n",
              " '      Certificate of Apprenticeship or Certificate of Qualification',\n",
              " '    College, CEGEP or other non-university certificate or diploma',\n",
              " '    University certificate or diploma below bachelor level',\n",
              " '    University certificate, diploma or degree at bachelor level or above',\n",
              " \"      Bachelor's degree\",\n",
              " '      University certificate or diploma above bachelor level',\n",
              " '      Degree in medicine, dentistry, veterinary medicine or optometry',\n",
              " '      Earned doctorate',\n",
              " 'Total - Highest certificate, diploma or degree for the population aged 25 to 64 years in private households - 25% sample data',\n",
              " '  No certificate, diploma or degree',\n",
              " '  Secondary (high) school diploma or equivalency certificate',\n",
              " '  Postsecondary certificate, diploma or degree',\n",
              " '    Apprenticeship or trades certificate or diploma',\n",
              " '      Trades certificate or diploma other than Certificate of Apprenticeship or Certificate of Qualification',\n",
              " \"      Master's degree\",\n",
              " '      Certificate of Apprenticeship or Certificate of Qualification',\n",
              " '    College, CEGEP or other non-university certificate or diploma',\n",
              " '    University certificate or diploma below bachelor level',\n",
              " '    University certificate, diploma or degree at bachelor level or above',\n",
              " \"      Bachelor's degree\",\n",
              " '      University certificate or diploma above bachelor level',\n",
              " '      Degree in medicine, dentistry, veterinary medicine or optometry',\n",
              " '      Earned doctorate']"
            ]
          },
          "metadata": {
            "tags": []
          },
          "execution_count": 13
        }
      ]
    },
    {
      "cell_type": "code",
      "metadata": {
        "id": "hadRLgh2wKM7",
        "colab_type": "code",
        "colab": {}
      },
      "source": [
        "education_2011 = nbh_profiles_2011[(nbh_profiles_2011['Topic']=='Highest certificate, diploma or degree')].drop(columns=['Category', 'Topic', 'City of Toronto'])\n",
        "education_2016 = nbh_profiles[(nbh_profiles['Topic']=='Highest certificate, diploma or degree')].drop(columns=['_id', 'Category', 'Topic', 'Data Source', 'City of Toronto'])"
      ],
      "execution_count": 0,
      "outputs": []
    },
    {
      "cell_type": "code",
      "metadata": {
        "id": "QE2nDlv9wQ1d",
        "colab_type": "code",
        "colab": {}
      },
      "source": [
        "idx_2011 = education_2011[education_2011['Attribute'] == 'Total population aged 25 to 64 years by highest certificate, diploma or degree'].index\n",
        "education_2011 = education_2011.loc[idx_2011[0]+1:]\n",
        "education_2011.set_index('Attribute', inplace=True)\n",
        "education_2011_clean = education_2011.T[['  No certificate, diploma or degree', \n",
        "                                       '  High school diploma or equivalent', \n",
        "                                       '    Apprenticeship or trades certificate or diploma', \n",
        "                                       '    College, CEGEP or other non-university certificate or diploma', \n",
        "                                       '    University certificate or diploma below bachelor level',\n",
        "                                       '    University certificate, diploma or degree at bachelor level or above']]"
      ],
      "execution_count": 0,
      "outputs": []
    },
    {
      "cell_type": "code",
      "metadata": {
        "id": "pCZ6_7VfwTbG",
        "colab_type": "code",
        "colab": {}
      },
      "source": [
        "idx_2016 = education_2016[education_2016['Characteristic'] == 'Total - Highest certificate, diploma or degree for the population aged 25 to 64 years in private households - 25% sample data'].index\n",
        "education_2016 = education_2016.loc[idx_2016[0]+1:]\n",
        "education_2016.set_index('Characteristic', inplace=True)\n",
        "education_2016_clean = education_2016.T[['  No certificate, diploma or degree', \n",
        "                                       '  Secondary (high) school diploma or equivalency certificate', \n",
        "                                       '    Apprenticeship or trades certificate or diploma', \n",
        "                                       '    College, CEGEP or other non-university certificate or diploma', \n",
        "                                       '    University certificate or diploma below bachelor level',\n",
        "                                       '    University certificate, diploma or degree at bachelor level or above']]"
      ],
      "execution_count": 0,
      "outputs": []
    },
    {
      "cell_type": "code",
      "metadata": {
        "id": "DQ77wNPFwcbo",
        "colab_type": "code",
        "colab": {}
      },
      "source": [
        "education_2011_clean.sort_index(inplace=True)\n",
        "education_2016_clean.sort_index(inplace=True)"
      ],
      "execution_count": 0,
      "outputs": []
    },
    {
      "cell_type": "code",
      "metadata": {
        "id": "EtYHcD37wdn4",
        "colab_type": "code",
        "colab": {}
      },
      "source": [
        "education_2016_clean = education_2016_clean.applymap(atoi)"
      ],
      "execution_count": 0,
      "outputs": []
    },
    {
      "cell_type": "code",
      "metadata": {
        "id": "sZYuOztQw5Gl",
        "colab_type": "code",
        "colab": {}
      },
      "source": [
        "cleaned = {'2011': education_2011_clean, '2016': education_2016_clean}"
      ],
      "execution_count": 0,
      "outputs": []
    },
    {
      "cell_type": "markdown",
      "metadata": {
        "id": "kmSvGTznxLVP",
        "colab_type": "text"
      },
      "source": [
        "## Build Census datasets"
      ]
    },
    {
      "cell_type": "code",
      "metadata": {
        "id": "48J_0qfUwsvZ",
        "colab_type": "code",
        "colab": {}
      },
      "source": [
        "# Build Census datasets\n",
        "educations = {}\n",
        "for year in cleaned:\n",
        "  education = cleaned[year]\n",
        "  educations[year] = education.div(education.sum(axis=1), axis=0) # Normalize to census proportions\n",
        "  educations[year].to_csv(DRIVE_PATH.joinpath('education_'+str(year)+'.csv'))"
      ],
      "execution_count": 0,
      "outputs": []
    },
    {
      "cell_type": "markdown",
      "metadata": {
        "id": "Cb_q_9zDIxom",
        "colab_type": "text"
      },
      "source": [
        "## Load Built Census datasets"
      ]
    },
    {
      "cell_type": "code",
      "metadata": {
        "id": "jAwtOk-zIxCn",
        "colab_type": "code",
        "colab": {}
      },
      "source": [
        "educations = {}\n",
        "\n",
        "for year in years:\n",
        "  educations[year] = pd.read_csv(DRIVE_PATH.joinpath('education_{}.csv'.format(year)))\n",
        "  educations[year].set_index('Unnamed: 0', inplace=True)"
      ],
      "execution_count": 0,
      "outputs": []
    },
    {
      "cell_type": "markdown",
      "metadata": {
        "id": "FtT3yMRfxfY5",
        "colab_type": "text"
      },
      "source": [
        "# Predicting Census Change\n",
        "\n",
        "Census Change prediction is evaluated with Mean Total Absolute Error:"
      ]
    },
    {
      "cell_type": "markdown",
      "metadata": {
        "id": "PbBZZj91qKMy",
        "colab_type": "text"
      },
      "source": [
        "$Mean Total Absolute Error = $\n",
        "\n",
        "$\\frac{1}{\\#Neighbourhoods}\\sum_{Neighbourhoods} \\sum_{categories} |Actual Proportion - Predicted Proportion|$\n",
        "\n",
        "\n",
        "\n",
        "\n",
        "$categories \\in \\{\\text{No degree, High school diploma, Apprenticeship certificate, College diploma, University certificate below bachelor level, University degree above bachelor level}\\}$ "
      ]
    },
    {
      "cell_type": "markdown",
      "metadata": {
        "id": "34dueeBjxz6o",
        "colab_type": "text"
      },
      "source": [
        "### Train-test split\n",
        "\n",
        "Split by neighbourhoods"
      ]
    },
    {
      "cell_type": "code",
      "metadata": {
        "id": "YzTuAGFwx4EU",
        "colab_type": "code",
        "colab": {}
      },
      "source": [
        "train_val_neighbourhoods, test_neighbourhoods = train_test_split(range(0, 140), test_size=0.15)\n",
        "\n",
        "all_trains, all_vals = [], [] #Do random splits to cross validate\n",
        "folds = 5\n",
        "\n",
        "for i in range(folds):\n",
        "  train_neighbourhoods, val_neighbourhoods = train_test_split(train_val_neighbourhoods, test_size=0.30)\n",
        "  all_trains.append(train_neighbourhoods)\n",
        "  all_vals.append(val_neighbourhoods)"
      ],
      "execution_count": 0,
      "outputs": []
    },
    {
      "cell_type": "markdown",
      "metadata": {
        "id": "dY9kM4UO-8pA",
        "colab_type": "text"
      },
      "source": [
        "### Baseline-Predicting no change"
      ]
    },
    {
      "cell_type": "code",
      "metadata": {
        "id": "VLrDG6hs-_Gq",
        "colab_type": "code",
        "colab": {}
      },
      "source": [
        "dummy_data = educations[2011].values\n",
        "actual_data = educations[2016].values"
      ],
      "execution_count": 0,
      "outputs": []
    },
    {
      "cell_type": "code",
      "metadata": {
        "id": "XuyEnG-Q8yGn",
        "colab_type": "code",
        "outputId": "dce9f3af-df5a-4271-ca43-e3818c16f044",
        "colab": {
          "base_uri": "https://localhost:8080/",
          "height": 34
        }
      },
      "source": [
        "# Training Error\n",
        "np.abs(dummy_data[train_val_neighbourhoods] - actual_data[train_val_neighbourhoods]).sum(axis=1).mean()"
      ],
      "execution_count": 0,
      "outputs": [
        {
          "output_type": "execute_result",
          "data": {
            "text/plain": [
              "0.11922240025291206"
            ]
          },
          "metadata": {
            "tags": []
          },
          "execution_count": 150
        }
      ]
    },
    {
      "cell_type": "code",
      "metadata": {
        "id": "t4a7r_zD82P2",
        "colab_type": "code",
        "outputId": "0456ff59-20a0-4b15-ee6b-5dbc62ac5e61",
        "colab": {
          "base_uri": "https://localhost:8080/",
          "height": 34
        }
      },
      "source": [
        "# Testing Error\n",
        "np.abs(dummy_data[test_neighbourhoods] - actual_data[test_neighbourhoods]).sum(axis=1).mean()"
      ],
      "execution_count": 0,
      "outputs": [
        {
          "output_type": "execute_result",
          "data": {
            "text/plain": [
              "0.12119099541854524"
            ]
          },
          "metadata": {
            "tags": []
          },
          "execution_count": 151
        }
      ]
    },
    {
      "cell_type": "markdown",
      "metadata": {
        "id": "5675IoiJxhit",
        "colab_type": "text"
      },
      "source": [
        "## Raw TF-IDF"
      ]
    },
    {
      "cell_type": "markdown",
      "metadata": {
        "id": "UB2B8NFXbVKy",
        "colab_type": "text"
      },
      "source": [
        "### Load built csvs"
      ]
    },
    {
      "cell_type": "code",
      "metadata": {
        "id": "dmEZ_P7n_-3J",
        "colab_type": "code",
        "colab": {}
      },
      "source": [
        "reviews_all = {}\n",
        "for year in [2011, 2016]:\n",
        "  reviews_all[year] = pd.read_csv(DRIVE_PATH.joinpath('neighbourhood_reviews_{}.csv'.format(year)))\n",
        "  reviews_all[year].set_index('Unnamed: 0', inplace=True)\n",
        "\n",
        "reviews = {}\n",
        "for year in [2011, 2016]:\n",
        "  reviews[year] = ReviewsVector(reviews_all[year].T.values)"
      ],
      "execution_count": 0,
      "outputs": []
    },
    {
      "cell_type": "code",
      "metadata": {
        "id": "n1-Ww885bO0f",
        "colab_type": "code",
        "colab": {}
      },
      "source": [
        "delta_census = educations[2016].values - educations[2011].values\n",
        "delta_reviews = (reviews_all[2016].values - reviews_all[2011].values).T"
      ],
      "execution_count": 0,
      "outputs": []
    },
    {
      "cell_type": "markdown",
      "metadata": {
        "id": "9945yCARSghw",
        "colab_type": "text"
      },
      "source": [
        "### Multi-target Linear Regression"
      ]
    },
    {
      "cell_type": "code",
      "metadata": {
        "id": "pwRxg-p1SYBA",
        "colab_type": "code",
        "outputId": "48632ec4-5c32-46cb-84de-184490efba92",
        "colab": {
          "base_uri": "https://localhost:8080/",
          "height": 605
        }
      },
      "source": [
        "lr = RidgeCV(cv=5)\n",
        "lr.fit(delta_reviews[train_val_neighbourhoods], delta_census[train_val_neighbourhoods])"
      ],
      "execution_count": 0,
      "outputs": [
        {
          "output_type": "stream",
          "text": [
            "/usr/local/lib/python3.6/dist-packages/sklearn/base.py:434: FutureWarning: The default value of multioutput (not exposed in score method) will change from 'variance_weighted' to 'uniform_average' in 0.23 to keep consistent with 'metrics.r2_score'. To specify the default value manually and avoid the warning, please either call 'metrics.r2_score' directly or make a custom scorer with 'metrics.make_scorer' (the built-in scorer 'r2' uses multioutput='uniform_average').\n",
            "  \"multioutput='uniform_average').\", FutureWarning)\n",
            "/usr/local/lib/python3.6/dist-packages/sklearn/base.py:434: FutureWarning: The default value of multioutput (not exposed in score method) will change from 'variance_weighted' to 'uniform_average' in 0.23 to keep consistent with 'metrics.r2_score'. To specify the default value manually and avoid the warning, please either call 'metrics.r2_score' directly or make a custom scorer with 'metrics.make_scorer' (the built-in scorer 'r2' uses multioutput='uniform_average').\n",
            "  \"multioutput='uniform_average').\", FutureWarning)\n",
            "/usr/local/lib/python3.6/dist-packages/sklearn/base.py:434: FutureWarning: The default value of multioutput (not exposed in score method) will change from 'variance_weighted' to 'uniform_average' in 0.23 to keep consistent with 'metrics.r2_score'. To specify the default value manually and avoid the warning, please either call 'metrics.r2_score' directly or make a custom scorer with 'metrics.make_scorer' (the built-in scorer 'r2' uses multioutput='uniform_average').\n",
            "  \"multioutput='uniform_average').\", FutureWarning)\n",
            "/usr/local/lib/python3.6/dist-packages/sklearn/base.py:434: FutureWarning: The default value of multioutput (not exposed in score method) will change from 'variance_weighted' to 'uniform_average' in 0.23 to keep consistent with 'metrics.r2_score'. To specify the default value manually and avoid the warning, please either call 'metrics.r2_score' directly or make a custom scorer with 'metrics.make_scorer' (the built-in scorer 'r2' uses multioutput='uniform_average').\n",
            "  \"multioutput='uniform_average').\", FutureWarning)\n",
            "/usr/local/lib/python3.6/dist-packages/sklearn/base.py:434: FutureWarning: The default value of multioutput (not exposed in score method) will change from 'variance_weighted' to 'uniform_average' in 0.23 to keep consistent with 'metrics.r2_score'. To specify the default value manually and avoid the warning, please either call 'metrics.r2_score' directly or make a custom scorer with 'metrics.make_scorer' (the built-in scorer 'r2' uses multioutput='uniform_average').\n",
            "  \"multioutput='uniform_average').\", FutureWarning)\n",
            "/usr/local/lib/python3.6/dist-packages/sklearn/base.py:434: FutureWarning: The default value of multioutput (not exposed in score method) will change from 'variance_weighted' to 'uniform_average' in 0.23 to keep consistent with 'metrics.r2_score'. To specify the default value manually and avoid the warning, please either call 'metrics.r2_score' directly or make a custom scorer with 'metrics.make_scorer' (the built-in scorer 'r2' uses multioutput='uniform_average').\n",
            "  \"multioutput='uniform_average').\", FutureWarning)\n",
            "/usr/local/lib/python3.6/dist-packages/sklearn/base.py:434: FutureWarning: The default value of multioutput (not exposed in score method) will change from 'variance_weighted' to 'uniform_average' in 0.23 to keep consistent with 'metrics.r2_score'. To specify the default value manually and avoid the warning, please either call 'metrics.r2_score' directly or make a custom scorer with 'metrics.make_scorer' (the built-in scorer 'r2' uses multioutput='uniform_average').\n",
            "  \"multioutput='uniform_average').\", FutureWarning)\n",
            "/usr/local/lib/python3.6/dist-packages/sklearn/base.py:434: FutureWarning: The default value of multioutput (not exposed in score method) will change from 'variance_weighted' to 'uniform_average' in 0.23 to keep consistent with 'metrics.r2_score'. To specify the default value manually and avoid the warning, please either call 'metrics.r2_score' directly or make a custom scorer with 'metrics.make_scorer' (the built-in scorer 'r2' uses multioutput='uniform_average').\n",
            "  \"multioutput='uniform_average').\", FutureWarning)\n",
            "/usr/local/lib/python3.6/dist-packages/sklearn/base.py:434: FutureWarning: The default value of multioutput (not exposed in score method) will change from 'variance_weighted' to 'uniform_average' in 0.23 to keep consistent with 'metrics.r2_score'. To specify the default value manually and avoid the warning, please either call 'metrics.r2_score' directly or make a custom scorer with 'metrics.make_scorer' (the built-in scorer 'r2' uses multioutput='uniform_average').\n",
            "  \"multioutput='uniform_average').\", FutureWarning)\n",
            "/usr/local/lib/python3.6/dist-packages/sklearn/base.py:434: FutureWarning: The default value of multioutput (not exposed in score method) will change from 'variance_weighted' to 'uniform_average' in 0.23 to keep consistent with 'metrics.r2_score'. To specify the default value manually and avoid the warning, please either call 'metrics.r2_score' directly or make a custom scorer with 'metrics.make_scorer' (the built-in scorer 'r2' uses multioutput='uniform_average').\n",
            "  \"multioutput='uniform_average').\", FutureWarning)\n",
            "/usr/local/lib/python3.6/dist-packages/sklearn/base.py:434: FutureWarning: The default value of multioutput (not exposed in score method) will change from 'variance_weighted' to 'uniform_average' in 0.23 to keep consistent with 'metrics.r2_score'. To specify the default value manually and avoid the warning, please either call 'metrics.r2_score' directly or make a custom scorer with 'metrics.make_scorer' (the built-in scorer 'r2' uses multioutput='uniform_average').\n",
            "  \"multioutput='uniform_average').\", FutureWarning)\n",
            "/usr/local/lib/python3.6/dist-packages/sklearn/base.py:434: FutureWarning: The default value of multioutput (not exposed in score method) will change from 'variance_weighted' to 'uniform_average' in 0.23 to keep consistent with 'metrics.r2_score'. To specify the default value manually and avoid the warning, please either call 'metrics.r2_score' directly or make a custom scorer with 'metrics.make_scorer' (the built-in scorer 'r2' uses multioutput='uniform_average').\n",
            "  \"multioutput='uniform_average').\", FutureWarning)\n",
            "/usr/local/lib/python3.6/dist-packages/sklearn/base.py:434: FutureWarning: The default value of multioutput (not exposed in score method) will change from 'variance_weighted' to 'uniform_average' in 0.23 to keep consistent with 'metrics.r2_score'. To specify the default value manually and avoid the warning, please either call 'metrics.r2_score' directly or make a custom scorer with 'metrics.make_scorer' (the built-in scorer 'r2' uses multioutput='uniform_average').\n",
            "  \"multioutput='uniform_average').\", FutureWarning)\n",
            "/usr/local/lib/python3.6/dist-packages/sklearn/base.py:434: FutureWarning: The default value of multioutput (not exposed in score method) will change from 'variance_weighted' to 'uniform_average' in 0.23 to keep consistent with 'metrics.r2_score'. To specify the default value manually and avoid the warning, please either call 'metrics.r2_score' directly or make a custom scorer with 'metrics.make_scorer' (the built-in scorer 'r2' uses multioutput='uniform_average').\n",
            "  \"multioutput='uniform_average').\", FutureWarning)\n",
            "/usr/local/lib/python3.6/dist-packages/sklearn/base.py:434: FutureWarning: The default value of multioutput (not exposed in score method) will change from 'variance_weighted' to 'uniform_average' in 0.23 to keep consistent with 'metrics.r2_score'. To specify the default value manually and avoid the warning, please either call 'metrics.r2_score' directly or make a custom scorer with 'metrics.make_scorer' (the built-in scorer 'r2' uses multioutput='uniform_average').\n",
            "  \"multioutput='uniform_average').\", FutureWarning)\n"
          ],
          "name": "stderr"
        },
        {
          "output_type": "execute_result",
          "data": {
            "text/plain": [
              "RidgeCV(alphas=array([ 0.1,  1. , 10. ]), cv=5, fit_intercept=True,\n",
              "        gcv_mode=None, normalize=False, scoring=None, store_cv_values=False)"
            ]
          },
          "metadata": {
            "tags": []
          },
          "execution_count": 85
        }
      ]
    },
    {
      "cell_type": "code",
      "metadata": {
        "id": "KzoFFgPSSezq",
        "colab_type": "code",
        "colab": {}
      },
      "source": [
        "predicted_change = lr.predict(delta_reviews)"
      ],
      "execution_count": 0,
      "outputs": []
    },
    {
      "cell_type": "code",
      "metadata": {
        "id": "X68hopx1TU7c",
        "colab_type": "code",
        "outputId": "d7ffe43b-4385-4ef3-bc43-f66c9d71dcde",
        "colab": {
          "base_uri": "https://localhost:8080/",
          "height": 34
        }
      },
      "source": [
        "# Training Error\n",
        "np.abs((predicted_change[train_val_neighbourhoods]-delta_census[train_val_neighbourhoods])).sum(axis=1).mean()"
      ],
      "execution_count": 0,
      "outputs": [
        {
          "output_type": "execute_result",
          "data": {
            "text/plain": [
              "0.07842392340340885"
            ]
          },
          "metadata": {
            "tags": []
          },
          "execution_count": 88
        }
      ]
    },
    {
      "cell_type": "code",
      "metadata": {
        "id": "emFk-RbVTSLh",
        "colab_type": "code",
        "outputId": "98270767-4d69-4069-cff5-c511d3202d60",
        "colab": {
          "base_uri": "https://localhost:8080/",
          "height": 34
        }
      },
      "source": [
        "# Validation Error\n",
        "np.abs((predicted_change[test_neighbourhoods]-delta_census[test_neighbourhoods])).sum(axis=1).mean()"
      ],
      "execution_count": 0,
      "outputs": [
        {
          "output_type": "execute_result",
          "data": {
            "text/plain": [
              "0.0845201313863003"
            ]
          },
          "metadata": {
            "tags": []
          },
          "execution_count": 87
        }
      ]
    },
    {
      "cell_type": "markdown",
      "metadata": {
        "id": "kkbhD73ATaS5",
        "colab_type": "text"
      },
      "source": [
        "### Multi-target  Non-Linear Regression"
      ]
    },
    {
      "cell_type": "code",
      "metadata": {
        "id": "SSq-AIdQTfVK",
        "colab_type": "code",
        "colab": {}
      },
      "source": [
        "class Decoder_C(nn.Module):\n",
        "    def __init__(self, sizes, softmax=False):\n",
        "        super(Decoder_C, self).__init__()\n",
        "        sizes = sizes[::-1]\n",
        "        layers_de = OrderedDict()\n",
        "\n",
        "        for i in range(len(sizes)-2):\n",
        "            layer_name = 'linear{}'.format(i+1)\n",
        "            act_name = 'activation{}'.format(i+1)\n",
        "            layers_de[layer_name] = nn.Linear(sizes[i], sizes[i+1])\n",
        "            layers_de[act_name] = nn.Tanh()\n",
        "\n",
        "        layers_de['linear{}'.format(len(sizes)-1)] = nn.Linear(sizes[-2], sizes[-1])\n",
        "        # layers_de['softmax'] = nn.Softmax(dim=1) # row sum to 1\n",
        "        layers_de['tanh'] = nn.Tanh()\n",
        "        if softmax:\n",
        "          layers_de['softmax'] = nn.Softmax(dim=1)\n",
        "        self.decoder = nn.Sequential(layers_de)\n",
        "\n",
        "    def forward(self, encoded):\n",
        "        return self.decoder(encoded) "
      ],
      "execution_count": 0,
      "outputs": []
    },
    {
      "cell_type": "code",
      "metadata": {
        "id": "-YOFZyePTvJ2",
        "colab_type": "code",
        "colab": {}
      },
      "source": [
        "def criterion_c(data, decoded):\n",
        "    mse_loss = nn.MSELoss()\n",
        "    loss = mse_loss(data, decoded)\n",
        "    return loss"
      ],
      "execution_count": 0,
      "outputs": []
    },
    {
      "cell_type": "code",
      "metadata": {
        "id": "EEp0bW7CTyEn",
        "colab_type": "code",
        "colab": {}
      },
      "source": [
        "def train_decoder(decoder, dataset, train_indices, test_indices, name='edu_auto'):\n",
        "  optimizer_de = optim.Adam(decoder.parameters(), lr=0.001)\n",
        "  scheduler_de = optim.lr_scheduler.ReduceLROnPlateau(optimizer_de, 'min', patience=20, min_lr=min_lr, factor=0.1)\n",
        "\n",
        "  def process_function(engine, batch):\n",
        "    decoder.train()\n",
        "    optimizer_de.zero_grad()\n",
        "    decoded = decoder(batch['reviews_embedding'])\n",
        "    loss = criterion_c(decoded, batch['data'])\n",
        "    loss.backward()\n",
        "\n",
        "    optimizer_de.step()\n",
        "    return loss.item()\n",
        "  \n",
        "\n",
        "  def eval_function(engine, batch):\n",
        "    decoder.eval()\n",
        "\n",
        "    with torch.no_grad():\n",
        "        decoded = decoder(batch['reviews_embedding'])\n",
        "        return decoded, batch['data']\n",
        "  \n",
        "  trainer = Engine(process_function)\n",
        "  train_evaluator = Engine(eval_function)\n",
        "  validation_evaluator = Engine(eval_function)\n",
        "\n",
        "  metric = Loss(criterion_c)\n",
        "  metric.attach(train_evaluator, 'loss')\n",
        "  metric.attach(validation_evaluator, 'loss')\n",
        "\n",
        "  training_losses = []\n",
        "  validation_losses = []\n",
        "\n",
        "  @trainer.on(Events.EPOCH_COMPLETED)\n",
        "  def log_training_results(engine):\n",
        "      train_evaluator.run(train_iterator)\n",
        "      metrics = train_evaluator.state.metrics\n",
        "      avg_loss = metrics['loss']    \n",
        "      training_losses.append(avg_loss)\n",
        "      print(\"Training Results - Epoch: {}  Avg loss: {:.10f}\"\n",
        "           .format(engine.state.epoch, avg_loss))\n",
        "      \n",
        "  def log_validation_results(engine):\n",
        "      validation_evaluator.run(valid_iterator)\n",
        "      metrics = validation_evaluator.state.metrics\n",
        "      avg_loss = metrics['loss']\n",
        "      validation_losses.append(avg_loss)\n",
        "\n",
        "      print(\"Validation Results - Epoch: {}  Avg loss: {:.10f}\"\n",
        "            .format(engine.state.epoch, avg_loss))\n",
        "\n",
        "  trainer.add_event_handler(Events.EPOCH_COMPLETED, log_validation_results)\n",
        "\n",
        "  # Reduce on Plateau\n",
        "  def average_loss(engine):\n",
        "    print(\"Current lr: {}\".format(optimizer_de.param_groups[0]['lr']))\n",
        "    average_loss = engine.state.metrics['loss']\n",
        "    scheduler_de.step(average_loss)\n",
        "\n",
        "  validation_evaluator.add_event_handler(Events.COMPLETED, average_loss)\n",
        "  \n",
        "  # Early Stopping\n",
        "  def score_function(engine):\n",
        "      val_loss = engine.state.metrics['loss']\n",
        "      return -val_loss\n",
        "\n",
        "  handler = EarlyStopping(patience=30, score_function=score_function, trainer=trainer)\n",
        "  validation_evaluator.add_event_handler(Events.COMPLETED, handler)\n",
        "\n",
        "  # Model Checkpoint\n",
        "  checkpointer = ModelCheckpoint(str(DRIVE_PATH.joinpath('models')), name, n_saved=1, create_dir=False, save_as_state_dict=True, require_empty=False)\n",
        "  trainer.add_event_handler(Events.EPOCH_COMPLETED, checkpointer, {'decoder_c': decoder})\n",
        "\n",
        "  train_iterator = Data.DataLoader(dataset, batch_size=1, drop_last=False, sampler=Data.SubsetRandomSampler(train_indices))\n",
        "  valid_iterator = Data.DataLoader(dataset, batch_size=1, drop_last=False, sampler=Data.SubsetRandomSampler(test_indices))\n",
        "\n",
        "  trainer.run(train_iterator, max_epochs=1000)\n",
        "  return training_losses, validation_losses"
      ],
      "execution_count": 0,
      "outputs": []
    },
    {
      "cell_type": "code",
      "metadata": {
        "id": "eSxYLT6SURpv",
        "colab_type": "code",
        "colab": {}
      },
      "source": [
        "lr = 0.001\n",
        "patience = 20\n",
        "min_lr = 0.00001"
      ],
      "execution_count": 0,
      "outputs": []
    },
    {
      "cell_type": "markdown",
      "metadata": {
        "id": "6pvNScaFT514",
        "colab_type": "text"
      },
      "source": [
        "#### With one layer"
      ]
    },
    {
      "cell_type": "code",
      "metadata": {
        "id": "yv0Bx5ryT2nj",
        "colab_type": "code",
        "colab": {}
      },
      "source": [
        "census_data = CensusVector(delta_census, delta_reviews)\n",
        "\n",
        "sizes_c = [educations[2011].shape[1], delta_reviews.shape[1]]\n",
        "decoder_c = Decoder_C(sizes_c)\n",
        "\n",
        "if use_cuda and torch.cuda.is_available():\n",
        "    decoder_c.cuda()"
      ],
      "execution_count": 0,
      "outputs": []
    },
    {
      "cell_type": "code",
      "metadata": {
        "id": "ceWeX7xvUTwm",
        "colab_type": "code",
        "outputId": "8df49667-65dc-4ec7-f81e-e8a1371f4dd6",
        "colab": {
          "base_uri": "https://localhost:8080/",
          "height": 123
        }
      },
      "source": [
        "decoder_c"
      ],
      "execution_count": 0,
      "outputs": [
        {
          "output_type": "execute_result",
          "data": {
            "text/plain": [
              "Decoder_C(\n",
              "  (decoder): Sequential(\n",
              "    (linear1): Linear(in_features=1024, out_features=6, bias=True)\n",
              "    (tanh): Tanh()\n",
              "  )\n",
              ")"
            ]
          },
          "metadata": {
            "tags": []
          },
          "execution_count": 58
        }
      ]
    },
    {
      "cell_type": "code",
      "metadata": {
        "id": "A9js1V34UXd9",
        "colab_type": "code",
        "outputId": "3efcccc7-6c91-456e-fb0a-0c636979ffe6",
        "colab": {
          "base_uri": "https://localhost:8080/",
          "height": 1000
        }
      },
      "source": [
        "validation_losses, training_losses = [], []\n",
        "for i in range(folds):\n",
        "  print('FOLD', i)\n",
        "  t, v = train_decoder(decoder_c, census_data, all_trains[i], all_vals[i], name='edu_raw')\n",
        "  training_losses.extend(t)\n",
        "  validation_losses.extend(v)"
      ],
      "execution_count": 0,
      "outputs": [
        {
          "output_type": "stream",
          "text": [
            "FOLD 0\n",
            "Training Results - Epoch: 1  Avg loss: 0.0003236035\n",
            "Current lr: 0.001\n",
            "Validation Results - Epoch: 1  Avg loss: 0.0004244222\n",
            "Training Results - Epoch: 2  Avg loss: 0.0002803895\n",
            "Current lr: 0.001\n",
            "Validation Results - Epoch: 2  Avg loss: 0.0004261675\n",
            "Training Results - Epoch: 3  Avg loss: 0.0002455078\n",
            "Current lr: 0.001\n",
            "Validation Results - Epoch: 3  Avg loss: 0.0004072857\n",
            "Training Results - Epoch: 4  Avg loss: 0.0002228962\n",
            "Current lr: 0.001\n",
            "Validation Results - Epoch: 4  Avg loss: 0.0004349561\n",
            "Training Results - Epoch: 5  Avg loss: 0.0002029957\n",
            "Current lr: 0.001\n",
            "Validation Results - Epoch: 5  Avg loss: 0.0004025078\n",
            "Training Results - Epoch: 6  Avg loss: 0.0001867679\n",
            "Current lr: 0.001\n",
            "Validation Results - Epoch: 6  Avg loss: 0.0004189778\n",
            "Training Results - Epoch: 7  Avg loss: 0.0001729890\n",
            "Current lr: 0.001\n",
            "Validation Results - Epoch: 7  Avg loss: 0.0004189712\n",
            "Training Results - Epoch: 8  Avg loss: 0.0001633765\n",
            "Current lr: 0.001\n",
            "Validation Results - Epoch: 8  Avg loss: 0.0004005916\n",
            "Training Results - Epoch: 9  Avg loss: 0.0001512894\n",
            "Current lr: 0.001\n",
            "Validation Results - Epoch: 9  Avg loss: 0.0004228743\n",
            "Training Results - Epoch: 10  Avg loss: 0.0001409692\n",
            "Current lr: 0.001\n",
            "Validation Results - Epoch: 10  Avg loss: 0.0004172818\n",
            "Training Results - Epoch: 11  Avg loss: 0.0001321050\n",
            "Current lr: 0.001\n",
            "Validation Results - Epoch: 11  Avg loss: 0.0004224167\n",
            "Training Results - Epoch: 12  Avg loss: 0.0001278375\n",
            "Current lr: 0.001\n",
            "Validation Results - Epoch: 12  Avg loss: 0.0004013324\n",
            "Training Results - Epoch: 13  Avg loss: 0.0001204587\n",
            "Current lr: 0.001\n",
            "Validation Results - Epoch: 13  Avg loss: 0.0004345806\n",
            "Training Results - Epoch: 14  Avg loss: 0.0001132997\n",
            "Current lr: 0.001\n",
            "Validation Results - Epoch: 14  Avg loss: 0.0004295403\n",
            "Training Results - Epoch: 15  Avg loss: 0.0001079606\n",
            "Current lr: 0.001\n",
            "Validation Results - Epoch: 15  Avg loss: 0.0004142199\n",
            "Training Results - Epoch: 16  Avg loss: 0.0001037284\n",
            "Current lr: 0.001\n",
            "Validation Results - Epoch: 16  Avg loss: 0.0004446079\n",
            "Training Results - Epoch: 17  Avg loss: 0.0000973925\n",
            "Current lr: 0.001\n",
            "Validation Results - Epoch: 17  Avg loss: 0.0004227791\n",
            "Training Results - Epoch: 18  Avg loss: 0.0000934624\n",
            "Current lr: 0.001\n",
            "Validation Results - Epoch: 18  Avg loss: 0.0004487555\n",
            "Training Results - Epoch: 19  Avg loss: 0.0000872947\n",
            "Current lr: 0.001\n",
            "Validation Results - Epoch: 19  Avg loss: 0.0004449816\n",
            "Training Results - Epoch: 20  Avg loss: 0.0000842794\n",
            "Current lr: 0.001\n",
            "Validation Results - Epoch: 20  Avg loss: 0.0004491314\n",
            "Training Results - Epoch: 21  Avg loss: 0.0000813887\n",
            "Current lr: 0.001\n",
            "Validation Results - Epoch: 21  Avg loss: 0.0004556931\n",
            "Training Results - Epoch: 22  Avg loss: 0.0000773961\n",
            "Current lr: 0.001\n",
            "Validation Results - Epoch: 22  Avg loss: 0.0004406979\n",
            "Training Results - Epoch: 23  Avg loss: 0.0000720516\n",
            "Current lr: 0.001\n",
            "Validation Results - Epoch: 23  Avg loss: 0.0004446407\n",
            "Training Results - Epoch: 24  Avg loss: 0.0000717260\n",
            "Current lr: 0.001\n",
            "Validation Results - Epoch: 24  Avg loss: 0.0004421029\n",
            "Training Results - Epoch: 25  Avg loss: 0.0000661988\n",
            "Current lr: 0.001\n",
            "Validation Results - Epoch: 25  Avg loss: 0.0004710314\n",
            "Training Results - Epoch: 26  Avg loss: 0.0000623865\n",
            "Current lr: 0.001\n",
            "Validation Results - Epoch: 26  Avg loss: 0.0004588031\n",
            "Training Results - Epoch: 27  Avg loss: 0.0000594829\n",
            "Current lr: 0.001\n",
            "Validation Results - Epoch: 27  Avg loss: 0.0004668275\n",
            "Training Results - Epoch: 28  Avg loss: 0.0000566215\n",
            "Current lr: 0.001\n",
            "Validation Results - Epoch: 28  Avg loss: 0.0004721881\n",
            "Training Results - Epoch: 29  Avg loss: 0.0000538058\n",
            "Current lr: 0.001\n",
            "Validation Results - Epoch: 29  Avg loss: 0.0004745968\n",
            "Training Results - Epoch: 30  Avg loss: 0.0000529210\n",
            "Current lr: 0.0001\n",
            "Validation Results - Epoch: 30  Avg loss: 0.0004729313\n",
            "Training Results - Epoch: 31  Avg loss: 0.0000525345\n",
            "Current lr: 0.0001\n",
            "Validation Results - Epoch: 31  Avg loss: 0.0004722216\n",
            "Training Results - Epoch: 32  Avg loss: 0.0000522650\n",
            "Current lr: 0.0001\n",
            "Validation Results - Epoch: 32  Avg loss: 0.0004737373\n",
            "Training Results - Epoch: 33  Avg loss: 0.0000518566\n",
            "Current lr: 0.0001\n",
            "Validation Results - Epoch: 33  Avg loss: 0.0004701690\n",
            "Training Results - Epoch: 34  Avg loss: 0.0000516197\n",
            "Current lr: 0.0001\n",
            "Validation Results - Epoch: 34  Avg loss: 0.0004737138\n",
            "Training Results - Epoch: 35  Avg loss: 0.0000512180\n",
            "Current lr: 0.0001\n",
            "Validation Results - Epoch: 35  Avg loss: 0.0004715700\n",
            "Training Results - Epoch: 36  Avg loss: 0.0000509518\n",
            "Current lr: 0.0001\n",
            "Validation Results - Epoch: 36  Avg loss: 0.0004706614\n",
            "Training Results - Epoch: 37  Avg loss: 0.0000506184\n",
            "Current lr: 0.0001\n",
            "Validation Results - Epoch: 37  Avg loss: 0.0004723132\n",
            "Training Results - Epoch: 38  Avg loss: 0.0000503359\n",
            "Current lr: 0.0001\n",
            "Validation Results - Epoch: 38  Avg loss: 0.0004734568\n",
            "FOLD 1\n",
            "Training Results - Epoch: 1  Avg loss: 0.0001271607\n",
            "Current lr: 0.001\n",
            "Validation Results - Epoch: 1  Avg loss: 0.0002403424\n",
            "Training Results - Epoch: 2  Avg loss: 0.0001039036\n",
            "Current lr: 0.001\n",
            "Validation Results - Epoch: 2  Avg loss: 0.0002508137\n",
            "Training Results - Epoch: 3  Avg loss: 0.0000968742\n",
            "Current lr: 0.001\n",
            "Validation Results - Epoch: 3  Avg loss: 0.0002665786\n",
            "Training Results - Epoch: 4  Avg loss: 0.0000876216\n",
            "Current lr: 0.001\n",
            "Validation Results - Epoch: 4  Avg loss: 0.0002531432\n",
            "Training Results - Epoch: 5  Avg loss: 0.0000780920\n",
            "Current lr: 0.001\n",
            "Validation Results - Epoch: 5  Avg loss: 0.0002412842\n",
            "Training Results - Epoch: 6  Avg loss: 0.0000768124\n",
            "Current lr: 0.001\n",
            "Validation Results - Epoch: 6  Avg loss: 0.0002442105\n",
            "Training Results - Epoch: 7  Avg loss: 0.0000656729\n",
            "Current lr: 0.001\n",
            "Validation Results - Epoch: 7  Avg loss: 0.0002490640\n",
            "Training Results - Epoch: 8  Avg loss: 0.0000593257\n",
            "Current lr: 0.001\n",
            "Validation Results - Epoch: 8  Avg loss: 0.0002474944\n",
            "Training Results - Epoch: 9  Avg loss: 0.0000559101\n",
            "Current lr: 0.001\n",
            "Validation Results - Epoch: 9  Avg loss: 0.0002496472\n",
            "Training Results - Epoch: 10  Avg loss: 0.0000519362\n",
            "Current lr: 0.001\n",
            "Validation Results - Epoch: 10  Avg loss: 0.0002578881\n",
            "Training Results - Epoch: 11  Avg loss: 0.0000497844\n",
            "Current lr: 0.001\n",
            "Validation Results - Epoch: 11  Avg loss: 0.0002617566\n",
            "Training Results - Epoch: 12  Avg loss: 0.0000461541\n",
            "Current lr: 0.001\n",
            "Validation Results - Epoch: 12  Avg loss: 0.0002538260\n",
            "Training Results - Epoch: 13  Avg loss: 0.0000431935\n",
            "Current lr: 0.001\n",
            "Validation Results - Epoch: 13  Avg loss: 0.0002573097\n",
            "Training Results - Epoch: 14  Avg loss: 0.0000421104\n",
            "Current lr: 0.001\n",
            "Validation Results - Epoch: 14  Avg loss: 0.0002519643\n",
            "Training Results - Epoch: 15  Avg loss: 0.0000435534\n",
            "Current lr: 0.001\n",
            "Validation Results - Epoch: 15  Avg loss: 0.0002801738\n",
            "Training Results - Epoch: 16  Avg loss: 0.0000385663\n",
            "Current lr: 0.001\n",
            "Validation Results - Epoch: 16  Avg loss: 0.0002613472\n",
            "Training Results - Epoch: 17  Avg loss: 0.0000371709\n",
            "Current lr: 0.001\n",
            "Validation Results - Epoch: 17  Avg loss: 0.0002766909\n",
            "Training Results - Epoch: 18  Avg loss: 0.0000348726\n",
            "Current lr: 0.001\n",
            "Validation Results - Epoch: 18  Avg loss: 0.0002748406\n",
            "Training Results - Epoch: 19  Avg loss: 0.0000318666\n",
            "Current lr: 0.001\n",
            "Validation Results - Epoch: 19  Avg loss: 0.0002731496\n",
            "Training Results - Epoch: 20  Avg loss: 0.0000310739\n",
            "Current lr: 0.001\n",
            "Validation Results - Epoch: 20  Avg loss: 0.0002853826\n",
            "Training Results - Epoch: 21  Avg loss: 0.0000290878\n",
            "Current lr: 0.001\n",
            "Validation Results - Epoch: 21  Avg loss: 0.0002718248\n",
            "Training Results - Epoch: 22  Avg loss: 0.0000270376\n",
            "Current lr: 0.001\n",
            "Validation Results - Epoch: 22  Avg loss: 0.0002802293\n",
            "Training Results - Epoch: 23  Avg loss: 0.0000262109\n",
            "Current lr: 0.0001\n",
            "Validation Results - Epoch: 23  Avg loss: 0.0002789651\n",
            "Training Results - Epoch: 24  Avg loss: 0.0000257327\n",
            "Current lr: 0.0001\n",
            "Validation Results - Epoch: 24  Avg loss: 0.0002791811\n",
            "Training Results - Epoch: 25  Avg loss: 0.0000253532\n",
            "Current lr: 0.0001\n",
            "Validation Results - Epoch: 25  Avg loss: 0.0002790681\n",
            "Training Results - Epoch: 26  Avg loss: 0.0000250131\n",
            "Current lr: 0.0001\n",
            "Validation Results - Epoch: 26  Avg loss: 0.0002790677\n",
            "Training Results - Epoch: 27  Avg loss: 0.0000248238\n",
            "Current lr: 0.0001\n",
            "Validation Results - Epoch: 27  Avg loss: 0.0002775085\n",
            "Training Results - Epoch: 28  Avg loss: 0.0000245488\n",
            "Current lr: 0.0001\n",
            "Validation Results - Epoch: 28  Avg loss: 0.0002799156\n",
            "Training Results - Epoch: 29  Avg loss: 0.0000243679\n",
            "Current lr: 0.0001\n",
            "Validation Results - Epoch: 29  Avg loss: 0.0002796196\n",
            "Training Results - Epoch: 30  Avg loss: 0.0000241514\n",
            "Current lr: 0.0001\n",
            "Validation Results - Epoch: 30  Avg loss: 0.0002804231\n",
            "Training Results - Epoch: 31  Avg loss: 0.0000239993\n",
            "Current lr: 0.0001\n",
            "Validation Results - Epoch: 31  Avg loss: 0.0002802730\n",
            "FOLD 2\n",
            "Training Results - Epoch: 1  Avg loss: 0.0000668789\n",
            "Current lr: 0.001\n",
            "Validation Results - Epoch: 1  Avg loss: 0.0001319535\n",
            "Training Results - Epoch: 2  Avg loss: 0.0000558142\n",
            "Current lr: 0.001\n",
            "Validation Results - Epoch: 2  Avg loss: 0.0001344352\n",
            "Training Results - Epoch: 3  Avg loss: 0.0000451927\n",
            "Current lr: 0.001\n",
            "Validation Results - Epoch: 3  Avg loss: 0.0001308559\n",
            "Training Results - Epoch: 4  Avg loss: 0.0000370421\n",
            "Current lr: 0.001\n",
            "Validation Results - Epoch: 4  Avg loss: 0.0001336494\n",
            "Training Results - Epoch: 5  Avg loss: 0.0000339743\n",
            "Current lr: 0.001\n",
            "Validation Results - Epoch: 5  Avg loss: 0.0001339714\n",
            "Training Results - Epoch: 6  Avg loss: 0.0000283679\n",
            "Current lr: 0.001\n",
            "Validation Results - Epoch: 6  Avg loss: 0.0001369790\n",
            "Training Results - Epoch: 7  Avg loss: 0.0000281556\n",
            "Current lr: 0.001\n",
            "Validation Results - Epoch: 7  Avg loss: 0.0001437337\n",
            "Training Results - Epoch: 8  Avg loss: 0.0000246898\n",
            "Current lr: 0.001\n",
            "Validation Results - Epoch: 8  Avg loss: 0.0001448519\n",
            "Training Results - Epoch: 9  Avg loss: 0.0000229612\n",
            "Current lr: 0.001\n",
            "Validation Results - Epoch: 9  Avg loss: 0.0001441645\n",
            "Training Results - Epoch: 10  Avg loss: 0.0000207812\n",
            "Current lr: 0.001\n",
            "Validation Results - Epoch: 10  Avg loss: 0.0001381584\n",
            "Training Results - Epoch: 11  Avg loss: 0.0000182438\n",
            "Current lr: 0.001\n",
            "Validation Results - Epoch: 11  Avg loss: 0.0001397602\n",
            "Training Results - Epoch: 12  Avg loss: 0.0000174029\n",
            "Current lr: 0.001\n",
            "Validation Results - Epoch: 12  Avg loss: 0.0001454038\n",
            "Training Results - Epoch: 13  Avg loss: 0.0000158525\n",
            "Current lr: 0.001\n",
            "Validation Results - Epoch: 13  Avg loss: 0.0001462575\n",
            "Training Results - Epoch: 14  Avg loss: 0.0000152331\n",
            "Current lr: 0.001\n",
            "Validation Results - Epoch: 14  Avg loss: 0.0001491483\n",
            "Training Results - Epoch: 15  Avg loss: 0.0000155153\n",
            "Current lr: 0.001\n",
            "Validation Results - Epoch: 15  Avg loss: 0.0001432027\n",
            "Training Results - Epoch: 16  Avg loss: 0.0000140243\n",
            "Current lr: 0.001\n",
            "Validation Results - Epoch: 16  Avg loss: 0.0001521108\n",
            "Training Results - Epoch: 17  Avg loss: 0.0000147545\n",
            "Current lr: 0.001\n",
            "Validation Results - Epoch: 17  Avg loss: 0.0001475410\n",
            "Training Results - Epoch: 18  Avg loss: 0.0000123438\n",
            "Current lr: 0.001\n",
            "Validation Results - Epoch: 18  Avg loss: 0.0001470111\n",
            "Training Results - Epoch: 19  Avg loss: 0.0000116912\n",
            "Current lr: 0.001\n",
            "Validation Results - Epoch: 19  Avg loss: 0.0001514847\n",
            "Training Results - Epoch: 20  Avg loss: 0.0000116886\n",
            "Current lr: 0.001\n",
            "Validation Results - Epoch: 20  Avg loss: 0.0001542331\n",
            "Training Results - Epoch: 21  Avg loss: 0.0000111430\n",
            "Current lr: 0.001\n",
            "Validation Results - Epoch: 21  Avg loss: 0.0001581695\n",
            "Training Results - Epoch: 22  Avg loss: 0.0000097770\n",
            "Current lr: 0.001\n",
            "Validation Results - Epoch: 22  Avg loss: 0.0001512479\n",
            "Training Results - Epoch: 23  Avg loss: 0.0000089622\n",
            "Current lr: 0.001\n",
            "Validation Results - Epoch: 23  Avg loss: 0.0001555581\n",
            "Training Results - Epoch: 24  Avg loss: 0.0000087098\n",
            "Current lr: 0.001\n",
            "Validation Results - Epoch: 24  Avg loss: 0.0001608172\n",
            "Training Results - Epoch: 25  Avg loss: 0.0000074563\n",
            "Current lr: 0.0001\n",
            "Validation Results - Epoch: 25  Avg loss: 0.0001571782\n",
            "Training Results - Epoch: 26  Avg loss: 0.0000070220\n",
            "Current lr: 0.0001\n",
            "Validation Results - Epoch: 26  Avg loss: 0.0001567572\n",
            "Training Results - Epoch: 27  Avg loss: 0.0000067474\n",
            "Current lr: 0.0001\n",
            "Validation Results - Epoch: 27  Avg loss: 0.0001567565\n",
            "Training Results - Epoch: 28  Avg loss: 0.0000065758\n",
            "Current lr: 0.0001\n",
            "Validation Results - Epoch: 28  Avg loss: 0.0001578281\n",
            "Training Results - Epoch: 29  Avg loss: 0.0000063928\n",
            "Current lr: 0.0001\n",
            "Validation Results - Epoch: 29  Avg loss: 0.0001577152\n",
            "Training Results - Epoch: 30  Avg loss: 0.0000062579\n",
            "Current lr: 0.0001\n",
            "Validation Results - Epoch: 30  Avg loss: 0.0001573362\n",
            "Training Results - Epoch: 31  Avg loss: 0.0000061633\n",
            "Current lr: 0.0001\n",
            "Validation Results - Epoch: 31  Avg loss: 0.0001573869\n",
            "Training Results - Epoch: 32  Avg loss: 0.0000060833\n",
            "Current lr: 0.0001\n",
            "Validation Results - Epoch: 32  Avg loss: 0.0001580052\n",
            "Training Results - Epoch: 33  Avg loss: 0.0000060113\n",
            "Current lr: 0.0001\n",
            "Validation Results - Epoch: 33  Avg loss: 0.0001575765\n",
            "FOLD 3\n",
            "Training Results - Epoch: 1  Avg loss: 0.0000449320\n",
            "Current lr: 0.001\n",
            "Validation Results - Epoch: 1  Avg loss: 0.0000548145\n",
            "Training Results - Epoch: 2  Avg loss: 0.0000309778\n",
            "Current lr: 0.001\n",
            "Validation Results - Epoch: 2  Avg loss: 0.0000521823\n",
            "Training Results - Epoch: 3  Avg loss: 0.0000258378\n",
            "Current lr: 0.001\n",
            "Validation Results - Epoch: 3  Avg loss: 0.0000551804\n",
            "Training Results - Epoch: 4  Avg loss: 0.0000205659\n",
            "Current lr: 0.001\n",
            "Validation Results - Epoch: 4  Avg loss: 0.0000568413\n",
            "Training Results - Epoch: 5  Avg loss: 0.0000160169\n",
            "Current lr: 0.001\n",
            "Validation Results - Epoch: 5  Avg loss: 0.0000564919\n",
            "Training Results - Epoch: 6  Avg loss: 0.0000141724\n",
            "Current lr: 0.001\n",
            "Validation Results - Epoch: 6  Avg loss: 0.0000576093\n",
            "Training Results - Epoch: 7  Avg loss: 0.0000117745\n",
            "Current lr: 0.001\n",
            "Validation Results - Epoch: 7  Avg loss: 0.0000586588\n",
            "Training Results - Epoch: 8  Avg loss: 0.0000100024\n",
            "Current lr: 0.001\n",
            "Validation Results - Epoch: 8  Avg loss: 0.0000618574\n",
            "Training Results - Epoch: 9  Avg loss: 0.0000102485\n",
            "Current lr: 0.001\n",
            "Validation Results - Epoch: 9  Avg loss: 0.0000629830\n",
            "Training Results - Epoch: 10  Avg loss: 0.0000108540\n",
            "Current lr: 0.001\n",
            "Validation Results - Epoch: 10  Avg loss: 0.0000684660\n",
            "Training Results - Epoch: 11  Avg loss: 0.0000080859\n",
            "Current lr: 0.001\n",
            "Validation Results - Epoch: 11  Avg loss: 0.0000654871\n",
            "Training Results - Epoch: 12  Avg loss: 0.0000075140\n",
            "Current lr: 0.001\n",
            "Validation Results - Epoch: 12  Avg loss: 0.0000681345\n",
            "Training Results - Epoch: 13  Avg loss: 0.0000069592\n",
            "Current lr: 0.001\n",
            "Validation Results - Epoch: 13  Avg loss: 0.0000685334\n",
            "Training Results - Epoch: 14  Avg loss: 0.0000072740\n",
            "Current lr: 0.001\n",
            "Validation Results - Epoch: 14  Avg loss: 0.0000692224\n",
            "Training Results - Epoch: 15  Avg loss: 0.0000060006\n",
            "Current lr: 0.001\n",
            "Validation Results - Epoch: 15  Avg loss: 0.0000725362\n",
            "Training Results - Epoch: 16  Avg loss: 0.0000052875\n",
            "Current lr: 0.001\n",
            "Validation Results - Epoch: 16  Avg loss: 0.0000711485\n",
            "Training Results - Epoch: 17  Avg loss: 0.0000059674\n",
            "Current lr: 0.001\n",
            "Validation Results - Epoch: 17  Avg loss: 0.0000755163\n",
            "Training Results - Epoch: 18  Avg loss: 0.0000071134\n",
            "Current lr: 0.001\n",
            "Validation Results - Epoch: 18  Avg loss: 0.0000773087\n",
            "Training Results - Epoch: 19  Avg loss: 0.0000052378\n",
            "Current lr: 0.001\n",
            "Validation Results - Epoch: 19  Avg loss: 0.0000757440\n",
            "Training Results - Epoch: 20  Avg loss: 0.0000045483\n",
            "Current lr: 0.001\n",
            "Validation Results - Epoch: 20  Avg loss: 0.0000761190\n",
            "Training Results - Epoch: 21  Avg loss: 0.0000043307\n",
            "Current lr: 0.001\n",
            "Validation Results - Epoch: 21  Avg loss: 0.0000778352\n",
            "Training Results - Epoch: 22  Avg loss: 0.0000048708\n",
            "Current lr: 0.001\n",
            "Validation Results - Epoch: 22  Avg loss: 0.0000804306\n",
            "Training Results - Epoch: 23  Avg loss: 0.0000050117\n",
            "Current lr: 0.001\n",
            "Validation Results - Epoch: 23  Avg loss: 0.0000788914\n",
            "Training Results - Epoch: 24  Avg loss: 0.0000036099\n",
            "Current lr: 0.0001\n",
            "Validation Results - Epoch: 24  Avg loss: 0.0000786040\n",
            "Training Results - Epoch: 25  Avg loss: 0.0000032121\n",
            "Current lr: 0.0001\n",
            "Validation Results - Epoch: 25  Avg loss: 0.0000785495\n",
            "Training Results - Epoch: 26  Avg loss: 0.0000029423\n",
            "Current lr: 0.0001\n",
            "Validation Results - Epoch: 26  Avg loss: 0.0000785651\n",
            "Training Results - Epoch: 27  Avg loss: 0.0000027668\n",
            "Current lr: 0.0001\n",
            "Validation Results - Epoch: 27  Avg loss: 0.0000788447\n",
            "Training Results - Epoch: 28  Avg loss: 0.0000026289\n",
            "Current lr: 0.0001\n",
            "Validation Results - Epoch: 28  Avg loss: 0.0000787488\n",
            "Training Results - Epoch: 29  Avg loss: 0.0000025739\n",
            "Current lr: 0.0001\n",
            "Validation Results - Epoch: 29  Avg loss: 0.0000792786\n",
            "Training Results - Epoch: 30  Avg loss: 0.0000024918\n",
            "Current lr: 0.0001\n",
            "Validation Results - Epoch: 30  Avg loss: 0.0000788637\n",
            "Training Results - Epoch: 31  Avg loss: 0.0000024465\n",
            "Current lr: 0.0001\n",
            "Validation Results - Epoch: 31  Avg loss: 0.0000796248\n",
            "Training Results - Epoch: 32  Avg loss: 0.0000024235\n",
            "Current lr: 0.0001\n",
            "Validation Results - Epoch: 32  Avg loss: 0.0000794044\n",
            "FOLD 4\n",
            "Training Results - Epoch: 1  Avg loss: 0.0000218386\n",
            "Current lr: 0.001\n",
            "Validation Results - Epoch: 1  Avg loss: 0.0000257251\n",
            "Training Results - Epoch: 2  Avg loss: 0.0000180784\n",
            "Current lr: 0.001\n",
            "Validation Results - Epoch: 2  Avg loss: 0.0000268751\n",
            "Training Results - Epoch: 3  Avg loss: 0.0000174959\n",
            "Current lr: 0.001\n",
            "Validation Results - Epoch: 3  Avg loss: 0.0000239889\n",
            "Training Results - Epoch: 4  Avg loss: 0.0000137354\n",
            "Current lr: 0.001\n",
            "Validation Results - Epoch: 4  Avg loss: 0.0000254188\n",
            "Training Results - Epoch: 5  Avg loss: 0.0000113980\n",
            "Current lr: 0.001\n",
            "Validation Results - Epoch: 5  Avg loss: 0.0000227764\n",
            "Training Results - Epoch: 6  Avg loss: 0.0000105763\n",
            "Current lr: 0.001\n",
            "Validation Results - Epoch: 6  Avg loss: 0.0000247076\n",
            "Training Results - Epoch: 7  Avg loss: 0.0000126419\n",
            "Current lr: 0.001\n",
            "Validation Results - Epoch: 7  Avg loss: 0.0000221957\n",
            "Training Results - Epoch: 8  Avg loss: 0.0000094453\n",
            "Current lr: 0.001\n",
            "Validation Results - Epoch: 8  Avg loss: 0.0000271861\n",
            "Training Results - Epoch: 9  Avg loss: 0.0000086941\n",
            "Current lr: 0.001\n",
            "Validation Results - Epoch: 9  Avg loss: 0.0000248830\n",
            "Training Results - Epoch: 10  Avg loss: 0.0000075562\n",
            "Current lr: 0.001\n",
            "Validation Results - Epoch: 10  Avg loss: 0.0000258285\n",
            "Training Results - Epoch: 11  Avg loss: 0.0000077377\n",
            "Current lr: 0.001\n",
            "Validation Results - Epoch: 11  Avg loss: 0.0000274203\n",
            "Training Results - Epoch: 12  Avg loss: 0.0000072006\n",
            "Current lr: 0.001\n",
            "Validation Results - Epoch: 12  Avg loss: 0.0000288729\n",
            "Training Results - Epoch: 13  Avg loss: 0.0000076501\n",
            "Current lr: 0.001\n",
            "Validation Results - Epoch: 13  Avg loss: 0.0000313634\n",
            "Training Results - Epoch: 14  Avg loss: 0.0000058031\n",
            "Current lr: 0.001\n",
            "Validation Results - Epoch: 14  Avg loss: 0.0000272521\n",
            "Training Results - Epoch: 15  Avg loss: 0.0000055444\n",
            "Current lr: 0.001\n",
            "Validation Results - Epoch: 15  Avg loss: 0.0000296110\n",
            "Training Results - Epoch: 16  Avg loss: 0.0000045497\n",
            "Current lr: 0.001\n",
            "Validation Results - Epoch: 16  Avg loss: 0.0000268946\n",
            "Training Results - Epoch: 17  Avg loss: 0.0000052546\n",
            "Current lr: 0.001\n",
            "Validation Results - Epoch: 17  Avg loss: 0.0000308877\n",
            "Training Results - Epoch: 18  Avg loss: 0.0000049335\n",
            "Current lr: 0.001\n",
            "Validation Results - Epoch: 18  Avg loss: 0.0000301930\n",
            "Training Results - Epoch: 19  Avg loss: 0.0000042384\n",
            "Current lr: 0.001\n",
            "Validation Results - Epoch: 19  Avg loss: 0.0000291711\n",
            "Training Results - Epoch: 20  Avg loss: 0.0000039397\n",
            "Current lr: 0.001\n",
            "Validation Results - Epoch: 20  Avg loss: 0.0000294817\n",
            "Training Results - Epoch: 21  Avg loss: 0.0000043291\n",
            "Current lr: 0.001\n",
            "Validation Results - Epoch: 21  Avg loss: 0.0000328722\n",
            "Training Results - Epoch: 22  Avg loss: 0.0000040242\n",
            "Current lr: 0.001\n",
            "Validation Results - Epoch: 22  Avg loss: 0.0000291592\n",
            "Training Results - Epoch: 23  Avg loss: 0.0000045408\n",
            "Current lr: 0.001\n",
            "Validation Results - Epoch: 23  Avg loss: 0.0000342750\n",
            "Training Results - Epoch: 24  Avg loss: 0.0000043359\n",
            "Current lr: 0.001\n",
            "Validation Results - Epoch: 24  Avg loss: 0.0000313717\n",
            "Training Results - Epoch: 25  Avg loss: 0.0000036858\n",
            "Current lr: 0.001\n",
            "Validation Results - Epoch: 25  Avg loss: 0.0000326920\n",
            "Training Results - Epoch: 26  Avg loss: 0.0000039895\n",
            "Current lr: 0.001\n",
            "Validation Results - Epoch: 26  Avg loss: 0.0000307085\n",
            "Training Results - Epoch: 27  Avg loss: 0.0000034968\n",
            "Current lr: 0.001\n",
            "Validation Results - Epoch: 27  Avg loss: 0.0000304638\n",
            "Training Results - Epoch: 28  Avg loss: 0.0000034377\n",
            "Current lr: 0.001\n",
            "Validation Results - Epoch: 28  Avg loss: 0.0000318200\n",
            "Training Results - Epoch: 29  Avg loss: 0.0000027191\n",
            "Current lr: 0.0001\n",
            "Validation Results - Epoch: 29  Avg loss: 0.0000329053\n",
            "Training Results - Epoch: 30  Avg loss: 0.0000022000\n",
            "Current lr: 0.0001\n",
            "Validation Results - Epoch: 30  Avg loss: 0.0000331319\n",
            "Training Results - Epoch: 31  Avg loss: 0.0000019099\n",
            "Current lr: 0.0001\n",
            "Validation Results - Epoch: 31  Avg loss: 0.0000326571\n",
            "Training Results - Epoch: 32  Avg loss: 0.0000017226\n",
            "Current lr: 0.0001\n",
            "Validation Results - Epoch: 32  Avg loss: 0.0000325417\n",
            "Training Results - Epoch: 33  Avg loss: 0.0000016323\n",
            "Current lr: 0.0001\n",
            "Validation Results - Epoch: 33  Avg loss: 0.0000320590\n",
            "Training Results - Epoch: 34  Avg loss: 0.0000015390\n",
            "Current lr: 0.0001\n",
            "Validation Results - Epoch: 34  Avg loss: 0.0000328823\n",
            "Training Results - Epoch: 35  Avg loss: 0.0000014638\n",
            "Current lr: 0.0001\n",
            "Validation Results - Epoch: 35  Avg loss: 0.0000324166\n",
            "Training Results - Epoch: 36  Avg loss: 0.0000014101\n",
            "Current lr: 0.0001\n",
            "Validation Results - Epoch: 36  Avg loss: 0.0000325281\n",
            "Training Results - Epoch: 37  Avg loss: 0.0000013991\n",
            "Current lr: 0.0001\n",
            "Validation Results - Epoch: 37  Avg loss: 0.0000328935\n"
          ],
          "name": "stdout"
        }
      ]
    },
    {
      "cell_type": "code",
      "metadata": {
        "id": "28Nf-Dz1VbMw",
        "colab_type": "code",
        "outputId": "fe0c1e62-c05a-4da9-f486-9ad65d24c7b4",
        "colab": {
          "base_uri": "https://localhost:8080/",
          "height": 312
        }
      },
      "source": [
        "plt.plot(range(len(validation_losses)), validation_losses, range(len(training_losses)), training_losses)\n",
        "plt.legend(['Validation Losses', 'Training Losses'])\n",
        "plt.title('Loss curves')\n",
        "plt.xlabel('Epoch')\n",
        "plt.ylabel('Loss')"
      ],
      "execution_count": 0,
      "outputs": [
        {
          "output_type": "execute_result",
          "data": {
            "text/plain": [
              "Text(0, 0.5, 'Loss')"
            ]
          },
          "metadata": {
            "tags": []
          },
          "execution_count": 60
        },
        {
          "output_type": "display_data",
          "data": {
            "image/png": "[encoded data removed]",
            "text/plain": [
              "<Figure size 432x288 with 1 Axes>"
            ]
          },
          "metadata": {
            "tags": []
          }
        }
      ]
    },
    {
      "cell_type": "code",
      "metadata": {
        "id": "__TazGaLVoNH",
        "colab_type": "code",
        "outputId": "4c4cebf5-7e21-4ca4-aae1-c2a75433e6c4",
        "colab": {
          "base_uri": "https://localhost:8080/",
          "height": 34
        }
      },
      "source": [
        "# Test Loss\n",
        "criterion_c(census_data.data[test_neighbourhoods], decoder_c(census_data.reviews_embedding[test_neighbourhoods]))"
      ],
      "execution_count": 0,
      "outputs": [
        {
          "output_type": "execute_result",
          "data": {
            "text/plain": [
              "tensor(0.0005, grad_fn=<MeanBackward0>)"
            ]
          },
          "metadata": {
            "tags": []
          },
          "execution_count": 61
        }
      ]
    },
    {
      "cell_type": "code",
      "metadata": {
        "id": "Tndj2D0hVvg6",
        "colab_type": "code",
        "colab": {}
      },
      "source": [
        "decoded_delta = decoder_c(census_data.reviews_embedding).cpu().detach().numpy()\n",
        "actual_data = educations[2016].values\n",
        "predicted_data = educations[2011].values+ decoded_delta"
      ],
      "execution_count": 0,
      "outputs": []
    },
    {
      "cell_type": "code",
      "metadata": {
        "id": "BV6qN9zQWBAk",
        "colab_type": "code",
        "outputId": "b7f268e4-404a-4a00-fb14-db6d82a2cf36",
        "colab": {
          "base_uri": "https://localhost:8080/",
          "height": 34
        }
      },
      "source": [
        "# Training error\n",
        "np.abs(predicted_data[train_val_neighbourhoods] - actual_data[train_val_neighbourhoods]).sum(axis=1).mean()"
      ],
      "execution_count": 0,
      "outputs": [
        {
          "output_type": "execute_result",
          "data": {
            "text/plain": [
              "0.008396645863998081"
            ]
          },
          "metadata": {
            "tags": []
          },
          "execution_count": 63
        }
      ]
    },
    {
      "cell_type": "code",
      "metadata": {
        "id": "xQRnaAFMWE-4",
        "colab_type": "code",
        "outputId": "495d808d-1cca-4f5c-feb7-eedd0b301980",
        "colab": {
          "base_uri": "https://localhost:8080/",
          "height": 34
        }
      },
      "source": [
        "# Validation Error\n",
        "np.abs((predicted_data[test_neighbourhoods]-actual_data[test_neighbourhoods])).sum(axis=1).mean()"
      ],
      "execution_count": 0,
      "outputs": [
        {
          "output_type": "execute_result",
          "data": {
            "text/plain": [
              "0.09259812774302918"
            ]
          },
          "metadata": {
            "tags": []
          },
          "execution_count": 64
        }
      ]
    },
    {
      "cell_type": "markdown",
      "metadata": {
        "id": "NE0Nz2mQWhHs",
        "colab_type": "text"
      },
      "source": [
        "#### With Additional Layer"
      ]
    },
    {
      "cell_type": "code",
      "metadata": {
        "id": "7GY37oDxWjpM",
        "colab_type": "code",
        "colab": {}
      },
      "source": [
        "sizes_c = [educations[2011].shape[1], delta_reviews.shape[1]//2, delta_reviews.shape[1]]\n",
        "decoder_c = Decoder_C(sizes_c)\n",
        "\n",
        "if use_cuda and torch.cuda.is_available():\n",
        "    decoder_c.cuda()"
      ],
      "execution_count": 0,
      "outputs": []
    },
    {
      "cell_type": "code",
      "metadata": {
        "id": "ee2cnHFRXIL6",
        "colab_type": "code",
        "outputId": "38b525ee-75d5-48db-8f3d-7653eeb39e83",
        "colab": {
          "base_uri": "https://localhost:8080/",
          "height": 158
        }
      },
      "source": [
        "decoder_c"
      ],
      "execution_count": 0,
      "outputs": [
        {
          "output_type": "execute_result",
          "data": {
            "text/plain": [
              "Decoder_C(\n",
              "  (decoder): Sequential(\n",
              "    (linear1): Linear(in_features=1024, out_features=512, bias=True)\n",
              "    (activation1): Tanh()\n",
              "    (linear2): Linear(in_features=512, out_features=6, bias=True)\n",
              "    (tanh): Tanh()\n",
              "  )\n",
              ")"
            ]
          },
          "metadata": {
            "tags": []
          },
          "execution_count": 71
        }
      ]
    },
    {
      "cell_type": "code",
      "metadata": {
        "id": "RVXdg94uXKDN",
        "colab_type": "code",
        "outputId": "de5b9d15-be8f-4484-b408-ab92cfcfea5a",
        "colab": {
          "base_uri": "https://localhost:8080/",
          "height": 1000
        }
      },
      "source": [
        "validation_losses, training_losses = [], []\n",
        "for i in range(folds):\n",
        "  print('FOLD', i)\n",
        "  t, v = train_decoder(decoder_c, census_data, all_trains[i], all_vals[i], name='edu_raw_2')\n",
        "  training_losses.extend(t)\n",
        "  validation_losses.extend(v)"
      ],
      "execution_count": 0,
      "outputs": [
        {
          "output_type": "stream",
          "text": [
            "FOLD 0\n",
            "Training Results - Epoch: 1  Avg loss: 0.0002218708\n",
            "Current lr: 0.001\n",
            "Validation Results - Epoch: 1  Avg loss: 0.0004085665\n",
            "Training Results - Epoch: 2  Avg loss: 0.0001930936\n",
            "Current lr: 0.001\n",
            "Validation Results - Epoch: 2  Avg loss: 0.0004384716\n",
            "Training Results - Epoch: 3  Avg loss: 0.0001553463\n",
            "Current lr: 0.001\n",
            "Validation Results - Epoch: 3  Avg loss: 0.0004607600\n",
            "Training Results - Epoch: 4  Avg loss: 0.0001152008\n",
            "Current lr: 0.001\n",
            "Validation Results - Epoch: 4  Avg loss: 0.0004444670\n",
            "Training Results - Epoch: 5  Avg loss: 0.0001069770\n",
            "Current lr: 0.001\n",
            "Validation Results - Epoch: 5  Avg loss: 0.0004441581\n",
            "Training Results - Epoch: 6  Avg loss: 0.0001375202\n",
            "Current lr: 0.001\n",
            "Validation Results - Epoch: 6  Avg loss: 0.0004853579\n",
            "Training Results - Epoch: 7  Avg loss: 0.0001109842\n",
            "Current lr: 0.001\n",
            "Validation Results - Epoch: 7  Avg loss: 0.0004712336\n",
            "Training Results - Epoch: 8  Avg loss: 0.0001031900\n",
            "Current lr: 0.001\n",
            "Validation Results - Epoch: 8  Avg loss: 0.0005156205\n",
            "Training Results - Epoch: 9  Avg loss: 0.0000935983\n",
            "Current lr: 0.001\n",
            "Validation Results - Epoch: 9  Avg loss: 0.0004705749\n",
            "Training Results - Epoch: 10  Avg loss: 0.0000634050\n",
            "Current lr: 0.001\n",
            "Validation Results - Epoch: 10  Avg loss: 0.0004728461\n",
            "Training Results - Epoch: 11  Avg loss: 0.0000872020\n",
            "Current lr: 0.001\n",
            "Validation Results - Epoch: 11  Avg loss: 0.0004392479\n",
            "Training Results - Epoch: 12  Avg loss: 0.0000818120\n",
            "Current lr: 0.001\n",
            "Validation Results - Epoch: 12  Avg loss: 0.0004615737\n",
            "Training Results - Epoch: 13  Avg loss: 0.0000706062\n",
            "Current lr: 0.001\n",
            "Validation Results - Epoch: 13  Avg loss: 0.0004640027\n",
            "Training Results - Epoch: 14  Avg loss: 0.0000553244\n",
            "Current lr: 0.001\n",
            "Validation Results - Epoch: 14  Avg loss: 0.0004681999\n",
            "Training Results - Epoch: 15  Avg loss: 0.0000447450\n",
            "Current lr: 0.001\n",
            "Validation Results - Epoch: 15  Avg loss: 0.0004891596\n",
            "Training Results - Epoch: 16  Avg loss: 0.0000423244\n",
            "Current lr: 0.001\n",
            "Validation Results - Epoch: 16  Avg loss: 0.0004836111\n",
            "Training Results - Epoch: 17  Avg loss: 0.0000547246\n",
            "Current lr: 0.001\n",
            "Validation Results - Epoch: 17  Avg loss: 0.0004857023\n",
            "Training Results - Epoch: 18  Avg loss: 0.0000400705\n",
            "Current lr: 0.001\n",
            "Validation Results - Epoch: 18  Avg loss: 0.0004889860\n",
            "Training Results - Epoch: 19  Avg loss: 0.0000471379\n",
            "Current lr: 0.001\n",
            "Validation Results - Epoch: 19  Avg loss: 0.0004942439\n",
            "Training Results - Epoch: 20  Avg loss: 0.0000423118\n",
            "Current lr: 0.001\n",
            "Validation Results - Epoch: 20  Avg loss: 0.0004893459\n",
            "Training Results - Epoch: 21  Avg loss: 0.0000632010\n",
            "Current lr: 0.001\n",
            "Validation Results - Epoch: 21  Avg loss: 0.0004830458\n",
            "Training Results - Epoch: 22  Avg loss: 0.0000620754\n",
            "Current lr: 0.001\n",
            "Validation Results - Epoch: 22  Avg loss: 0.0004635404\n",
            "Training Results - Epoch: 23  Avg loss: 0.0000424533\n",
            "Current lr: 0.0001\n",
            "Validation Results - Epoch: 23  Avg loss: 0.0004616550\n",
            "Training Results - Epoch: 24  Avg loss: 0.0000327206\n",
            "Current lr: 0.0001\n",
            "Validation Results - Epoch: 24  Avg loss: 0.0004636493\n",
            "Training Results - Epoch: 25  Avg loss: 0.0000266058\n",
            "Current lr: 0.0001\n",
            "Validation Results - Epoch: 25  Avg loss: 0.0004718061\n",
            "Training Results - Epoch: 26  Avg loss: 0.0000208897\n",
            "Current lr: 0.0001\n",
            "Validation Results - Epoch: 26  Avg loss: 0.0004722522\n",
            "Training Results - Epoch: 27  Avg loss: 0.0000174022\n",
            "Current lr: 0.0001\n",
            "Validation Results - Epoch: 27  Avg loss: 0.0004766271\n",
            "Training Results - Epoch: 28  Avg loss: 0.0000150372\n",
            "Current lr: 0.0001\n",
            "Validation Results - Epoch: 28  Avg loss: 0.0004876363\n",
            "Training Results - Epoch: 29  Avg loss: 0.0000128291\n",
            "Current lr: 0.0001\n",
            "Validation Results - Epoch: 29  Avg loss: 0.0004867509\n",
            "Training Results - Epoch: 30  Avg loss: 0.0000110691\n",
            "Current lr: 0.0001\n",
            "Validation Results - Epoch: 30  Avg loss: 0.0004865542\n",
            "Training Results - Epoch: 31  Avg loss: 0.0000098203\n",
            "Current lr: 0.0001\n",
            "Validation Results - Epoch: 31  Avg loss: 0.0004889388\n",
            "FOLD 1\n",
            "Training Results - Epoch: 1  Avg loss: 0.0001501726\n",
            "Current lr: 0.001\n",
            "Validation Results - Epoch: 1  Avg loss: 0.0001384101\n",
            "Training Results - Epoch: 2  Avg loss: 0.0000941192\n",
            "Current lr: 0.001\n",
            "Validation Results - Epoch: 2  Avg loss: 0.0001198972\n",
            "Training Results - Epoch: 3  Avg loss: 0.0001186410\n",
            "Current lr: 0.001\n",
            "Validation Results - Epoch: 3  Avg loss: 0.0001511183\n",
            "Training Results - Epoch: 4  Avg loss: 0.0000927126\n",
            "Current lr: 0.001\n",
            "Validation Results - Epoch: 4  Avg loss: 0.0001318315\n",
            "Training Results - Epoch: 5  Avg loss: 0.0001011906\n",
            "Current lr: 0.001\n",
            "Validation Results - Epoch: 5  Avg loss: 0.0001302942\n",
            "Training Results - Epoch: 6  Avg loss: 0.0000899773\n",
            "Current lr: 0.001\n",
            "Validation Results - Epoch: 6  Avg loss: 0.0001428437\n",
            "Training Results - Epoch: 7  Avg loss: 0.0000661791\n",
            "Current lr: 0.001\n",
            "Validation Results - Epoch: 7  Avg loss: 0.0001143576\n",
            "Training Results - Epoch: 8  Avg loss: 0.0000725900\n",
            "Current lr: 0.001\n",
            "Validation Results - Epoch: 8  Avg loss: 0.0001463256\n",
            "Training Results - Epoch: 9  Avg loss: 0.0000641554\n",
            "Current lr: 0.001\n",
            "Validation Results - Epoch: 9  Avg loss: 0.0001310173\n",
            "Training Results - Epoch: 10  Avg loss: 0.0000602117\n",
            "Current lr: 0.001\n",
            "Validation Results - Epoch: 10  Avg loss: 0.0001212581\n",
            "Training Results - Epoch: 11  Avg loss: 0.0000469158\n",
            "Current lr: 0.001\n",
            "Validation Results - Epoch: 11  Avg loss: 0.0001291444\n",
            "Training Results - Epoch: 12  Avg loss: 0.0000552014\n",
            "Current lr: 0.001\n",
            "Validation Results - Epoch: 12  Avg loss: 0.0001476792\n",
            "Training Results - Epoch: 13  Avg loss: 0.0000523151\n",
            "Current lr: 0.001\n",
            "Validation Results - Epoch: 13  Avg loss: 0.0001380497\n",
            "Training Results - Epoch: 14  Avg loss: 0.0000439184\n",
            "Current lr: 0.001\n",
            "Validation Results - Epoch: 14  Avg loss: 0.0001427074\n",
            "Training Results - Epoch: 15  Avg loss: 0.0000419235\n",
            "Current lr: 0.001\n",
            "Validation Results - Epoch: 15  Avg loss: 0.0001378537\n",
            "Training Results - Epoch: 16  Avg loss: 0.0000391859\n",
            "Current lr: 0.001\n",
            "Validation Results - Epoch: 16  Avg loss: 0.0001453692\n",
            "Training Results - Epoch: 17  Avg loss: 0.0000340582\n",
            "Current lr: 0.001\n",
            "Validation Results - Epoch: 17  Avg loss: 0.0001517742\n",
            "Training Results - Epoch: 18  Avg loss: 0.0000291547\n",
            "Current lr: 0.001\n",
            "Validation Results - Epoch: 18  Avg loss: 0.0001531697\n",
            "Training Results - Epoch: 19  Avg loss: 0.0000330591\n",
            "Current lr: 0.001\n",
            "Validation Results - Epoch: 19  Avg loss: 0.0001387281\n",
            "Training Results - Epoch: 20  Avg loss: 0.0000335127\n",
            "Current lr: 0.001\n",
            "Validation Results - Epoch: 20  Avg loss: 0.0001494398\n",
            "Training Results - Epoch: 21  Avg loss: 0.0000637314\n",
            "Current lr: 0.001\n",
            "Validation Results - Epoch: 21  Avg loss: 0.0001734296\n",
            "Training Results - Epoch: 22  Avg loss: 0.0000515151\n",
            "Current lr: 0.001\n",
            "Validation Results - Epoch: 22  Avg loss: 0.0001767080\n",
            "Training Results - Epoch: 23  Avg loss: 0.0000759688\n",
            "Current lr: 0.001\n",
            "Validation Results - Epoch: 23  Avg loss: 0.0001872645\n",
            "Training Results - Epoch: 24  Avg loss: 0.0000495431\n",
            "Current lr: 0.001\n",
            "Validation Results - Epoch: 24  Avg loss: 0.0001645293\n",
            "Training Results - Epoch: 25  Avg loss: 0.0000411798\n",
            "Current lr: 0.001\n",
            "Validation Results - Epoch: 25  Avg loss: 0.0001563273\n",
            "Training Results - Epoch: 26  Avg loss: 0.0000572455\n",
            "Current lr: 0.001\n",
            "Validation Results - Epoch: 26  Avg loss: 0.0001717962\n",
            "Training Results - Epoch: 27  Avg loss: 0.0000428176\n",
            "Current lr: 0.001\n",
            "Validation Results - Epoch: 27  Avg loss: 0.0001677279\n",
            "Training Results - Epoch: 28  Avg loss: 0.0000557023\n",
            "Current lr: 0.001\n",
            "Validation Results - Epoch: 28  Avg loss: 0.0002119892\n",
            "Training Results - Epoch: 29  Avg loss: 0.0000150300\n",
            "Current lr: 0.0001\n",
            "Validation Results - Epoch: 29  Avg loss: 0.0001615732\n",
            "Training Results - Epoch: 30  Avg loss: 0.0000112043\n",
            "Current lr: 0.0001\n",
            "Validation Results - Epoch: 30  Avg loss: 0.0001614928\n",
            "Training Results - Epoch: 31  Avg loss: 0.0000085286\n",
            "Current lr: 0.0001\n",
            "Validation Results - Epoch: 31  Avg loss: 0.0001599190\n",
            "Training Results - Epoch: 32  Avg loss: 0.0000068539\n",
            "Current lr: 0.0001\n",
            "Validation Results - Epoch: 32  Avg loss: 0.0001597600\n",
            "Training Results - Epoch: 33  Avg loss: 0.0000058766\n",
            "Current lr: 0.0001\n",
            "Validation Results - Epoch: 33  Avg loss: 0.0001596619\n",
            "Training Results - Epoch: 34  Avg loss: 0.0000053993\n",
            "Current lr: 0.0001\n",
            "Validation Results - Epoch: 34  Avg loss: 0.0001593290\n",
            "Training Results - Epoch: 35  Avg loss: 0.0000048880\n",
            "Current lr: 0.0001\n",
            "Validation Results - Epoch: 35  Avg loss: 0.0001617819\n",
            "Training Results - Epoch: 36  Avg loss: 0.0000042991\n",
            "Current lr: 0.0001\n",
            "Validation Results - Epoch: 36  Avg loss: 0.0001604845\n",
            "Training Results - Epoch: 37  Avg loss: 0.0000039261\n",
            "Current lr: 0.0001\n",
            "Validation Results - Epoch: 37  Avg loss: 0.0001601098\n",
            "FOLD 2\n",
            "Training Results - Epoch: 1  Avg loss: 0.0000805991\n",
            "Current lr: 0.001\n",
            "Validation Results - Epoch: 1  Avg loss: 0.0001119077\n",
            "Training Results - Epoch: 2  Avg loss: 0.0000537610\n",
            "Current lr: 0.001\n",
            "Validation Results - Epoch: 2  Avg loss: 0.0000603875\n",
            "Training Results - Epoch: 3  Avg loss: 0.0000692229\n",
            "Current lr: 0.001\n",
            "Validation Results - Epoch: 3  Avg loss: 0.0000898047\n",
            "Training Results - Epoch: 4  Avg loss: 0.0000571363\n",
            "Current lr: 0.001\n",
            "Validation Results - Epoch: 4  Avg loss: 0.0000843262\n",
            "Training Results - Epoch: 5  Avg loss: 0.0000482229\n",
            "Current lr: 0.001\n",
            "Validation Results - Epoch: 5  Avg loss: 0.0000744192\n",
            "Training Results - Epoch: 6  Avg loss: 0.0000568229\n",
            "Current lr: 0.001\n",
            "Validation Results - Epoch: 6  Avg loss: 0.0000950282\n",
            "Training Results - Epoch: 7  Avg loss: 0.0000421968\n",
            "Current lr: 0.001\n",
            "Validation Results - Epoch: 7  Avg loss: 0.0000758732\n",
            "Training Results - Epoch: 8  Avg loss: 0.0000317560\n",
            "Current lr: 0.001\n",
            "Validation Results - Epoch: 8  Avg loss: 0.0000869058\n",
            "Training Results - Epoch: 9  Avg loss: 0.0000337053\n",
            "Current lr: 0.001\n",
            "Validation Results - Epoch: 9  Avg loss: 0.0000817417\n",
            "Training Results - Epoch: 10  Avg loss: 0.0000280208\n",
            "Current lr: 0.001\n",
            "Validation Results - Epoch: 10  Avg loss: 0.0000952631\n",
            "Training Results - Epoch: 11  Avg loss: 0.0000319428\n",
            "Current lr: 0.001\n",
            "Validation Results - Epoch: 11  Avg loss: 0.0000934708\n",
            "Training Results - Epoch: 12  Avg loss: 0.0000229795\n",
            "Current lr: 0.001\n",
            "Validation Results - Epoch: 12  Avg loss: 0.0000998579\n",
            "Training Results - Epoch: 13  Avg loss: 0.0000231025\n",
            "Current lr: 0.001\n",
            "Validation Results - Epoch: 13  Avg loss: 0.0000798633\n",
            "Training Results - Epoch: 14  Avg loss: 0.0000347447\n",
            "Current lr: 0.001\n",
            "Validation Results - Epoch: 14  Avg loss: 0.0001095550\n",
            "Training Results - Epoch: 15  Avg loss: 0.0000324818\n",
            "Current lr: 0.001\n",
            "Validation Results - Epoch: 15  Avg loss: 0.0000810481\n",
            "Training Results - Epoch: 16  Avg loss: 0.0000372530\n",
            "Current lr: 0.001\n",
            "Validation Results - Epoch: 16  Avg loss: 0.0001057968\n",
            "Training Results - Epoch: 17  Avg loss: 0.0000577887\n",
            "Current lr: 0.001\n",
            "Validation Results - Epoch: 17  Avg loss: 0.0001033571\n",
            "Training Results - Epoch: 18  Avg loss: 0.0000489983\n",
            "Current lr: 0.001\n",
            "Validation Results - Epoch: 18  Avg loss: 0.0001016837\n",
            "Training Results - Epoch: 19  Avg loss: 0.0000473906\n",
            "Current lr: 0.001\n",
            "Validation Results - Epoch: 19  Avg loss: 0.0000943834\n",
            "Training Results - Epoch: 20  Avg loss: 0.0000769594\n",
            "Current lr: 0.001\n",
            "Validation Results - Epoch: 20  Avg loss: 0.0001132177\n",
            "Training Results - Epoch: 21  Avg loss: 0.0000358251\n",
            "Current lr: 0.001\n",
            "Validation Results - Epoch: 21  Avg loss: 0.0001159611\n",
            "Training Results - Epoch: 22  Avg loss: 0.0000685409\n",
            "Current lr: 0.001\n",
            "Validation Results - Epoch: 22  Avg loss: 0.0001392353\n",
            "Training Results - Epoch: 23  Avg loss: 0.0000494290\n",
            "Current lr: 0.001\n",
            "Validation Results - Epoch: 23  Avg loss: 0.0001150600\n",
            "Training Results - Epoch: 24  Avg loss: 0.0000291195\n",
            "Current lr: 0.0001\n",
            "Validation Results - Epoch: 24  Avg loss: 0.0001047062\n",
            "Training Results - Epoch: 25  Avg loss: 0.0000187649\n",
            "Current lr: 0.0001\n",
            "Validation Results - Epoch: 25  Avg loss: 0.0001017454\n",
            "Training Results - Epoch: 26  Avg loss: 0.0000126871\n",
            "Current lr: 0.0001\n",
            "Validation Results - Epoch: 26  Avg loss: 0.0001011860\n",
            "Training Results - Epoch: 27  Avg loss: 0.0000096490\n",
            "Current lr: 0.0001\n",
            "Validation Results - Epoch: 27  Avg loss: 0.0001004034\n",
            "Training Results - Epoch: 28  Avg loss: 0.0000077829\n",
            "Current lr: 0.0001\n",
            "Validation Results - Epoch: 28  Avg loss: 0.0001003963\n",
            "Training Results - Epoch: 29  Avg loss: 0.0000061161\n",
            "Current lr: 0.0001\n",
            "Validation Results - Epoch: 29  Avg loss: 0.0001008136\n",
            "Training Results - Epoch: 30  Avg loss: 0.0000050239\n",
            "Current lr: 0.0001\n",
            "Validation Results - Epoch: 30  Avg loss: 0.0001005082\n",
            "Training Results - Epoch: 31  Avg loss: 0.0000042625\n",
            "Current lr: 0.0001\n",
            "Validation Results - Epoch: 31  Avg loss: 0.0001009421\n",
            "Training Results - Epoch: 32  Avg loss: 0.0000037541\n",
            "Current lr: 0.0001\n",
            "Validation Results - Epoch: 32  Avg loss: 0.0001012011\n",
            "FOLD 3\n",
            "Training Results - Epoch: 1  Avg loss: 0.0000498311\n",
            "Current lr: 0.001\n",
            "Validation Results - Epoch: 1  Avg loss: 0.0000379602\n",
            "Training Results - Epoch: 2  Avg loss: 0.0000370181\n",
            "Current lr: 0.001\n",
            "Validation Results - Epoch: 2  Avg loss: 0.0000458386\n",
            "Training Results - Epoch: 3  Avg loss: 0.0000430161\n",
            "Current lr: 0.001\n",
            "Validation Results - Epoch: 3  Avg loss: 0.0000461742\n",
            "Training Results - Epoch: 4  Avg loss: 0.0000391848\n",
            "Current lr: 0.001\n",
            "Validation Results - Epoch: 4  Avg loss: 0.0000438691\n",
            "Training Results - Epoch: 5  Avg loss: 0.0000407989\n",
            "Current lr: 0.001\n",
            "Validation Results - Epoch: 5  Avg loss: 0.0000590228\n",
            "Training Results - Epoch: 6  Avg loss: 0.0000354281\n",
            "Current lr: 0.001\n",
            "Validation Results - Epoch: 6  Avg loss: 0.0000432167\n",
            "Training Results - Epoch: 7  Avg loss: 0.0000427351\n",
            "Current lr: 0.001\n",
            "Validation Results - Epoch: 7  Avg loss: 0.0000421612\n",
            "Training Results - Epoch: 8  Avg loss: 0.0000394082\n",
            "Current lr: 0.001\n",
            "Validation Results - Epoch: 8  Avg loss: 0.0000294587\n",
            "Training Results - Epoch: 9  Avg loss: 0.0000432024\n",
            "Current lr: 0.001\n",
            "Validation Results - Epoch: 9  Avg loss: 0.0000452831\n",
            "Training Results - Epoch: 10  Avg loss: 0.0000580031\n",
            "Current lr: 0.001\n",
            "Validation Results - Epoch: 10  Avg loss: 0.0000619949\n",
            "Training Results - Epoch: 11  Avg loss: 0.0000427158\n",
            "Current lr: 0.001\n",
            "Validation Results - Epoch: 11  Avg loss: 0.0000702530\n",
            "Training Results - Epoch: 12  Avg loss: 0.0000381234\n",
            "Current lr: 0.001\n",
            "Validation Results - Epoch: 12  Avg loss: 0.0000514824\n",
            "Training Results - Epoch: 13  Avg loss: 0.0000367482\n",
            "Current lr: 0.001\n",
            "Validation Results - Epoch: 13  Avg loss: 0.0000592974\n",
            "Training Results - Epoch: 14  Avg loss: 0.0000213240\n",
            "Current lr: 0.001\n",
            "Validation Results - Epoch: 14  Avg loss: 0.0000440089\n",
            "Training Results - Epoch: 15  Avg loss: 0.0000362980\n",
            "Current lr: 0.001\n",
            "Validation Results - Epoch: 15  Avg loss: 0.0000485480\n",
            "Training Results - Epoch: 16  Avg loss: 0.0000304258\n",
            "Current lr: 0.001\n",
            "Validation Results - Epoch: 16  Avg loss: 0.0000525740\n",
            "Training Results - Epoch: 17  Avg loss: 0.0000291314\n",
            "Current lr: 0.001\n",
            "Validation Results - Epoch: 17  Avg loss: 0.0000449187\n",
            "Training Results - Epoch: 18  Avg loss: 0.0000665371\n",
            "Current lr: 0.001\n",
            "Validation Results - Epoch: 18  Avg loss: 0.0001040726\n",
            "Training Results - Epoch: 19  Avg loss: 0.0000329657\n",
            "Current lr: 0.001\n",
            "Validation Results - Epoch: 19  Avg loss: 0.0000479326\n",
            "Training Results - Epoch: 20  Avg loss: 0.0000262186\n",
            "Current lr: 0.001\n",
            "Validation Results - Epoch: 20  Avg loss: 0.0000535592\n",
            "Training Results - Epoch: 21  Avg loss: 0.0000644993\n",
            "Current lr: 0.001\n",
            "Validation Results - Epoch: 21  Avg loss: 0.0000708450\n",
            "Training Results - Epoch: 22  Avg loss: 0.0000314604\n",
            "Current lr: 0.001\n",
            "Validation Results - Epoch: 22  Avg loss: 0.0000542954\n",
            "Training Results - Epoch: 23  Avg loss: 0.0000205392\n",
            "Current lr: 0.001\n",
            "Validation Results - Epoch: 23  Avg loss: 0.0000442584\n",
            "Training Results - Epoch: 24  Avg loss: 0.0000174995\n",
            "Current lr: 0.001\n",
            "Validation Results - Epoch: 24  Avg loss: 0.0000457286\n",
            "Training Results - Epoch: 25  Avg loss: 0.0000162484\n",
            "Current lr: 0.001\n",
            "Validation Results - Epoch: 25  Avg loss: 0.0000529201\n",
            "Training Results - Epoch: 26  Avg loss: 0.0000150559\n",
            "Current lr: 0.001\n",
            "Validation Results - Epoch: 26  Avg loss: 0.0000544324\n",
            "Training Results - Epoch: 27  Avg loss: 0.0000117660\n",
            "Current lr: 0.001\n",
            "Validation Results - Epoch: 27  Avg loss: 0.0000459147\n",
            "Training Results - Epoch: 28  Avg loss: 0.0000140217\n",
            "Current lr: 0.001\n",
            "Validation Results - Epoch: 28  Avg loss: 0.0000521494\n",
            "Training Results - Epoch: 29  Avg loss: 0.0000193410\n",
            "Current lr: 0.001\n",
            "Validation Results - Epoch: 29  Avg loss: 0.0000543724\n",
            "Training Results - Epoch: 30  Avg loss: 0.0000065232\n",
            "Current lr: 0.0001\n",
            "Validation Results - Epoch: 30  Avg loss: 0.0000507067\n",
            "Training Results - Epoch: 31  Avg loss: 0.0000043121\n",
            "Current lr: 0.0001\n",
            "Validation Results - Epoch: 31  Avg loss: 0.0000502395\n",
            "Training Results - Epoch: 32  Avg loss: 0.0000031036\n",
            "Current lr: 0.0001\n",
            "Validation Results - Epoch: 32  Avg loss: 0.0000494835\n",
            "Training Results - Epoch: 33  Avg loss: 0.0000024124\n",
            "Current lr: 0.0001\n",
            "Validation Results - Epoch: 33  Avg loss: 0.0000499498\n",
            "Training Results - Epoch: 34  Avg loss: 0.0000018048\n",
            "Current lr: 0.0001\n",
            "Validation Results - Epoch: 34  Avg loss: 0.0000478034\n",
            "Training Results - Epoch: 35  Avg loss: 0.0000014897\n",
            "Current lr: 0.0001\n",
            "Validation Results - Epoch: 35  Avg loss: 0.0000467702\n",
            "Training Results - Epoch: 36  Avg loss: 0.0000012114\n",
            "Current lr: 0.0001\n",
            "Validation Results - Epoch: 36  Avg loss: 0.0000468694\n",
            "Training Results - Epoch: 37  Avg loss: 0.0000010347\n",
            "Current lr: 0.0001\n",
            "Validation Results - Epoch: 37  Avg loss: 0.0000471077\n",
            "Training Results - Epoch: 38  Avg loss: 0.0000009387\n",
            "Current lr: 0.0001\n",
            "Validation Results - Epoch: 38  Avg loss: 0.0000468488\n",
            "FOLD 4\n",
            "Training Results - Epoch: 1  Avg loss: 0.0000355400\n",
            "Current lr: 0.001\n",
            "Validation Results - Epoch: 1  Avg loss: 0.0000240451\n",
            "Training Results - Epoch: 2  Avg loss: 0.0000324782\n",
            "Current lr: 0.001\n",
            "Validation Results - Epoch: 2  Avg loss: 0.0000233076\n",
            "Training Results - Epoch: 3  Avg loss: 0.0000365316\n",
            "Current lr: 0.001\n",
            "Validation Results - Epoch: 3  Avg loss: 0.0000251249\n",
            "Training Results - Epoch: 4  Avg loss: 0.0000338955\n",
            "Current lr: 0.001\n",
            "Validation Results - Epoch: 4  Avg loss: 0.0000256799\n",
            "Training Results - Epoch: 5  Avg loss: 0.0000469585\n",
            "Current lr: 0.001\n",
            "Validation Results - Epoch: 5  Avg loss: 0.0000363702\n",
            "Training Results - Epoch: 6  Avg loss: 0.0000516206\n",
            "Current lr: 0.001\n",
            "Validation Results - Epoch: 6  Avg loss: 0.0000374205\n",
            "Training Results - Epoch: 7  Avg loss: 0.0000593093\n",
            "Current lr: 0.001\n",
            "Validation Results - Epoch: 7  Avg loss: 0.0000516503\n",
            "Training Results - Epoch: 8  Avg loss: 0.0000354643\n",
            "Current lr: 0.001\n",
            "Validation Results - Epoch: 8  Avg loss: 0.0000342481\n",
            "Training Results - Epoch: 9  Avg loss: 0.0000259043\n",
            "Current lr: 0.001\n",
            "Validation Results - Epoch: 9  Avg loss: 0.0000306615\n",
            "Training Results - Epoch: 10  Avg loss: 0.0000221940\n",
            "Current lr: 0.001\n",
            "Validation Results - Epoch: 10  Avg loss: 0.0000283576\n",
            "Training Results - Epoch: 11  Avg loss: 0.0000182324\n",
            "Current lr: 0.001\n",
            "Validation Results - Epoch: 11  Avg loss: 0.0000240557\n",
            "Training Results - Epoch: 12  Avg loss: 0.0000252509\n",
            "Current lr: 0.001\n",
            "Validation Results - Epoch: 12  Avg loss: 0.0000423603\n",
            "Training Results - Epoch: 13  Avg loss: 0.0000177327\n",
            "Current lr: 0.001\n",
            "Validation Results - Epoch: 13  Avg loss: 0.0000266826\n",
            "Training Results - Epoch: 14  Avg loss: 0.0000118298\n",
            "Current lr: 0.001\n",
            "Validation Results - Epoch: 14  Avg loss: 0.0000238742\n",
            "Training Results - Epoch: 15  Avg loss: 0.0000114824\n",
            "Current lr: 0.001\n",
            "Validation Results - Epoch: 15  Avg loss: 0.0000281113\n",
            "Training Results - Epoch: 16  Avg loss: 0.0000110027\n",
            "Current lr: 0.001\n",
            "Validation Results - Epoch: 16  Avg loss: 0.0000270139\n",
            "Training Results - Epoch: 17  Avg loss: 0.0000150856\n",
            "Current lr: 0.001\n",
            "Validation Results - Epoch: 17  Avg loss: 0.0000309595\n",
            "Training Results - Epoch: 18  Avg loss: 0.0000196237\n",
            "Current lr: 0.001\n",
            "Validation Results - Epoch: 18  Avg loss: 0.0000281199\n",
            "Training Results - Epoch: 19  Avg loss: 0.0000177834\n",
            "Current lr: 0.001\n",
            "Validation Results - Epoch: 19  Avg loss: 0.0000315538\n",
            "Training Results - Epoch: 20  Avg loss: 0.0000176853\n",
            "Current lr: 0.001\n",
            "Validation Results - Epoch: 20  Avg loss: 0.0000312434\n",
            "Training Results - Epoch: 21  Avg loss: 0.0000190586\n",
            "Current lr: 0.001\n",
            "Validation Results - Epoch: 21  Avg loss: 0.0000460888\n",
            "Training Results - Epoch: 22  Avg loss: 0.0000224342\n",
            "Current lr: 0.001\n",
            "Validation Results - Epoch: 22  Avg loss: 0.0000391259\n",
            "Training Results - Epoch: 23  Avg loss: 0.0000253101\n",
            "Current lr: 0.001\n",
            "Validation Results - Epoch: 23  Avg loss: 0.0000459025\n",
            "Training Results - Epoch: 24  Avg loss: 0.0000100363\n",
            "Current lr: 0.0001\n",
            "Validation Results - Epoch: 24  Avg loss: 0.0000322768\n",
            "Training Results - Epoch: 25  Avg loss: 0.0000062159\n",
            "Current lr: 0.0001\n",
            "Validation Results - Epoch: 25  Avg loss: 0.0000306738\n",
            "Training Results - Epoch: 26  Avg loss: 0.0000040679\n",
            "Current lr: 0.0001\n",
            "Validation Results - Epoch: 26  Avg loss: 0.0000286396\n",
            "Training Results - Epoch: 27  Avg loss: 0.0000030893\n",
            "Current lr: 0.0001\n",
            "Validation Results - Epoch: 27  Avg loss: 0.0000280236\n",
            "Training Results - Epoch: 28  Avg loss: 0.0000024059\n",
            "Current lr: 0.0001\n",
            "Validation Results - Epoch: 28  Avg loss: 0.0000277676\n",
            "Training Results - Epoch: 29  Avg loss: 0.0000019546\n",
            "Current lr: 0.0001\n",
            "Validation Results - Epoch: 29  Avg loss: 0.0000271785\n",
            "Training Results - Epoch: 30  Avg loss: 0.0000014840\n",
            "Current lr: 0.0001\n",
            "Validation Results - Epoch: 30  Avg loss: 0.0000269428\n",
            "Training Results - Epoch: 31  Avg loss: 0.0000012530\n",
            "Current lr: 0.0001\n",
            "Validation Results - Epoch: 31  Avg loss: 0.0000265096\n",
            "Training Results - Epoch: 32  Avg loss: 0.0000010626\n",
            "Current lr: 0.0001\n",
            "Validation Results - Epoch: 32  Avg loss: 0.0000267921\n"
          ],
          "name": "stdout"
        }
      ]
    },
    {
      "cell_type": "code",
      "metadata": {
        "id": "xu5kttTMXhJ7",
        "colab_type": "code",
        "outputId": "ab778e0f-5c2f-4ab3-dfd9-3258020606fc",
        "colab": {
          "base_uri": "https://localhost:8080/",
          "height": 312
        }
      },
      "source": [
        "plt.plot(range(len(validation_losses)), validation_losses, range(len(training_losses)), training_losses)\n",
        "plt.legend(['Validation Losses', 'Training Losses'])\n",
        "plt.title('Loss curves')\n",
        "plt.xlabel('Epoch')\n",
        "plt.ylabel('Loss')"
      ],
      "execution_count": 0,
      "outputs": [
        {
          "output_type": "execute_result",
          "data": {
            "text/plain": [
              "Text(0, 0.5, 'Loss')"
            ]
          },
          "metadata": {
            "tags": []
          },
          "execution_count": 73
        },
        {
          "output_type": "display_data",
          "data": {
            "image/png": "[encoded data removed]",
            "text/plain": [
              "<Figure size 432x288 with 1 Axes>"
            ]
          },
          "metadata": {
            "tags": []
          }
        }
      ]
    },
    {
      "cell_type": "code",
      "metadata": {
        "id": "ZNBvQWM8Xlmv",
        "colab_type": "code",
        "outputId": "cdd3a9aa-5779-4dd4-f307-60ddd4054089",
        "colab": {
          "base_uri": "https://localhost:8080/",
          "height": 34
        }
      },
      "source": [
        "# Test Loss\n",
        "criterion_c(census_data.data[test_neighbourhoods], decoder_c(census_data.reviews_embedding[test_neighbourhoods]))"
      ],
      "execution_count": 0,
      "outputs": [
        {
          "output_type": "execute_result",
          "data": {
            "text/plain": [
              "tensor(0.0006, grad_fn=<MeanBackward0>)"
            ]
          },
          "metadata": {
            "tags": []
          },
          "execution_count": 74
        }
      ]
    },
    {
      "cell_type": "code",
      "metadata": {
        "id": "IqyiM_kxXnNe",
        "colab_type": "code",
        "colab": {}
      },
      "source": [
        "decoded_delta = decoder_c(census_data.reviews_embedding).cpu().detach().numpy()\n",
        "actual_data = educations[2016].values\n",
        "predicted_data = educations[2011].values+ decoded_delta"
      ],
      "execution_count": 0,
      "outputs": []
    },
    {
      "cell_type": "code",
      "metadata": {
        "id": "EUx6T9e3Xqvu",
        "colab_type": "code",
        "outputId": "7fe187b1-107d-493f-ba1e-602f26f9a6ed",
        "colab": {
          "base_uri": "https://localhost:8080/",
          "height": 34
        }
      },
      "source": [
        "# Training error\n",
        "np.abs(predicted_data[train_val_neighbourhoods] - actual_data[train_val_neighbourhoods]).sum(axis=1).mean()"
      ],
      "execution_count": 0,
      "outputs": [
        {
          "output_type": "execute_result",
          "data": {
            "text/plain": [
              "0.009176226854191054"
            ]
          },
          "metadata": {
            "tags": []
          },
          "execution_count": 77
        }
      ]
    },
    {
      "cell_type": "code",
      "metadata": {
        "id": "5R27qAN4XvBj",
        "colab_type": "code",
        "outputId": "a6b0c610-e50c-4e44-850f-62a27868a5f9",
        "colab": {
          "base_uri": "https://localhost:8080/",
          "height": 34
        }
      },
      "source": [
        "# Validation Error\n",
        "np.abs((predicted_data[test_neighbourhoods]-actual_data[test_neighbourhoods])).sum(axis=1).mean()"
      ],
      "execution_count": 0,
      "outputs": [
        {
          "output_type": "execute_result",
          "data": {
            "text/plain": [
              "0.09398759707750141"
            ]
          },
          "metadata": {
            "tags": []
          },
          "execution_count": 78
        }
      ]
    },
    {
      "cell_type": "markdown",
      "metadata": {
        "id": "MZoVjqAibPFT",
        "colab_type": "text"
      },
      "source": [
        "## TF-IDF Autoencoder"
      ]
    },
    {
      "cell_type": "code",
      "metadata": {
        "id": "Qqk26vojbJYP",
        "colab_type": "code",
        "colab": {}
      },
      "source": [
        "class Encoder(nn.Module):\n",
        "    def __init__(self, sizes):\n",
        "        super(Encoder, self).__init__()\n",
        "                \n",
        "        layers_en = OrderedDict()       \n",
        "        for i in range(len(sizes)-1):\n",
        "            layer_name = 'linear{}'.format(i+1)\n",
        "            act_name = 'activation{}'.format(i+1)\n",
        "            layers_en[layer_name] = nn.Linear(sizes[i], sizes[i+1])\n",
        "            if i==0:\n",
        "                nn.init.xavier_uniform_(layers_en[layer_name].weight)\n",
        "            layers_en[act_name] = nn.Tanh() #-1 to 1\n",
        "        \n",
        "        self.encoder = nn.Sequential(layers_en)\n",
        "\n",
        "    def forward(self, x):\n",
        "        return self.encoder(x) \n",
        "    \n",
        "class Decoder(nn.Module):\n",
        "    def __init__(self, sizes):\n",
        "        super(Decoder, self).__init__()\n",
        "        \n",
        "        sizes = sizes[::-1]\n",
        "        \n",
        "        layers_de = OrderedDict()\n",
        "        for i in range(len(sizes)-2):\n",
        "            layer_name = 'linear{}'.format(i+1)\n",
        "            act_name = 'activation{}'.format(i+1)\n",
        "            layers_de[layer_name] = nn.Linear(sizes[i], sizes[i+1])\n",
        "            layers_de[act_name] = nn.Tanh()\n",
        "\n",
        "        layers_de['linear{}'.format(len(sizes)-1)] = nn.Linear(sizes[-2], sizes[-1])\n",
        "        layers_de['sigmoid'] = nn.Sigmoid() #0 to 1\n",
        "        self.decoder = nn.Sequential(layers_de)\n",
        "\n",
        "    def forward(self, encoded):\n",
        "        return self.decoder(encoded) "
      ],
      "execution_count": 0,
      "outputs": []
    },
    {
      "cell_type": "markdown",
      "metadata": {
        "id": "vQQbaL7TxjKb",
        "colab_type": "text"
      },
      "source": [
        "### Load trained model"
      ]
    },
    {
      "cell_type": "code",
      "metadata": {
        "id": "xdhvmqz3xrNQ",
        "colab_type": "code",
        "colab": {}
      },
      "source": [
        "lr = 0.001\n",
        "patience = 20\n",
        "min_lr = 0.00001"
      ],
      "execution_count": 0,
      "outputs": []
    },
    {
      "cell_type": "code",
      "metadata": {
        "id": "X44OFzttxs10",
        "colab_type": "code",
        "colab": {}
      },
      "source": [
        "sizes_r = [max_features, 2**10, 2**8, pca_components]\n",
        "encoder = Encoder(sizes_r)\n",
        "decoder = Decoder(sizes_r)\n",
        "\n",
        "if use_cuda and torch.cuda.is_available():\n",
        "    encoder.cuda()\n",
        "    decoder.cuda()"
      ],
      "execution_count": 0,
      "outputs": []
    },
    {
      "cell_type": "code",
      "metadata": {
        "id": "XGf84g_Oh34S",
        "colab_type": "code",
        "outputId": "45bb3655-f5b5-43b5-9be5-d3e5f404cfa8",
        "colab": {
          "base_uri": "https://localhost:8080/",
          "height": 185
        }
      },
      "source": [
        "encoder.load_state_dict(torch.load('/content/drive/My Drive/Thesis2019/models/review_encoder2_500.pth'))\n",
        "encoder.eval()\n",
        "encoder.to(torch.device(\"cuda\"))\n",
        "\n",
        "decoder.load_state_dict(torch.load('/content/drive/My Drive/Thesis2019/models/review_decoder2_500.pth'))\n",
        "decoder.eval()\n",
        "decoder.to(torch.device(\"cuda\"))"
      ],
      "execution_count": 0,
      "outputs": [
        {
          "output_type": "execute_result",
          "data": {
            "text/plain": [
              "Decoder(\n",
              "  (decoder): Sequential(\n",
              "    (linear1): Linear(in_features=16, out_features=256, bias=True)\n",
              "    (activation1): Tanh()\n",
              "    (linear2): Linear(in_features=256, out_features=1024, bias=True)\n",
              "    (activation2): Tanh()\n",
              "    (linear3): Linear(in_features=1024, out_features=1024, bias=True)\n",
              "    (sigmoid): Sigmoid()\n",
              "  )\n",
              ")"
            ]
          },
          "metadata": {
            "tags": []
          },
          "execution_count": 19
        }
      ]
    },
    {
      "cell_type": "markdown",
      "metadata": {
        "id": "71OoLpU43hWF",
        "colab_type": "text"
      },
      "source": [
        "### Multi-target Linear Regression"
      ]
    },
    {
      "cell_type": "code",
      "metadata": {
        "id": "zH7z_0fK3vee",
        "colab_type": "code",
        "colab": {}
      },
      "source": [
        "lr = RidgeCV(cv=5)\n",
        "delta_census = educations[2016].values - educations[2011].values\n",
        "delta_embedding = (encoder(reviews[2016].data) - encoder(reviews[2011].data)).detach().cpu().numpy()"
      ],
      "execution_count": 0,
      "outputs": []
    },
    {
      "cell_type": "code",
      "metadata": {
        "id": "3ApOZxNV3xtX",
        "colab_type": "code",
        "colab": {}
      },
      "source": [
        "lr.fit(delta_embedding[train_val_neighbourhoods], delta_census[train_val_neighbourhoods])"
      ],
      "execution_count": 0,
      "outputs": []
    },
    {
      "cell_type": "code",
      "metadata": {
        "id": "I6IgNOM03y5W",
        "colab_type": "code",
        "colab": {}
      },
      "source": [
        "predicted_change = lr.predict(delta_embedding[train_val_neighbourhoods])"
      ],
      "execution_count": 0,
      "outputs": []
    },
    {
      "cell_type": "code",
      "metadata": {
        "id": "GC53L79OzAuS",
        "colab_type": "code",
        "outputId": "6bf7916a-7ea0-4180-d597-cd6ac5959022",
        "colab": {
          "base_uri": "https://localhost:8080/",
          "height": 34
        }
      },
      "source": [
        "# Training Error\n",
        "np.abs((predicted_change-delta_census[train_val_neighbourhoods])).sum(axis=1).mean()"
      ],
      "execution_count": 0,
      "outputs": [
        {
          "output_type": "execute_result",
          "data": {
            "text/plain": [
              "0.07941866311359919"
            ]
          },
          "metadata": {
            "tags": []
          },
          "execution_count": 174
        }
      ]
    },
    {
      "cell_type": "code",
      "metadata": {
        "id": "ZM4QZ_tazKTy",
        "colab_type": "code",
        "outputId": "467e9aab-af37-4d93-a477-6c25ddf59223",
        "colab": {
          "base_uri": "https://localhost:8080/",
          "height": 34
        }
      },
      "source": [
        "# Validation Error\n",
        "np.abs((lr.predict(delta_embedding[test_neighbourhoods])-delta_census[test_neighbourhoods])).sum(axis=1).mean()"
      ],
      "execution_count": 0,
      "outputs": [
        {
          "output_type": "execute_result",
          "data": {
            "text/plain": [
              "0.10068076677944726"
            ]
          },
          "metadata": {
            "tags": []
          },
          "execution_count": 175
        }
      ]
    },
    {
      "cell_type": "markdown",
      "metadata": {
        "id": "QG5ldoCryItc",
        "colab_type": "text"
      },
      "source": [
        "### Multi-target Non-Linear Regression (Census Decoder)"
      ]
    },
    {
      "cell_type": "code",
      "metadata": {
        "id": "pK0G6Xm--bxQ",
        "colab_type": "code",
        "colab": {}
      },
      "source": [
        "delta_embedding = encoder(reviews[2016].data) - encoder(reviews[2011].data)\n",
        "delta_census = educations[2016].values - educations[2011].values\n",
        "census_data = CensusVector(delta_census, delta_embedding)"
      ],
      "execution_count": 0,
      "outputs": []
    },
    {
      "cell_type": "code",
      "metadata": {
        "id": "N13NFMvWJZRR",
        "colab_type": "code",
        "colab": {}
      },
      "source": [
        "sizes_c = [educations[2011].shape[1], pca_components]\n",
        "decoder_c = Decoder_C(sizes_c)\n",
        "\n",
        "if use_cuda and torch.cuda.is_available():\n",
        "    decoder_c.cuda()"
      ],
      "execution_count": 0,
      "outputs": []
    },
    {
      "cell_type": "code",
      "metadata": {
        "id": "gvBlIbgHOMbH",
        "colab_type": "code",
        "outputId": "01c3bc2c-cbb2-4851-a04b-b5e4f300b99c",
        "colab": {
          "base_uri": "https://localhost:8080/",
          "height": 1000
        }
      },
      "source": [
        "validation_losses, training_losses = [], []\n",
        "for i in range(folds):\n",
        "  print('FOLD', i)\n",
        "  t, v = train_decoder(decoder_c, census_data, all_trains[i], all_vals[i])\n",
        "  training_losses.extend(t)\n",
        "  validation_losses.extend(v)"
      ],
      "execution_count": 0,
      "outputs": [
        {
          "output_type": "stream",
          "text": [
            "FOLD 0\n",
            "Training Results - Epoch: 1  Avg loss: 0.0479105313\n",
            "Current lr: 0.001\n",
            "Validation Results - Epoch: 1  Avg loss: 0.0482932726\n",
            "Training Results - Epoch: 2  Avg loss: 0.0213039659\n",
            "Current lr: 0.001\n",
            "Validation Results - Epoch: 2  Avg loss: 0.0223544575\n",
            "Training Results - Epoch: 3  Avg loss: 0.0076624275\n",
            "Current lr: 0.001\n",
            "Validation Results - Epoch: 3  Avg loss: 0.0086351263\n",
            "Training Results - Epoch: 4  Avg loss: 0.0024466911\n",
            "Current lr: 0.001\n",
            "Validation Results - Epoch: 4  Avg loss: 0.0032047574\n",
            "Training Results - Epoch: 5  Avg loss: 0.0011215215\n",
            "Current lr: 0.001\n",
            "Validation Results - Epoch: 5  Avg loss: 0.0017941820\n",
            "Training Results - Epoch: 6  Avg loss: 0.0008330206\n",
            "Current lr: 0.001\n",
            "Validation Results - Epoch: 6  Avg loss: 0.0013699129\n",
            "Training Results - Epoch: 7  Avg loss: 0.0007443391\n",
            "Current lr: 0.001\n",
            "Validation Results - Epoch: 7  Avg loss: 0.0011972743\n",
            "Training Results - Epoch: 8  Avg loss: 0.0006784682\n",
            "Current lr: 0.001\n",
            "Validation Results - Epoch: 8  Avg loss: 0.0011219031\n",
            "Training Results - Epoch: 9  Avg loss: 0.0006268584\n",
            "Current lr: 0.001\n",
            "Validation Results - Epoch: 9  Avg loss: 0.0010349812\n",
            "Training Results - Epoch: 10  Avg loss: 0.0005874338\n",
            "Current lr: 0.001\n",
            "Validation Results - Epoch: 10  Avg loss: 0.0009581546\n",
            "Training Results - Epoch: 11  Avg loss: 0.0005598825\n",
            "Current lr: 0.001\n",
            "Validation Results - Epoch: 11  Avg loss: 0.0009395100\n",
            "Training Results - Epoch: 12  Avg loss: 0.0005280613\n",
            "Current lr: 0.001\n",
            "Validation Results - Epoch: 12  Avg loss: 0.0008557688\n",
            "Training Results - Epoch: 13  Avg loss: 0.0005033555\n",
            "Current lr: 0.001\n",
            "Validation Results - Epoch: 13  Avg loss: 0.0008241048\n",
            "Training Results - Epoch: 14  Avg loss: 0.0004917472\n",
            "Current lr: 0.001\n",
            "Validation Results - Epoch: 14  Avg loss: 0.0008196910\n",
            "Training Results - Epoch: 15  Avg loss: 0.0004672150\n",
            "Current lr: 0.001\n",
            "Validation Results - Epoch: 15  Avg loss: 0.0007573392\n",
            "Training Results - Epoch: 16  Avg loss: 0.0004498040\n",
            "Current lr: 0.001\n",
            "Validation Results - Epoch: 16  Avg loss: 0.0007175010\n",
            "Training Results - Epoch: 17  Avg loss: 0.0004451981\n",
            "Current lr: 0.001\n",
            "Validation Results - Epoch: 17  Avg loss: 0.0006984296\n",
            "Training Results - Epoch: 18  Avg loss: 0.0004265176\n",
            "Current lr: 0.001\n",
            "Validation Results - Epoch: 18  Avg loss: 0.0006767888\n",
            "Training Results - Epoch: 19  Avg loss: 0.0004217234\n",
            "Current lr: 0.001\n",
            "Validation Results - Epoch: 19  Avg loss: 0.0006480556\n",
            "Training Results - Epoch: 20  Avg loss: 0.0004123837\n",
            "Current lr: 0.001\n",
            "Validation Results - Epoch: 20  Avg loss: 0.0006609243\n",
            "Training Results - Epoch: 21  Avg loss: 0.0004023490\n",
            "Current lr: 0.001\n",
            "Validation Results - Epoch: 21  Avg loss: 0.0006384672\n",
            "Training Results - Epoch: 22  Avg loss: 0.0003995237\n",
            "Current lr: 0.001\n",
            "Validation Results - Epoch: 22  Avg loss: 0.0006338862\n",
            "Training Results - Epoch: 23  Avg loss: 0.0003926858\n",
            "Current lr: 0.001\n",
            "Validation Results - Epoch: 23  Avg loss: 0.0005980305\n",
            "Training Results - Epoch: 24  Avg loss: 0.0003888407\n",
            "Current lr: 0.001\n",
            "Validation Results - Epoch: 24  Avg loss: 0.0005978841\n",
            "Training Results - Epoch: 25  Avg loss: 0.0003824851\n",
            "Current lr: 0.001\n",
            "Validation Results - Epoch: 25  Avg loss: 0.0005944352\n",
            "Training Results - Epoch: 26  Avg loss: 0.0003784081\n",
            "Current lr: 0.001\n",
            "Validation Results - Epoch: 26  Avg loss: 0.0005849630\n",
            "Training Results - Epoch: 27  Avg loss: 0.0003783193\n",
            "Current lr: 0.001\n",
            "Validation Results - Epoch: 27  Avg loss: 0.0005765845\n",
            "Training Results - Epoch: 28  Avg loss: 0.0003738325\n",
            "Current lr: 0.001\n",
            "Validation Results - Epoch: 28  Avg loss: 0.0005473291\n",
            "Training Results - Epoch: 29  Avg loss: 0.0003718732\n",
            "Current lr: 0.001\n",
            "Validation Results - Epoch: 29  Avg loss: 0.0005598268\n",
            "Training Results - Epoch: 30  Avg loss: 0.0003657541\n",
            "Current lr: 0.001\n",
            "Validation Results - Epoch: 30  Avg loss: 0.0005399628\n",
            "Training Results - Epoch: 31  Avg loss: 0.0003652163\n",
            "Current lr: 0.001\n",
            "Validation Results - Epoch: 31  Avg loss: 0.0005566389\n",
            "Training Results - Epoch: 32  Avg loss: 0.0003609830\n",
            "Current lr: 0.001\n",
            "Validation Results - Epoch: 32  Avg loss: 0.0005460820\n",
            "Training Results - Epoch: 33  Avg loss: 0.0003622257\n",
            "Current lr: 0.001\n",
            "Validation Results - Epoch: 33  Avg loss: 0.0005204857\n",
            "Training Results - Epoch: 34  Avg loss: 0.0003611645\n",
            "Current lr: 0.001\n",
            "Validation Results - Epoch: 34  Avg loss: 0.0005443872\n",
            "Training Results - Epoch: 35  Avg loss: 0.0003574307\n",
            "Current lr: 0.001\n",
            "Validation Results - Epoch: 35  Avg loss: 0.0005090319\n",
            "Training Results - Epoch: 36  Avg loss: 0.0003630609\n",
            "Current lr: 0.001\n",
            "Validation Results - Epoch: 36  Avg loss: 0.0005175123\n",
            "Training Results - Epoch: 37  Avg loss: 0.0003611074\n",
            "Current lr: 0.001\n",
            "Validation Results - Epoch: 37  Avg loss: 0.0005169455\n",
            "Training Results - Epoch: 38  Avg loss: 0.0003539827\n",
            "Current lr: 0.001\n",
            "Validation Results - Epoch: 38  Avg loss: 0.0005097410\n",
            "Training Results - Epoch: 39  Avg loss: 0.0003468554\n",
            "Current lr: 0.001\n",
            "Validation Results - Epoch: 39  Avg loss: 0.0005096986\n",
            "Training Results - Epoch: 40  Avg loss: 0.0003587183\n",
            "Current lr: 0.001\n",
            "Validation Results - Epoch: 40  Avg loss: 0.0005066007\n",
            "Training Results - Epoch: 41  Avg loss: 0.0003477196\n",
            "Current lr: 0.001\n",
            "Validation Results - Epoch: 41  Avg loss: 0.0004928182\n",
            "Training Results - Epoch: 42  Avg loss: 0.0003505577\n",
            "Current lr: 0.001\n",
            "Validation Results - Epoch: 42  Avg loss: 0.0005156110\n",
            "Training Results - Epoch: 43  Avg loss: 0.0003444749\n",
            "Current lr: 0.001\n",
            "Validation Results - Epoch: 43  Avg loss: 0.0005006084\n",
            "Training Results - Epoch: 44  Avg loss: 0.0003438477\n",
            "Current lr: 0.001\n",
            "Validation Results - Epoch: 44  Avg loss: 0.0005006350\n",
            "Training Results - Epoch: 45  Avg loss: 0.0003485875\n",
            "Current lr: 0.001\n",
            "Validation Results - Epoch: 45  Avg loss: 0.0005150302\n",
            "Training Results - Epoch: 46  Avg loss: 0.0003459886\n",
            "Current lr: 0.001\n",
            "Validation Results - Epoch: 46  Avg loss: 0.0005113695\n",
            "Training Results - Epoch: 47  Avg loss: 0.0003388888\n",
            "Current lr: 0.001\n",
            "Validation Results - Epoch: 47  Avg loss: 0.0005003461\n",
            "Training Results - Epoch: 48  Avg loss: 0.0003386684\n",
            "Current lr: 0.001\n",
            "Validation Results - Epoch: 48  Avg loss: 0.0004980182\n",
            "Training Results - Epoch: 49  Avg loss: 0.0003367019\n",
            "Current lr: 0.001\n",
            "Validation Results - Epoch: 49  Avg loss: 0.0004806321\n",
            "Training Results - Epoch: 50  Avg loss: 0.0003419671\n",
            "Current lr: 0.001\n",
            "Validation Results - Epoch: 50  Avg loss: 0.0004878838\n",
            "Training Results - Epoch: 51  Avg loss: 0.0003484130\n",
            "Current lr: 0.001\n",
            "Validation Results - Epoch: 51  Avg loss: 0.0004777685\n",
            "Training Results - Epoch: 52  Avg loss: 0.0003637409\n",
            "Current lr: 0.001\n",
            "Validation Results - Epoch: 52  Avg loss: 0.0005300213\n",
            "Training Results - Epoch: 53  Avg loss: 0.0003375005\n",
            "Current lr: 0.001\n",
            "Validation Results - Epoch: 53  Avg loss: 0.0004956158\n",
            "Training Results - Epoch: 54  Avg loss: 0.0003298495\n",
            "Current lr: 0.001\n",
            "Validation Results - Epoch: 54  Avg loss: 0.0004938525\n",
            "Training Results - Epoch: 55  Avg loss: 0.0003412804\n",
            "Current lr: 0.001\n",
            "Validation Results - Epoch: 55  Avg loss: 0.0004929273\n",
            "Training Results - Epoch: 56  Avg loss: 0.0003315111\n",
            "Current lr: 0.001\n",
            "Validation Results - Epoch: 56  Avg loss: 0.0005043350\n",
            "Training Results - Epoch: 57  Avg loss: 0.0003425704\n",
            "Current lr: 0.001\n",
            "Validation Results - Epoch: 57  Avg loss: 0.0005179288\n",
            "Training Results - Epoch: 58  Avg loss: 0.0003368196\n",
            "Current lr: 0.001\n",
            "Validation Results - Epoch: 58  Avg loss: 0.0004978064\n",
            "Training Results - Epoch: 59  Avg loss: 0.0003510693\n",
            "Current lr: 0.001\n",
            "Validation Results - Epoch: 59  Avg loss: 0.0004767039\n",
            "Training Results - Epoch: 60  Avg loss: 0.0003432453\n",
            "Current lr: 0.001\n",
            "Validation Results - Epoch: 60  Avg loss: 0.0005095172\n",
            "Training Results - Epoch: 61  Avg loss: 0.0003463379\n",
            "Current lr: 0.001\n",
            "Validation Results - Epoch: 61  Avg loss: 0.0004759704\n",
            "Training Results - Epoch: 62  Avg loss: 0.0003533521\n",
            "Current lr: 0.001\n",
            "Validation Results - Epoch: 62  Avg loss: 0.0005332479\n",
            "Training Results - Epoch: 63  Avg loss: 0.0003268912\n",
            "Current lr: 0.001\n",
            "Validation Results - Epoch: 63  Avg loss: 0.0004929233\n",
            "Training Results - Epoch: 64  Avg loss: 0.0003271458\n",
            "Current lr: 0.001\n",
            "Validation Results - Epoch: 64  Avg loss: 0.0004849018\n",
            "Training Results - Epoch: 65  Avg loss: 0.0003265910\n",
            "Current lr: 0.001\n",
            "Validation Results - Epoch: 65  Avg loss: 0.0004877317\n",
            "Training Results - Epoch: 66  Avg loss: 0.0003303358\n",
            "Current lr: 0.001\n",
            "Validation Results - Epoch: 66  Avg loss: 0.0004975489\n",
            "Training Results - Epoch: 67  Avg loss: 0.0003407496\n",
            "Current lr: 0.001\n",
            "Validation Results - Epoch: 67  Avg loss: 0.0005091498\n",
            "Training Results - Epoch: 68  Avg loss: 0.0003280883\n",
            "Current lr: 0.001\n",
            "Validation Results - Epoch: 68  Avg loss: 0.0004813737\n",
            "Training Results - Epoch: 69  Avg loss: 0.0003287830\n",
            "Current lr: 0.001\n",
            "Validation Results - Epoch: 69  Avg loss: 0.0005027217\n",
            "Training Results - Epoch: 70  Avg loss: 0.0003322818\n",
            "Current lr: 0.001\n",
            "Validation Results - Epoch: 70  Avg loss: 0.0004934414\n",
            "Training Results - Epoch: 71  Avg loss: 0.0003218433\n",
            "Current lr: 0.001\n",
            "Validation Results - Epoch: 71  Avg loss: 0.0004986493\n",
            "Training Results - Epoch: 72  Avg loss: 0.0003255580\n",
            "Current lr: 0.001\n",
            "Validation Results - Epoch: 72  Avg loss: 0.0004893366\n",
            "Training Results - Epoch: 73  Avg loss: 0.0003216773\n",
            "Current lr: 0.001\n",
            "Validation Results - Epoch: 73  Avg loss: 0.0004902188\n",
            "Training Results - Epoch: 74  Avg loss: 0.0003260823\n",
            "Current lr: 0.001\n",
            "Validation Results - Epoch: 74  Avg loss: 0.0004997403\n",
            "Training Results - Epoch: 75  Avg loss: 0.0003202811\n",
            "Current lr: 0.001\n",
            "Validation Results - Epoch: 75  Avg loss: 0.0005023442\n",
            "Training Results - Epoch: 76  Avg loss: 0.0003329778\n",
            "Current lr: 0.001\n",
            "Validation Results - Epoch: 76  Avg loss: 0.0005001607\n",
            "Training Results - Epoch: 77  Avg loss: 0.0003305371\n",
            "Current lr: 0.001\n",
            "Validation Results - Epoch: 77  Avg loss: 0.0005110476\n",
            "Training Results - Epoch: 78  Avg loss: 0.0003265078\n",
            "Current lr: 0.001\n",
            "Validation Results - Epoch: 78  Avg loss: 0.0004976882\n",
            "Training Results - Epoch: 79  Avg loss: 0.0003189104\n",
            "Current lr: 0.001\n",
            "Validation Results - Epoch: 79  Avg loss: 0.0004883582\n",
            "Training Results - Epoch: 80  Avg loss: 0.0003204013\n",
            "Current lr: 0.001\n",
            "Validation Results - Epoch: 80  Avg loss: 0.0005043390\n",
            "Training Results - Epoch: 81  Avg loss: 0.0003177761\n",
            "Current lr: 0.001\n",
            "Validation Results - Epoch: 81  Avg loss: 0.0004879624\n",
            "Training Results - Epoch: 82  Avg loss: 0.0003250326\n",
            "Current lr: 0.001\n",
            "Validation Results - Epoch: 82  Avg loss: 0.0005075577\n",
            "Training Results - Epoch: 83  Avg loss: 0.0003163730\n",
            "Current lr: 0.0001\n",
            "Validation Results - Epoch: 83  Avg loss: 0.0004966481\n",
            "Training Results - Epoch: 84  Avg loss: 0.0003153250\n",
            "Current lr: 0.0001\n",
            "Validation Results - Epoch: 84  Avg loss: 0.0004943474\n",
            "Training Results - Epoch: 85  Avg loss: 0.0003142590\n",
            "Current lr: 0.0001\n",
            "Validation Results - Epoch: 85  Avg loss: 0.0004931164\n",
            "Training Results - Epoch: 86  Avg loss: 0.0003143452\n",
            "Current lr: 0.0001\n",
            "Validation Results - Epoch: 86  Avg loss: 0.0004946542\n",
            "Training Results - Epoch: 87  Avg loss: 0.0003141501\n",
            "Current lr: 0.0001\n",
            "Validation Results - Epoch: 87  Avg loss: 0.0004927272\n",
            "Training Results - Epoch: 88  Avg loss: 0.0003141094\n",
            "Current lr: 0.0001\n",
            "Validation Results - Epoch: 88  Avg loss: 0.0004938954\n",
            "Training Results - Epoch: 89  Avg loss: 0.0003140079\n",
            "Current lr: 0.0001\n",
            "Validation Results - Epoch: 89  Avg loss: 0.0004912650\n",
            "Training Results - Epoch: 90  Avg loss: 0.0003142174\n",
            "Current lr: 0.0001\n",
            "Validation Results - Epoch: 90  Avg loss: 0.0004899271\n",
            "Training Results - Epoch: 91  Avg loss: 0.0003139309\n",
            "Current lr: 0.0001\n",
            "Validation Results - Epoch: 91  Avg loss: 0.0004922329\n",
            "FOLD 1\n",
            "Training Results - Epoch: 1  Avg loss: 0.0003918933\n",
            "Current lr: 0.001\n",
            "Validation Results - Epoch: 1  Avg loss: 0.0003222980\n",
            "Training Results - Epoch: 2  Avg loss: 0.0003972347\n",
            "Current lr: 0.001\n",
            "Validation Results - Epoch: 2  Avg loss: 0.0003203230\n",
            "Training Results - Epoch: 3  Avg loss: 0.0003741689\n",
            "Current lr: 0.001\n",
            "Validation Results - Epoch: 3  Avg loss: 0.0002887226\n",
            "Training Results - Epoch: 4  Avg loss: 0.0003992331\n",
            "Current lr: 0.001\n",
            "Validation Results - Epoch: 4  Avg loss: 0.0003105569\n",
            "Training Results - Epoch: 5  Avg loss: 0.0003861903\n",
            "Current lr: 0.001\n",
            "Validation Results - Epoch: 5  Avg loss: 0.0003046032\n",
            "Training Results - Epoch: 6  Avg loss: 0.0003730922\n",
            "Current lr: 0.001\n",
            "Validation Results - Epoch: 6  Avg loss: 0.0002793131\n",
            "Training Results - Epoch: 7  Avg loss: 0.0003799681\n",
            "Current lr: 0.001\n",
            "Validation Results - Epoch: 7  Avg loss: 0.0002939914\n",
            "Training Results - Epoch: 8  Avg loss: 0.0003665343\n",
            "Current lr: 0.001\n",
            "Validation Results - Epoch: 8  Avg loss: 0.0002897442\n",
            "Training Results - Epoch: 9  Avg loss: 0.0003681352\n",
            "Current lr: 0.001\n",
            "Validation Results - Epoch: 9  Avg loss: 0.0002857850\n",
            "Training Results - Epoch: 10  Avg loss: 0.0003753470\n",
            "Current lr: 0.001\n",
            "Validation Results - Epoch: 10  Avg loss: 0.0002866814\n",
            "Training Results - Epoch: 11  Avg loss: 0.0003778272\n",
            "Current lr: 0.001\n",
            "Validation Results - Epoch: 11  Avg loss: 0.0002975173\n",
            "Training Results - Epoch: 12  Avg loss: 0.0003835429\n",
            "Current lr: 0.001\n",
            "Validation Results - Epoch: 12  Avg loss: 0.0002955678\n",
            "Training Results - Epoch: 13  Avg loss: 0.0003668372\n",
            "Current lr: 0.001\n",
            "Validation Results - Epoch: 13  Avg loss: 0.0002910750\n",
            "Training Results - Epoch: 14  Avg loss: 0.0003765175\n",
            "Current lr: 0.001\n",
            "Validation Results - Epoch: 14  Avg loss: 0.0002945901\n",
            "Training Results - Epoch: 15  Avg loss: 0.0003640768\n",
            "Current lr: 0.001\n",
            "Validation Results - Epoch: 15  Avg loss: 0.0002854754\n",
            "Training Results - Epoch: 16  Avg loss: 0.0003697279\n",
            "Current lr: 0.001\n",
            "Validation Results - Epoch: 16  Avg loss: 0.0003051311\n",
            "Training Results - Epoch: 17  Avg loss: 0.0003685439\n",
            "Current lr: 0.001\n",
            "Validation Results - Epoch: 17  Avg loss: 0.0003043924\n",
            "Training Results - Epoch: 18  Avg loss: 0.0003627600\n",
            "Current lr: 0.001\n",
            "Validation Results - Epoch: 18  Avg loss: 0.0002921722\n",
            "Training Results - Epoch: 19  Avg loss: 0.0003807670\n",
            "Current lr: 0.001\n",
            "Validation Results - Epoch: 19  Avg loss: 0.0003134393\n",
            "Training Results - Epoch: 20  Avg loss: 0.0003701013\n",
            "Current lr: 0.001\n",
            "Validation Results - Epoch: 20  Avg loss: 0.0003064107\n",
            "Training Results - Epoch: 21  Avg loss: 0.0003648202\n",
            "Current lr: 0.001\n",
            "Validation Results - Epoch: 21  Avg loss: 0.0003082564\n",
            "Training Results - Epoch: 22  Avg loss: 0.0003674336\n",
            "Current lr: 0.001\n",
            "Validation Results - Epoch: 22  Avg loss: 0.0003113524\n",
            "Training Results - Epoch: 23  Avg loss: 0.0003635802\n",
            "Current lr: 0.001\n",
            "Validation Results - Epoch: 23  Avg loss: 0.0003181203\n",
            "Training Results - Epoch: 24  Avg loss: 0.0003645555\n",
            "Current lr: 0.001\n",
            "Validation Results - Epoch: 24  Avg loss: 0.0003265675\n",
            "Training Results - Epoch: 25  Avg loss: 0.0003688517\n",
            "Current lr: 0.001\n",
            "Validation Results - Epoch: 25  Avg loss: 0.0003221661\n",
            "Training Results - Epoch: 26  Avg loss: 0.0003748680\n",
            "Current lr: 0.001\n",
            "Validation Results - Epoch: 26  Avg loss: 0.0003399513\n",
            "Training Results - Epoch: 27  Avg loss: 0.0003628117\n",
            "Current lr: 0.001\n",
            "Validation Results - Epoch: 27  Avg loss: 0.0003166027\n",
            "Training Results - Epoch: 28  Avg loss: 0.0003566776\n",
            "Current lr: 0.0001\n",
            "Validation Results - Epoch: 28  Avg loss: 0.0003127196\n",
            "Training Results - Epoch: 29  Avg loss: 0.0003560099\n",
            "Current lr: 0.0001\n",
            "Validation Results - Epoch: 29  Avg loss: 0.0003130090\n",
            "Training Results - Epoch: 30  Avg loss: 0.0003551251\n",
            "Current lr: 0.0001\n",
            "Validation Results - Epoch: 30  Avg loss: 0.0003131627\n",
            "Training Results - Epoch: 31  Avg loss: 0.0003551052\n",
            "Current lr: 0.0001\n",
            "Validation Results - Epoch: 31  Avg loss: 0.0003138742\n",
            "Training Results - Epoch: 32  Avg loss: 0.0003550670\n",
            "Current lr: 0.0001\n",
            "Validation Results - Epoch: 32  Avg loss: 0.0003138244\n",
            "Training Results - Epoch: 33  Avg loss: 0.0003549597\n",
            "Current lr: 0.0001\n",
            "Validation Results - Epoch: 33  Avg loss: 0.0003143782\n",
            "Training Results - Epoch: 34  Avg loss: 0.0003548771\n",
            "Current lr: 0.0001\n",
            "Validation Results - Epoch: 34  Avg loss: 0.0003142226\n",
            "Training Results - Epoch: 35  Avg loss: 0.0003549027\n",
            "Current lr: 0.0001\n",
            "Validation Results - Epoch: 35  Avg loss: 0.0003145190\n",
            "Training Results - Epoch: 36  Avg loss: 0.0003548326\n",
            "Current lr: 0.0001\n",
            "Validation Results - Epoch: 36  Avg loss: 0.0003152019\n",
            "FOLD 2\n",
            "Training Results - Epoch: 1  Avg loss: 0.0003045381\n",
            "Current lr: 0.001\n",
            "Validation Results - Epoch: 1  Avg loss: 0.0004481916\n",
            "Training Results - Epoch: 2  Avg loss: 0.0003128044\n",
            "Current lr: 0.001\n",
            "Validation Results - Epoch: 2  Avg loss: 0.0004889958\n",
            "Training Results - Epoch: 3  Avg loss: 0.0003073518\n",
            "Current lr: 0.001\n",
            "Validation Results - Epoch: 3  Avg loss: 0.0004665262\n",
            "Training Results - Epoch: 4  Avg loss: 0.0002980226\n",
            "Current lr: 0.001\n",
            "Validation Results - Epoch: 4  Avg loss: 0.0004562343\n",
            "Training Results - Epoch: 5  Avg loss: 0.0003220959\n",
            "Current lr: 0.001\n",
            "Validation Results - Epoch: 5  Avg loss: 0.0004818299\n",
            "Training Results - Epoch: 6  Avg loss: 0.0002899151\n",
            "Current lr: 0.001\n",
            "Validation Results - Epoch: 6  Avg loss: 0.0004625171\n",
            "Training Results - Epoch: 7  Avg loss: 0.0002899323\n",
            "Current lr: 0.001\n",
            "Validation Results - Epoch: 7  Avg loss: 0.0004742110\n",
            "Training Results - Epoch: 8  Avg loss: 0.0002849815\n",
            "Current lr: 0.001\n",
            "Validation Results - Epoch: 8  Avg loss: 0.0004769150\n",
            "Training Results - Epoch: 9  Avg loss: 0.0002951329\n",
            "Current lr: 0.001\n",
            "Validation Results - Epoch: 9  Avg loss: 0.0004831489\n",
            "Training Results - Epoch: 10  Avg loss: 0.0002896788\n",
            "Current lr: 0.001\n",
            "Validation Results - Epoch: 10  Avg loss: 0.0004917304\n",
            "Training Results - Epoch: 11  Avg loss: 0.0002897362\n",
            "Current lr: 0.001\n",
            "Validation Results - Epoch: 11  Avg loss: 0.0004878128\n",
            "Training Results - Epoch: 12  Avg loss: 0.0002887680\n",
            "Current lr: 0.001\n",
            "Validation Results - Epoch: 12  Avg loss: 0.0004768146\n",
            "Training Results - Epoch: 13  Avg loss: 0.0002850070\n",
            "Current lr: 0.001\n",
            "Validation Results - Epoch: 13  Avg loss: 0.0004860166\n",
            "Training Results - Epoch: 14  Avg loss: 0.0002833918\n",
            "Current lr: 0.001\n",
            "Validation Results - Epoch: 14  Avg loss: 0.0004968694\n",
            "Training Results - Epoch: 15  Avg loss: 0.0003045769\n",
            "Current lr: 0.001\n",
            "Validation Results - Epoch: 15  Avg loss: 0.0005346737\n",
            "Training Results - Epoch: 16  Avg loss: 0.0002935630\n",
            "Current lr: 0.001\n",
            "Validation Results - Epoch: 16  Avg loss: 0.0005049970\n",
            "Training Results - Epoch: 17  Avg loss: 0.0002850505\n",
            "Current lr: 0.001\n",
            "Validation Results - Epoch: 17  Avg loss: 0.0004843642\n",
            "Training Results - Epoch: 18  Avg loss: 0.0002912551\n",
            "Current lr: 0.001\n",
            "Validation Results - Epoch: 18  Avg loss: 0.0004945688\n",
            "Training Results - Epoch: 19  Avg loss: 0.0002820589\n",
            "Current lr: 0.001\n",
            "Validation Results - Epoch: 19  Avg loss: 0.0004976030\n",
            "Training Results - Epoch: 20  Avg loss: 0.0002813344\n",
            "Current lr: 0.001\n",
            "Validation Results - Epoch: 20  Avg loss: 0.0005042253\n",
            "Training Results - Epoch: 21  Avg loss: 0.0002856196\n",
            "Current lr: 0.001\n",
            "Validation Results - Epoch: 21  Avg loss: 0.0005038075\n",
            "Training Results - Epoch: 22  Avg loss: 0.0002884072\n",
            "Current lr: 0.001\n",
            "Validation Results - Epoch: 22  Avg loss: 0.0005240457\n",
            "Training Results - Epoch: 23  Avg loss: 0.0002780612\n",
            "Current lr: 0.0001\n",
            "Validation Results - Epoch: 23  Avg loss: 0.0005053625\n",
            "Training Results - Epoch: 24  Avg loss: 0.0002761959\n",
            "Current lr: 0.0001\n",
            "Validation Results - Epoch: 24  Avg loss: 0.0005018614\n",
            "Training Results - Epoch: 25  Avg loss: 0.0002752748\n",
            "Current lr: 0.0001\n",
            "Validation Results - Epoch: 25  Avg loss: 0.0004978838\n",
            "Training Results - Epoch: 26  Avg loss: 0.0002751255\n",
            "Current lr: 0.0001\n",
            "Validation Results - Epoch: 26  Avg loss: 0.0004973248\n",
            "Training Results - Epoch: 27  Avg loss: 0.0002749762\n",
            "Current lr: 0.0001\n",
            "Validation Results - Epoch: 27  Avg loss: 0.0004962709\n",
            "Training Results - Epoch: 28  Avg loss: 0.0002749246\n",
            "Current lr: 0.0001\n",
            "Validation Results - Epoch: 28  Avg loss: 0.0004949592\n",
            "Training Results - Epoch: 29  Avg loss: 0.0002749329\n",
            "Current lr: 0.0001\n",
            "Validation Results - Epoch: 29  Avg loss: 0.0004976014\n",
            "Training Results - Epoch: 30  Avg loss: 0.0002748407\n",
            "Current lr: 0.0001\n",
            "Validation Results - Epoch: 30  Avg loss: 0.0004971919\n",
            "Training Results - Epoch: 31  Avg loss: 0.0002748090\n",
            "Current lr: 0.0001\n",
            "Validation Results - Epoch: 31  Avg loss: 0.0004963465\n",
            "FOLD 3\n",
            "Training Results - Epoch: 1  Avg loss: 0.0003488504\n",
            "Current lr: 0.001\n",
            "Validation Results - Epoch: 1  Avg loss: 0.0003560910\n",
            "Training Results - Epoch: 2  Avg loss: 0.0003391383\n",
            "Current lr: 0.001\n",
            "Validation Results - Epoch: 2  Avg loss: 0.0003815508\n",
            "Training Results - Epoch: 3  Avg loss: 0.0003349305\n",
            "Current lr: 0.001\n",
            "Validation Results - Epoch: 3  Avg loss: 0.0003790907\n",
            "Training Results - Epoch: 4  Avg loss: 0.0003257314\n",
            "Current lr: 0.001\n",
            "Validation Results - Epoch: 4  Avg loss: 0.0003864228\n",
            "Training Results - Epoch: 5  Avg loss: 0.0003338808\n",
            "Current lr: 0.001\n",
            "Validation Results - Epoch: 5  Avg loss: 0.0003885197\n",
            "Training Results - Epoch: 6  Avg loss: 0.0003340033\n",
            "Current lr: 0.001\n",
            "Validation Results - Epoch: 6  Avg loss: 0.0003861371\n",
            "Training Results - Epoch: 7  Avg loss: 0.0003448653\n",
            "Current lr: 0.001\n",
            "Validation Results - Epoch: 7  Avg loss: 0.0004177287\n",
            "Training Results - Epoch: 8  Avg loss: 0.0003256601\n",
            "Current lr: 0.001\n",
            "Validation Results - Epoch: 8  Avg loss: 0.0004050411\n",
            "Training Results - Epoch: 9  Avg loss: 0.0003216891\n",
            "Current lr: 0.001\n",
            "Validation Results - Epoch: 9  Avg loss: 0.0004103780\n",
            "Training Results - Epoch: 10  Avg loss: 0.0003151517\n",
            "Current lr: 0.001\n",
            "Validation Results - Epoch: 10  Avg loss: 0.0004116280\n",
            "Training Results - Epoch: 11  Avg loss: 0.0003217295\n",
            "Current lr: 0.001\n",
            "Validation Results - Epoch: 11  Avg loss: 0.0004127413\n",
            "Training Results - Epoch: 12  Avg loss: 0.0003135710\n",
            "Current lr: 0.001\n",
            "Validation Results - Epoch: 12  Avg loss: 0.0004159905\n",
            "Training Results - Epoch: 13  Avg loss: 0.0003195530\n",
            "Current lr: 0.001\n",
            "Validation Results - Epoch: 13  Avg loss: 0.0004306022\n",
            "Training Results - Epoch: 14  Avg loss: 0.0003226038\n",
            "Current lr: 0.001\n",
            "Validation Results - Epoch: 14  Avg loss: 0.0004533171\n",
            "Training Results - Epoch: 15  Avg loss: 0.0003248682\n",
            "Current lr: 0.001\n",
            "Validation Results - Epoch: 15  Avg loss: 0.0004578735\n",
            "Training Results - Epoch: 16  Avg loss: 0.0003176089\n",
            "Current lr: 0.001\n",
            "Validation Results - Epoch: 16  Avg loss: 0.0004306852\n",
            "Training Results - Epoch: 17  Avg loss: 0.0003202808\n",
            "Current lr: 0.001\n",
            "Validation Results - Epoch: 17  Avg loss: 0.0004409944\n",
            "Training Results - Epoch: 18  Avg loss: 0.0003349549\n",
            "Current lr: 0.001\n",
            "Validation Results - Epoch: 18  Avg loss: 0.0004338611\n",
            "Training Results - Epoch: 19  Avg loss: 0.0003185575\n",
            "Current lr: 0.001\n",
            "Validation Results - Epoch: 19  Avg loss: 0.0004522911\n",
            "Training Results - Epoch: 20  Avg loss: 0.0003307353\n",
            "Current lr: 0.001\n",
            "Validation Results - Epoch: 20  Avg loss: 0.0004969759\n",
            "Training Results - Epoch: 21  Avg loss: 0.0003316066\n",
            "Current lr: 0.001\n",
            "Validation Results - Epoch: 21  Avg loss: 0.0004459143\n",
            "Training Results - Epoch: 22  Avg loss: 0.0003094044\n",
            "Current lr: 0.001\n",
            "Validation Results - Epoch: 22  Avg loss: 0.0004705147\n",
            "Training Results - Epoch: 23  Avg loss: 0.0003057013\n",
            "Current lr: 0.0001\n",
            "Validation Results - Epoch: 23  Avg loss: 0.0004627087\n",
            "Training Results - Epoch: 24  Avg loss: 0.0003051618\n",
            "Current lr: 0.0001\n",
            "Validation Results - Epoch: 24  Avg loss: 0.0004620730\n",
            "Training Results - Epoch: 25  Avg loss: 0.0003048181\n",
            "Current lr: 0.0001\n",
            "Validation Results - Epoch: 25  Avg loss: 0.0004607384\n",
            "Training Results - Epoch: 26  Avg loss: 0.0003047710\n",
            "Current lr: 0.0001\n",
            "Validation Results - Epoch: 26  Avg loss: 0.0004620983\n",
            "Training Results - Epoch: 27  Avg loss: 0.0003046404\n",
            "Current lr: 0.0001\n",
            "Validation Results - Epoch: 27  Avg loss: 0.0004607635\n",
            "Training Results - Epoch: 28  Avg loss: 0.0003045999\n",
            "Current lr: 0.0001\n",
            "Validation Results - Epoch: 28  Avg loss: 0.0004619748\n",
            "Training Results - Epoch: 29  Avg loss: 0.0003045241\n",
            "Current lr: 0.0001\n",
            "Validation Results - Epoch: 29  Avg loss: 0.0004653785\n",
            "Training Results - Epoch: 30  Avg loss: 0.0003045173\n",
            "Current lr: 0.0001\n",
            "Validation Results - Epoch: 30  Avg loss: 0.0004625143\n",
            "Training Results - Epoch: 31  Avg loss: 0.0003044545\n",
            "Current lr: 0.0001\n",
            "Validation Results - Epoch: 31  Avg loss: 0.0004640867\n",
            "FOLD 4\n",
            "Training Results - Epoch: 1  Avg loss: 0.0003653312\n",
            "Current lr: 0.001\n",
            "Validation Results - Epoch: 1  Avg loss: 0.0003084095\n",
            "Training Results - Epoch: 2  Avg loss: 0.0003691921\n",
            "Current lr: 0.001\n",
            "Validation Results - Epoch: 2  Avg loss: 0.0003379982\n",
            "Training Results - Epoch: 3  Avg loss: 0.0003751222\n",
            "Current lr: 0.001\n",
            "Validation Results - Epoch: 3  Avg loss: 0.0003416319\n",
            "Training Results - Epoch: 4  Avg loss: 0.0003689722\n",
            "Current lr: 0.001\n",
            "Validation Results - Epoch: 4  Avg loss: 0.0003321559\n",
            "Training Results - Epoch: 5  Avg loss: 0.0003376210\n",
            "Current lr: 0.001\n",
            "Validation Results - Epoch: 5  Avg loss: 0.0003250741\n",
            "Training Results - Epoch: 6  Avg loss: 0.0003522055\n",
            "Current lr: 0.001\n",
            "Validation Results - Epoch: 6  Avg loss: 0.0003346490\n",
            "Training Results - Epoch: 7  Avg loss: 0.0003441306\n",
            "Current lr: 0.001\n",
            "Validation Results - Epoch: 7  Avg loss: 0.0003390268\n",
            "Training Results - Epoch: 8  Avg loss: 0.0003447609\n",
            "Current lr: 0.001\n",
            "Validation Results - Epoch: 8  Avg loss: 0.0003394809\n",
            "Training Results - Epoch: 9  Avg loss: 0.0003576613\n",
            "Current lr: 0.001\n",
            "Validation Results - Epoch: 9  Avg loss: 0.0003655506\n",
            "Training Results - Epoch: 10  Avg loss: 0.0003378164\n",
            "Current lr: 0.001\n",
            "Validation Results - Epoch: 10  Avg loss: 0.0003538496\n",
            "Training Results - Epoch: 11  Avg loss: 0.0003314939\n",
            "Current lr: 0.001\n",
            "Validation Results - Epoch: 11  Avg loss: 0.0003402658\n",
            "Training Results - Epoch: 12  Avg loss: 0.0003336297\n",
            "Current lr: 0.001\n",
            "Validation Results - Epoch: 12  Avg loss: 0.0003515094\n",
            "Training Results - Epoch: 13  Avg loss: 0.0003509449\n",
            "Current lr: 0.001\n",
            "Validation Results - Epoch: 13  Avg loss: 0.0003761360\n",
            "Training Results - Epoch: 14  Avg loss: 0.0003261758\n",
            "Current lr: 0.001\n",
            "Validation Results - Epoch: 14  Avg loss: 0.0003447847\n",
            "Training Results - Epoch: 15  Avg loss: 0.0003330809\n",
            "Current lr: 0.001\n",
            "Validation Results - Epoch: 15  Avg loss: 0.0003472093\n",
            "Training Results - Epoch: 16  Avg loss: 0.0003328865\n",
            "Current lr: 0.001\n",
            "Validation Results - Epoch: 16  Avg loss: 0.0003681180\n",
            "Training Results - Epoch: 17  Avg loss: 0.0003317613\n",
            "Current lr: 0.001\n",
            "Validation Results - Epoch: 17  Avg loss: 0.0003650526\n",
            "Training Results - Epoch: 18  Avg loss: 0.0003232398\n",
            "Current lr: 0.001\n",
            "Validation Results - Epoch: 18  Avg loss: 0.0003547604\n",
            "Training Results - Epoch: 19  Avg loss: 0.0003386123\n",
            "Current lr: 0.001\n",
            "Validation Results - Epoch: 19  Avg loss: 0.0003812072\n",
            "Training Results - Epoch: 20  Avg loss: 0.0003250017\n",
            "Current lr: 0.001\n",
            "Validation Results - Epoch: 20  Avg loss: 0.0003617760\n",
            "Training Results - Epoch: 21  Avg loss: 0.0003376060\n",
            "Current lr: 0.001\n",
            "Validation Results - Epoch: 21  Avg loss: 0.0003770860\n",
            "Training Results - Epoch: 22  Avg loss: 0.0003281384\n",
            "Current lr: 0.001\n",
            "Validation Results - Epoch: 22  Avg loss: 0.0003813843\n",
            "Training Results - Epoch: 23  Avg loss: 0.0003213778\n",
            "Current lr: 0.0001\n",
            "Validation Results - Epoch: 23  Avg loss: 0.0003673478\n",
            "Training Results - Epoch: 24  Avg loss: 0.0003200425\n",
            "Current lr: 0.0001\n",
            "Validation Results - Epoch: 24  Avg loss: 0.0003632998\n",
            "Training Results - Epoch: 25  Avg loss: 0.0003197104\n",
            "Current lr: 0.0001\n",
            "Validation Results - Epoch: 25  Avg loss: 0.0003624926\n",
            "Training Results - Epoch: 26  Avg loss: 0.0003195901\n",
            "Current lr: 0.0001\n",
            "Validation Results - Epoch: 26  Avg loss: 0.0003628762\n",
            "Training Results - Epoch: 27  Avg loss: 0.0003194351\n",
            "Current lr: 0.0001\n",
            "Validation Results - Epoch: 27  Avg loss: 0.0003614987\n",
            "Training Results - Epoch: 28  Avg loss: 0.0003193646\n",
            "Current lr: 0.0001\n",
            "Validation Results - Epoch: 28  Avg loss: 0.0003616274\n",
            "Training Results - Epoch: 29  Avg loss: 0.0003193709\n",
            "Current lr: 0.0001\n",
            "Validation Results - Epoch: 29  Avg loss: 0.0003612472\n",
            "Training Results - Epoch: 30  Avg loss: 0.0003192880\n",
            "Current lr: 0.0001\n",
            "Validation Results - Epoch: 30  Avg loss: 0.0003611305\n",
            "Training Results - Epoch: 31  Avg loss: 0.0003192675\n",
            "Current lr: 0.0001\n",
            "Validation Results - Epoch: 31  Avg loss: 0.0003619929\n"
          ],
          "name": "stdout"
        }
      ]
    },
    {
      "cell_type": "code",
      "metadata": {
        "id": "wVsY58vBYt1u",
        "colab_type": "code",
        "outputId": "3f5c4a63-4269-4e28-8352-37c8aa575558",
        "colab": {
          "base_uri": "https://localhost:8080/",
          "height": 266
        }
      },
      "source": [
        "plt.plot(range(len(validation_losses)), validation_losses, range(len(training_losses)), training_losses)\n",
        "plt.savefig(DRIVE_PATH.joinpath('loss.png'))"
      ],
      "execution_count": 0,
      "outputs": [
        {
          "output_type": "display_data",
          "data": {
            "image/png": "[encoded data removed]",
            "text/plain": [
              "<Figure size 432x288 with 1 Axes>"
            ]
          },
          "metadata": {
            "tags": []
          }
        }
      ]
    },
    {
      "cell_type": "code",
      "metadata": {
        "id": "8VlJwKMyxKzY",
        "colab_type": "code",
        "outputId": "3e4ab053-25f1-402e-b992-1b9d1be1a8a4",
        "colab": {
          "base_uri": "https://localhost:8080/",
          "height": 34
        }
      },
      "source": [
        "# Test Loss\n",
        "criterion_c(census_data.data[test_neighbourhoods], decoder_c(census_data.reviews_embedding[test_neighbourhoods]))"
      ],
      "execution_count": 0,
      "outputs": [
        {
          "output_type": "execute_result",
          "data": {
            "text/plain": [
              "tensor(0.0004, device='cuda:0', grad_fn=<MeanBackward0>)"
            ]
          },
          "metadata": {
            "tags": []
          },
          "execution_count": 27
        }
      ]
    },
    {
      "cell_type": "code",
      "metadata": {
        "id": "0cMq3lkm-zGo",
        "colab_type": "code",
        "colab": {}
      },
      "source": [
        "decoded_delta = decoder_c(delta_embedding).cpu().detach().numpy()\n",
        "actual_data = educations[2016].values\n",
        "predicted_data = educations[2011].values+ decoded_delta"
      ],
      "execution_count": 0,
      "outputs": []
    },
    {
      "cell_type": "code",
      "metadata": {
        "id": "Q0Sp-VUP0dDe",
        "colab_type": "code",
        "outputId": "a569a7d7-fc05-4994-b1b1-6b832ff17467",
        "colab": {
          "base_uri": "https://localhost:8080/",
          "height": 34
        }
      },
      "source": [
        "# Training error\n",
        "np.abs(predicted_data[train_val_neighbourhoods] - actual_data[train_val_neighbourhoods]).sum(axis=1).mean()"
      ],
      "execution_count": 0,
      "outputs": [
        {
          "output_type": "execute_result",
          "data": {
            "text/plain": [
              "0.08216523946922268"
            ]
          },
          "metadata": {
            "tags": []
          },
          "execution_count": 155
        }
      ]
    },
    {
      "cell_type": "code",
      "metadata": {
        "id": "f7Pnj6AV8jXh",
        "colab_type": "code",
        "outputId": "56cae389-947d-473b-fc90-2e7f33d1cab2",
        "colab": {
          "base_uri": "https://localhost:8080/",
          "height": 34
        }
      },
      "source": [
        "# Testing error\n",
        "np.abs(predicted_data[test_neighbourhoods] - actual_data[test_neighbourhoods]).sum(axis=1).mean()"
      ],
      "execution_count": 0,
      "outputs": [
        {
          "output_type": "execute_result",
          "data": {
            "text/plain": [
              "0.09326672611484385"
            ]
          },
          "metadata": {
            "tags": []
          },
          "execution_count": 156
        }
      ]
    },
    {
      "cell_type": "markdown",
      "metadata": {
        "id": "Mc7Acl_o_q8Y",
        "colab_type": "text"
      },
      "source": [
        "## ELMO"
      ]
    },
    {
      "cell_type": "markdown",
      "metadata": {
        "id": "FBVwfdBT_xAg",
        "colab_type": "text"
      },
      "source": [
        "### Load trained model and built csvs"
      ]
    },
    {
      "cell_type": "code",
      "metadata": {
        "id": "HYNGkUzM_9Kg",
        "colab_type": "code",
        "colab": {}
      },
      "source": [
        "reviews_elmo_all = {}\n",
        "reviews_elmo = {}\n",
        "for year in [2011, 2016]:\n",
        "  reviews_elmo_all[year] = pd.read_csv(DRIVE_PATH.joinpath('elmo_reviews_{}.csv'.format(year)))\n",
        "  reviews_elmo_all[year].set_index('Unnamed: 0', inplace=True)\n",
        "  reviews_elmo[year] = ReviewsVector(reviews_elmo_all[year].T.values)"
      ],
      "execution_count": 0,
      "outputs": []
    },
    {
      "cell_type": "code",
      "metadata": {
        "id": "fWkrab33AUoX",
        "colab_type": "code",
        "colab": {}
      },
      "source": [
        "delta_embedding = reviews_elmo[2016].data.T - reviews_elmo[2011].data.T\n",
        "delta_census = educations[2016].values - educations[2011].values\n",
        "census_data = CensusVector(delta_census, delta_embedding)"
      ],
      "execution_count": 0,
      "outputs": []
    },
    {
      "cell_type": "markdown",
      "metadata": {
        "id": "jtFEv6GZAMBR",
        "colab_type": "text"
      },
      "source": [
        "### Multi-target Linear Regression"
      ]
    },
    {
      "cell_type": "code",
      "metadata": {
        "id": "tK-0krFfAPq2",
        "colab_type": "code",
        "colab": {}
      },
      "source": [
        "lingreg = RidgeCV(cv=5)\n",
        "lingreg.fit(delta_embedding[train_val_neighbourhoods].detach().cpu().numpy(), delta_census[train_val_neighbourhoods])"
      ],
      "execution_count": 0,
      "outputs": []
    },
    {
      "cell_type": "code",
      "metadata": {
        "id": "MDvok7RlO9Te",
        "colab_type": "code",
        "outputId": "f1c2495a-17f9-43a0-9a65-def4f169428e",
        "colab": {
          "base_uri": "https://localhost:8080/",
          "height": 34
        }
      },
      "source": [
        "# Training Error\n",
        "np.abs((predicted_change[train_val_neighbourhoods]-delta_census[train_val_neighbourhoods])).sum(axis=1).mean()"
      ],
      "execution_count": 0,
      "outputs": [
        {
          "output_type": "execute_result",
          "data": {
            "text/plain": [
              "0.08013128499367751"
            ]
          },
          "metadata": {
            "tags": []
          },
          "execution_count": 34
        }
      ]
    },
    {
      "cell_type": "code",
      "metadata": {
        "id": "QjkWFcjRO-Lv",
        "colab_type": "code",
        "outputId": "72ba5af7-df55-4163-fa76-e28da07f92cc",
        "colab": {
          "base_uri": "https://localhost:8080/",
          "height": 34
        }
      },
      "source": [
        "# Testing Error\n",
        "np.abs((predicted_change[test_neighbourhoods]-delta_census[test_neighbourhoods])).sum(axis=1).mean()"
      ],
      "execution_count": 0,
      "outputs": [
        {
          "output_type": "execute_result",
          "data": {
            "text/plain": [
              "0.08077842308263497"
            ]
          },
          "metadata": {
            "tags": []
          },
          "execution_count": 35
        }
      ]
    },
    {
      "cell_type": "markdown",
      "metadata": {
        "id": "U_-NPDm4AooY",
        "colab_type": "text"
      },
      "source": [
        "### Multi-target Non-Linear Regression"
      ]
    },
    {
      "cell_type": "markdown",
      "metadata": {
        "id": "CEUFcqugAwjZ",
        "colab_type": "text"
      },
      "source": [
        "#### With one layer"
      ]
    },
    {
      "cell_type": "code",
      "metadata": {
        "id": "wksmfZieA1ze",
        "colab_type": "code",
        "colab": {}
      },
      "source": [
        "lr = 0.001\n",
        "patience = 20\n",
        "min_lr = 0.00001"
      ],
      "execution_count": 0,
      "outputs": []
    },
    {
      "cell_type": "code",
      "metadata": {
        "id": "g3OvtNXeA2mE",
        "colab_type": "code",
        "colab": {}
      },
      "source": [
        "sizes_c = [educations[2011].shape[1], reviews_elmo_all[2016].shape[1]]\n",
        "decoder_c = Decoder_C(sizes_c)\n",
        "\n",
        "if use_cuda and torch.cuda.is_available():\n",
        "    decoder_c.cuda()"
      ],
      "execution_count": 0,
      "outputs": []
    },
    {
      "cell_type": "code",
      "metadata": {
        "id": "NssE1sABNrK3",
        "colab_type": "code",
        "outputId": "8442a9f2-60bd-4ee6-d4e4-bdf04bfdbd3f",
        "colab": {
          "base_uri": "https://localhost:8080/",
          "height": 1000
        }
      },
      "source": [
        "validation_losses, training_losses = [], []\n",
        "for i in range(folds):\n",
        "  print('FOLD', i)\n",
        "  t, v = train_decoder(decoder_c, census_data, all_trains[i], all_vals[i], name='edu_elmo')\n",
        "  training_losses.extend(t)\n",
        "  validation_losses.extend(v)"
      ],
      "execution_count": 0,
      "outputs": [
        {
          "output_type": "stream",
          "text": [
            "FOLD 0\n",
            "Training Results - Epoch: 1  Avg loss: 0.0008506472\n",
            "Current lr: 0.001\n",
            "Validation Results - Epoch: 1  Avg loss: 0.0009594537\n",
            "Training Results - Epoch: 2  Avg loss: 0.0010971311\n",
            "Current lr: 0.001\n",
            "Validation Results - Epoch: 2  Avg loss: 0.0024918874\n",
            "Training Results - Epoch: 3  Avg loss: 0.0014217979\n",
            "Current lr: 0.001\n",
            "Validation Results - Epoch: 3  Avg loss: 0.0027997126\n",
            "Training Results - Epoch: 4  Avg loss: 0.0008632540\n",
            "Current lr: 0.001\n",
            "Validation Results - Epoch: 4  Avg loss: 0.0016792136\n",
            "Training Results - Epoch: 5  Avg loss: 0.0009406624\n",
            "Current lr: 0.001\n",
            "Validation Results - Epoch: 5  Avg loss: 0.0010418944\n",
            "Training Results - Epoch: 6  Avg loss: 0.0006621630\n",
            "Current lr: 0.001\n",
            "Validation Results - Epoch: 6  Avg loss: 0.0010999716\n",
            "Training Results - Epoch: 7  Avg loss: 0.0020066261\n",
            "Current lr: 0.001\n",
            "Validation Results - Epoch: 7  Avg loss: 0.0021902202\n",
            "Training Results - Epoch: 8  Avg loss: 0.0007794868\n",
            "Current lr: 0.001\n",
            "Validation Results - Epoch: 8  Avg loss: 0.0014872591\n",
            "Training Results - Epoch: 9  Avg loss: 0.0026603351\n",
            "Current lr: 0.001\n",
            "Validation Results - Epoch: 9  Avg loss: 0.0039008969\n",
            "Training Results - Epoch: 10  Avg loss: 0.0010347822\n",
            "Current lr: 0.001\n",
            "Validation Results - Epoch: 10  Avg loss: 0.0011582275\n",
            "Training Results - Epoch: 11  Avg loss: 0.0009528224\n",
            "Current lr: 0.001\n",
            "Validation Results - Epoch: 11  Avg loss: 0.0011191842\n",
            "Training Results - Epoch: 12  Avg loss: 0.0016718010\n",
            "Current lr: 0.001\n",
            "Validation Results - Epoch: 12  Avg loss: 0.0017399139\n",
            "Training Results - Epoch: 13  Avg loss: 0.0011924760\n",
            "Current lr: 0.001\n",
            "Validation Results - Epoch: 13  Avg loss: 0.0018717653\n",
            "Training Results - Epoch: 14  Avg loss: 0.0009199748\n",
            "Current lr: 0.001\n",
            "Validation Results - Epoch: 14  Avg loss: 0.0012813612\n",
            "Training Results - Epoch: 15  Avg loss: 0.0002762053\n",
            "Current lr: 0.001\n",
            "Validation Results - Epoch: 15  Avg loss: 0.0005850835\n",
            "Training Results - Epoch: 16  Avg loss: 0.0002490831\n",
            "Current lr: 0.001\n",
            "Validation Results - Epoch: 16  Avg loss: 0.0007203258\n",
            "Training Results - Epoch: 17  Avg loss: 0.0004331842\n",
            "Current lr: 0.001\n",
            "Validation Results - Epoch: 17  Avg loss: 0.0009279887\n",
            "Training Results - Epoch: 18  Avg loss: 0.0002858882\n",
            "Current lr: 0.001\n",
            "Validation Results - Epoch: 18  Avg loss: 0.0008137197\n",
            "Training Results - Epoch: 19  Avg loss: 0.0002858745\n",
            "Current lr: 0.001\n",
            "Validation Results - Epoch: 19  Avg loss: 0.0007109403\n",
            "Training Results - Epoch: 20  Avg loss: 0.0009421619\n",
            "Current lr: 0.001\n",
            "Validation Results - Epoch: 20  Avg loss: 0.0012524614\n",
            "Training Results - Epoch: 21  Avg loss: 0.0002744838\n",
            "Current lr: 0.001\n",
            "Validation Results - Epoch: 21  Avg loss: 0.0006503501\n",
            "Training Results - Epoch: 22  Avg loss: 0.0022154393\n",
            "Current lr: 0.001\n",
            "Validation Results - Epoch: 22  Avg loss: 0.0050577916\n",
            "Training Results - Epoch: 23  Avg loss: 0.0008327547\n",
            "Current lr: 0.001\n",
            "Validation Results - Epoch: 23  Avg loss: 0.0021710757\n",
            "Training Results - Epoch: 24  Avg loss: 0.0020861200\n",
            "Current lr: 0.001\n",
            "Validation Results - Epoch: 24  Avg loss: 0.0049203522\n",
            "Training Results - Epoch: 25  Avg loss: 0.0010177968\n",
            "Current lr: 0.001\n",
            "Validation Results - Epoch: 25  Avg loss: 0.0043370235\n",
            "Training Results - Epoch: 26  Avg loss: 0.0006927473\n",
            "Current lr: 0.001\n",
            "Validation Results - Epoch: 26  Avg loss: 0.0019688340\n",
            "Training Results - Epoch: 27  Avg loss: 0.0044245547\n",
            "Current lr: 0.001\n",
            "Validation Results - Epoch: 27  Avg loss: 0.0059651742\n",
            "Training Results - Epoch: 28  Avg loss: 0.0028637687\n",
            "Current lr: 0.001\n",
            "Validation Results - Epoch: 28  Avg loss: 0.0061588787\n",
            "Training Results - Epoch: 29  Avg loss: 0.0012865594\n",
            "Current lr: 0.001\n",
            "Validation Results - Epoch: 29  Avg loss: 0.0014836257\n",
            "Training Results - Epoch: 30  Avg loss: 0.0006767221\n",
            "Current lr: 0.001\n",
            "Validation Results - Epoch: 30  Avg loss: 0.0016736392\n",
            "Training Results - Epoch: 31  Avg loss: 0.0008810896\n",
            "Current lr: 0.001\n",
            "Validation Results - Epoch: 31  Avg loss: 0.0009716124\n",
            "Training Results - Epoch: 32  Avg loss: 0.0011030081\n",
            "Current lr: 0.001\n",
            "Validation Results - Epoch: 32  Avg loss: 0.0022586821\n",
            "Training Results - Epoch: 33  Avg loss: 0.0020900749\n",
            "Current lr: 0.001\n",
            "Validation Results - Epoch: 33  Avg loss: 0.0037614464\n",
            "Training Results - Epoch: 34  Avg loss: 0.0020298896\n",
            "Current lr: 0.001\n",
            "Validation Results - Epoch: 34  Avg loss: 0.0039221238\n",
            "Training Results - Epoch: 35  Avg loss: 0.0006507206\n",
            "Current lr: 0.001\n",
            "Validation Results - Epoch: 35  Avg loss: 0.0010765463\n",
            "Training Results - Epoch: 36  Avg loss: 0.0002975305\n",
            "Current lr: 0.001\n",
            "Validation Results - Epoch: 36  Avg loss: 0.0009077113\n",
            "Training Results - Epoch: 37  Avg loss: 0.0002209062\n",
            "Current lr: 0.0001\n",
            "Validation Results - Epoch: 37  Avg loss: 0.0006667191\n",
            "Training Results - Epoch: 38  Avg loss: 0.0002060111\n",
            "Current lr: 0.0001\n",
            "Validation Results - Epoch: 38  Avg loss: 0.0006925295\n",
            "Training Results - Epoch: 39  Avg loss: 0.0001894714\n",
            "Current lr: 0.0001\n",
            "Validation Results - Epoch: 39  Avg loss: 0.0006110287\n",
            "Training Results - Epoch: 40  Avg loss: 0.0001695546\n",
            "Current lr: 0.0001\n",
            "Validation Results - Epoch: 40  Avg loss: 0.0006394512\n",
            "Training Results - Epoch: 41  Avg loss: 0.0001641613\n",
            "Current lr: 0.0001\n",
            "Validation Results - Epoch: 41  Avg loss: 0.0006664986\n",
            "Training Results - Epoch: 42  Avg loss: 0.0001545644\n",
            "Current lr: 0.0001\n",
            "Validation Results - Epoch: 42  Avg loss: 0.0006488841\n",
            "Training Results - Epoch: 43  Avg loss: 0.0001498608\n",
            "Current lr: 0.0001\n",
            "Validation Results - Epoch: 43  Avg loss: 0.0006545102\n",
            "Training Results - Epoch: 44  Avg loss: 0.0001457796\n",
            "Current lr: 0.0001\n",
            "Validation Results - Epoch: 44  Avg loss: 0.0006239254\n",
            "Training Results - Epoch: 45  Avg loss: 0.0001426778\n",
            "Current lr: 0.0001\n",
            "Validation Results - Epoch: 45  Avg loss: 0.0006361188\n",
            "FOLD 1\n",
            "Training Results - Epoch: 1  Avg loss: 0.0039443711\n",
            "Current lr: 0.001\n",
            "Validation Results - Epoch: 1  Avg loss: 0.0008746475\n",
            "Training Results - Epoch: 2  Avg loss: 0.0023006816\n",
            "Current lr: 0.001\n",
            "Validation Results - Epoch: 2  Avg loss: 0.0012108971\n",
            "Training Results - Epoch: 3  Avg loss: 0.0025362268\n",
            "Current lr: 0.001\n",
            "Validation Results - Epoch: 3  Avg loss: 0.0003302818\n",
            "Training Results - Epoch: 4  Avg loss: 0.0043870351\n",
            "Current lr: 0.001\n",
            "Validation Results - Epoch: 4  Avg loss: 0.0008566685\n",
            "Training Results - Epoch: 5  Avg loss: 0.0040779931\n",
            "Current lr: 0.001\n",
            "Validation Results - Epoch: 5  Avg loss: 0.0010718388\n",
            "Training Results - Epoch: 6  Avg loss: 0.0031848509\n",
            "Current lr: 0.001\n",
            "Validation Results - Epoch: 6  Avg loss: 0.0009138545\n",
            "Training Results - Epoch: 7  Avg loss: 0.0033921763\n",
            "Current lr: 0.001\n",
            "Validation Results - Epoch: 7  Avg loss: 0.0006015863\n",
            "Training Results - Epoch: 8  Avg loss: 0.0035329501\n",
            "Current lr: 0.001\n",
            "Validation Results - Epoch: 8  Avg loss: 0.0010501253\n",
            "Training Results - Epoch: 9  Avg loss: 0.0012400219\n",
            "Current lr: 0.001\n",
            "Validation Results - Epoch: 9  Avg loss: 0.0008295884\n",
            "Training Results - Epoch: 10  Avg loss: 0.0026587753\n",
            "Current lr: 0.001\n",
            "Validation Results - Epoch: 10  Avg loss: 0.0006091152\n",
            "Training Results - Epoch: 11  Avg loss: 0.0039140344\n",
            "Current lr: 0.001\n",
            "Validation Results - Epoch: 11  Avg loss: 0.0003896508\n",
            "Training Results - Epoch: 12  Avg loss: 0.0021970115\n",
            "Current lr: 0.001\n",
            "Validation Results - Epoch: 12  Avg loss: 0.0005262378\n",
            "Training Results - Epoch: 13  Avg loss: 0.0027684844\n",
            "Current lr: 0.001\n",
            "Validation Results - Epoch: 13  Avg loss: 0.0003680516\n",
            "Training Results - Epoch: 14  Avg loss: 0.0023864856\n",
            "Current lr: 0.001\n",
            "Validation Results - Epoch: 14  Avg loss: 0.0004917912\n",
            "Training Results - Epoch: 15  Avg loss: 0.0032366043\n",
            "Current lr: 0.001\n",
            "Validation Results - Epoch: 15  Avg loss: 0.0023664991\n",
            "Training Results - Epoch: 16  Avg loss: 0.0012113772\n",
            "Current lr: 0.001\n",
            "Validation Results - Epoch: 16  Avg loss: 0.0003835249\n",
            "Training Results - Epoch: 17  Avg loss: 0.0019576267\n",
            "Current lr: 0.001\n",
            "Validation Results - Epoch: 17  Avg loss: 0.0003065834\n",
            "Training Results - Epoch: 18  Avg loss: 0.0045073098\n",
            "Current lr: 0.001\n",
            "Validation Results - Epoch: 18  Avg loss: 0.0008153883\n",
            "Training Results - Epoch: 19  Avg loss: 0.0035446055\n",
            "Current lr: 0.001\n",
            "Validation Results - Epoch: 19  Avg loss: 0.0003963938\n",
            "Training Results - Epoch: 20  Avg loss: 0.0023876984\n",
            "Current lr: 0.001\n",
            "Validation Results - Epoch: 20  Avg loss: 0.0010516898\n",
            "Training Results - Epoch: 21  Avg loss: 0.0104159912\n",
            "Current lr: 0.001\n",
            "Validation Results - Epoch: 21  Avg loss: 0.0038996057\n",
            "Training Results - Epoch: 22  Avg loss: 0.0041075604\n",
            "Current lr: 0.001\n",
            "Validation Results - Epoch: 22  Avg loss: 0.0007798575\n",
            "Training Results - Epoch: 23  Avg loss: 0.0036123135\n",
            "Current lr: 0.001\n",
            "Validation Results - Epoch: 23  Avg loss: 0.0029045192\n",
            "Training Results - Epoch: 24  Avg loss: 0.0056761488\n",
            "Current lr: 0.001\n",
            "Validation Results - Epoch: 24  Avg loss: 0.0012125958\n",
            "Training Results - Epoch: 25  Avg loss: 0.0022486930\n",
            "Current lr: 0.001\n",
            "Validation Results - Epoch: 25  Avg loss: 0.0005477621\n",
            "Training Results - Epoch: 26  Avg loss: 0.0030031057\n",
            "Current lr: 0.001\n",
            "Validation Results - Epoch: 26  Avg loss: 0.0015748884\n",
            "Training Results - Epoch: 27  Avg loss: 0.0032585759\n",
            "Current lr: 0.001\n",
            "Validation Results - Epoch: 27  Avg loss: 0.0004503718\n",
            "Training Results - Epoch: 28  Avg loss: 0.0024058153\n",
            "Current lr: 0.001\n",
            "Validation Results - Epoch: 28  Avg loss: 0.0005225806\n",
            "Training Results - Epoch: 29  Avg loss: 0.0032585041\n",
            "Current lr: 0.001\n",
            "Validation Results - Epoch: 29  Avg loss: 0.0007192839\n",
            "Training Results - Epoch: 30  Avg loss: 0.0028880305\n",
            "Current lr: 0.001\n",
            "Validation Results - Epoch: 30  Avg loss: 0.0007693117\n",
            "Training Results - Epoch: 31  Avg loss: 0.0044260873\n",
            "Current lr: 0.001\n",
            "Validation Results - Epoch: 31  Avg loss: 0.0007313021\n",
            "Training Results - Epoch: 32  Avg loss: 0.0018877440\n",
            "Current lr: 0.001\n",
            "Validation Results - Epoch: 32  Avg loss: 0.0003573319\n",
            "Training Results - Epoch: 33  Avg loss: 0.0047353872\n",
            "Current lr: 0.001\n",
            "Validation Results - Epoch: 33  Avg loss: 0.0011411013\n",
            "Training Results - Epoch: 34  Avg loss: 0.0035202654\n",
            "Current lr: 0.001\n",
            "Validation Results - Epoch: 34  Avg loss: 0.0015466338\n",
            "Training Results - Epoch: 35  Avg loss: 0.0031836809\n",
            "Current lr: 0.001\n",
            "Validation Results - Epoch: 35  Avg loss: 0.0007644254\n",
            "Training Results - Epoch: 36  Avg loss: 0.0036207808\n",
            "Current lr: 0.001\n",
            "Validation Results - Epoch: 36  Avg loss: 0.0031100862\n",
            "Training Results - Epoch: 37  Avg loss: 0.0039298119\n",
            "Current lr: 0.001\n",
            "Validation Results - Epoch: 37  Avg loss: 0.0007075215\n",
            "Training Results - Epoch: 38  Avg loss: 0.0072914589\n",
            "Current lr: 0.001\n",
            "Validation Results - Epoch: 38  Avg loss: 0.0021726783\n",
            "Training Results - Epoch: 39  Avg loss: 0.0035871433\n",
            "Current lr: 0.0001\n",
            "Validation Results - Epoch: 39  Avg loss: 0.0010929383\n",
            "Training Results - Epoch: 40  Avg loss: 0.0011834501\n",
            "Current lr: 0.0001\n",
            "Validation Results - Epoch: 40  Avg loss: 0.0011149232\n",
            "Training Results - Epoch: 41  Avg loss: 0.0006634888\n",
            "Current lr: 0.0001\n",
            "Validation Results - Epoch: 41  Avg loss: 0.0006816514\n",
            "Training Results - Epoch: 42  Avg loss: 0.0005528272\n",
            "Current lr: 0.0001\n",
            "Validation Results - Epoch: 42  Avg loss: 0.0005455451\n",
            "Training Results - Epoch: 43  Avg loss: 0.0002659437\n",
            "Current lr: 0.0001\n",
            "Validation Results - Epoch: 43  Avg loss: 0.0004521903\n",
            "Training Results - Epoch: 44  Avg loss: 0.0002147024\n",
            "Current lr: 0.0001\n",
            "Validation Results - Epoch: 44  Avg loss: 0.0004159241\n",
            "Training Results - Epoch: 45  Avg loss: 0.0001781859\n",
            "Current lr: 0.0001\n",
            "Validation Results - Epoch: 45  Avg loss: 0.0003647664\n",
            "Training Results - Epoch: 46  Avg loss: 0.0001644816\n",
            "Current lr: 0.0001\n",
            "Validation Results - Epoch: 46  Avg loss: 0.0003451256\n",
            "Training Results - Epoch: 47  Avg loss: 0.0001572792\n",
            "Current lr: 0.0001\n",
            "Validation Results - Epoch: 47  Avg loss: 0.0003313389\n",
            "FOLD 2\n",
            "Training Results - Epoch: 1  Avg loss: 0.0011628338\n",
            "Current lr: 0.001\n",
            "Validation Results - Epoch: 1  Avg loss: 0.0010983936\n",
            "Training Results - Epoch: 2  Avg loss: 0.0009710122\n",
            "Current lr: 0.001\n",
            "Validation Results - Epoch: 2  Avg loss: 0.0016683766\n",
            "Training Results - Epoch: 3  Avg loss: 0.0010248636\n",
            "Current lr: 0.001\n",
            "Validation Results - Epoch: 3  Avg loss: 0.0006876543\n",
            "Training Results - Epoch: 4  Avg loss: 0.0006267077\n",
            "Current lr: 0.001\n",
            "Validation Results - Epoch: 4  Avg loss: 0.0010490020\n",
            "Training Results - Epoch: 5  Avg loss: 0.0008496065\n",
            "Current lr: 0.001\n",
            "Validation Results - Epoch: 5  Avg loss: 0.0025090647\n",
            "Training Results - Epoch: 6  Avg loss: 0.0012152459\n",
            "Current lr: 0.001\n",
            "Validation Results - Epoch: 6  Avg loss: 0.0016071276\n",
            "Training Results - Epoch: 7  Avg loss: 0.0009812828\n",
            "Current lr: 0.001\n",
            "Validation Results - Epoch: 7  Avg loss: 0.0018572532\n",
            "Training Results - Epoch: 8  Avg loss: 0.0003674030\n",
            "Current lr: 0.001\n",
            "Validation Results - Epoch: 8  Avg loss: 0.0007957769\n",
            "Training Results - Epoch: 9  Avg loss: 0.0002180652\n",
            "Current lr: 0.001\n",
            "Validation Results - Epoch: 9  Avg loss: 0.0003894869\n",
            "Training Results - Epoch: 10  Avg loss: 0.0002633472\n",
            "Current lr: 0.001\n",
            "Validation Results - Epoch: 10  Avg loss: 0.0003314563\n",
            "Training Results - Epoch: 11  Avg loss: 0.0010429155\n",
            "Current lr: 0.001\n",
            "Validation Results - Epoch: 11  Avg loss: 0.0019787241\n",
            "Training Results - Epoch: 12  Avg loss: 0.0004036230\n",
            "Current lr: 0.001\n",
            "Validation Results - Epoch: 12  Avg loss: 0.0007472711\n",
            "Training Results - Epoch: 13  Avg loss: 0.0006366569\n",
            "Current lr: 0.001\n",
            "Validation Results - Epoch: 13  Avg loss: 0.0015476685\n",
            "Training Results - Epoch: 14  Avg loss: 0.0002142163\n",
            "Current lr: 0.001\n",
            "Validation Results - Epoch: 14  Avg loss: 0.0004736805\n",
            "Training Results - Epoch: 15  Avg loss: 0.0003671157\n",
            "Current lr: 0.001\n",
            "Validation Results - Epoch: 15  Avg loss: 0.0004432601\n",
            "Training Results - Epoch: 16  Avg loss: 0.0005271386\n",
            "Current lr: 0.001\n",
            "Validation Results - Epoch: 16  Avg loss: 0.0008702173\n",
            "Training Results - Epoch: 17  Avg loss: 0.0011458559\n",
            "Current lr: 0.001\n",
            "Validation Results - Epoch: 17  Avg loss: 0.0014287599\n",
            "Training Results - Epoch: 18  Avg loss: 0.0021568354\n",
            "Current lr: 0.001\n",
            "Validation Results - Epoch: 18  Avg loss: 0.0028776526\n",
            "Training Results - Epoch: 19  Avg loss: 0.0013104282\n",
            "Current lr: 0.001\n",
            "Validation Results - Epoch: 19  Avg loss: 0.0019330942\n",
            "Training Results - Epoch: 20  Avg loss: 0.0012383227\n",
            "Current lr: 0.001\n",
            "Validation Results - Epoch: 20  Avg loss: 0.0013584153\n",
            "Training Results - Epoch: 21  Avg loss: 0.0010081872\n",
            "Current lr: 0.001\n",
            "Validation Results - Epoch: 21  Avg loss: 0.0012923938\n",
            "Training Results - Epoch: 22  Avg loss: 0.0005427213\n",
            "Current lr: 0.001\n",
            "Validation Results - Epoch: 22  Avg loss: 0.0008508787\n",
            "Training Results - Epoch: 23  Avg loss: 0.0009806489\n",
            "Current lr: 0.001\n",
            "Validation Results - Epoch: 23  Avg loss: 0.0037674487\n",
            "Training Results - Epoch: 24  Avg loss: 0.0009327975\n",
            "Current lr: 0.001\n",
            "Validation Results - Epoch: 24  Avg loss: 0.0019096148\n",
            "Training Results - Epoch: 25  Avg loss: 0.0002582686\n",
            "Current lr: 0.001\n",
            "Validation Results - Epoch: 25  Avg loss: 0.0004806517\n",
            "Training Results - Epoch: 26  Avg loss: 0.0002268708\n",
            "Current lr: 0.001\n",
            "Validation Results - Epoch: 26  Avg loss: 0.0005520219\n",
            "Training Results - Epoch: 27  Avg loss: 0.0002861103\n",
            "Current lr: 0.001\n",
            "Validation Results - Epoch: 27  Avg loss: 0.0005956913\n",
            "Training Results - Epoch: 28  Avg loss: 0.0003193032\n",
            "Current lr: 0.001\n",
            "Validation Results - Epoch: 28  Avg loss: 0.0005509150\n",
            "Training Results - Epoch: 29  Avg loss: 0.0005251358\n",
            "Current lr: 0.001\n",
            "Validation Results - Epoch: 29  Avg loss: 0.0007870014\n",
            "Training Results - Epoch: 30  Avg loss: 0.0005233267\n",
            "Current lr: 0.001\n",
            "Validation Results - Epoch: 30  Avg loss: 0.0005353371\n",
            "Training Results - Epoch: 31  Avg loss: 0.0004139067\n",
            "Current lr: 0.001\n",
            "Validation Results - Epoch: 31  Avg loss: 0.0006981471\n",
            "Training Results - Epoch: 32  Avg loss: 0.0002355751\n",
            "Current lr: 0.0001\n",
            "Validation Results - Epoch: 32  Avg loss: 0.0003600057\n",
            "Training Results - Epoch: 33  Avg loss: 0.0001912427\n",
            "Current lr: 0.0001\n",
            "Validation Results - Epoch: 33  Avg loss: 0.0003492035\n",
            "Training Results - Epoch: 34  Avg loss: 0.0001504497\n",
            "Current lr: 0.0001\n",
            "Validation Results - Epoch: 34  Avg loss: 0.0003876076\n",
            "Training Results - Epoch: 35  Avg loss: 0.0001485513\n",
            "Current lr: 0.0001\n",
            "Validation Results - Epoch: 35  Avg loss: 0.0004727791\n",
            "Training Results - Epoch: 36  Avg loss: 0.0001215951\n",
            "Current lr: 0.0001\n",
            "Validation Results - Epoch: 36  Avg loss: 0.0003468529\n",
            "Training Results - Epoch: 37  Avg loss: 0.0001103369\n",
            "Current lr: 0.0001\n",
            "Validation Results - Epoch: 37  Avg loss: 0.0003833047\n",
            "Training Results - Epoch: 38  Avg loss: 0.0001133907\n",
            "Current lr: 0.0001\n",
            "Validation Results - Epoch: 38  Avg loss: 0.0003448903\n",
            "Training Results - Epoch: 39  Avg loss: 0.0001026423\n",
            "Current lr: 0.0001\n",
            "Validation Results - Epoch: 39  Avg loss: 0.0003529775\n",
            "Training Results - Epoch: 40  Avg loss: 0.0000998306\n",
            "Current lr: 0.0001\n",
            "Validation Results - Epoch: 40  Avg loss: 0.0003955163\n",
            "FOLD 3\n",
            "Training Results - Epoch: 1  Avg loss: 0.0029084032\n",
            "Current lr: 0.001\n",
            "Validation Results - Epoch: 1  Avg loss: 0.0011057780\n",
            "Training Results - Epoch: 2  Avg loss: 0.0034778268\n",
            "Current lr: 0.001\n",
            "Validation Results - Epoch: 2  Avg loss: 0.0004298419\n",
            "Training Results - Epoch: 3  Avg loss: 0.0051660415\n",
            "Current lr: 0.001\n",
            "Validation Results - Epoch: 3  Avg loss: 0.0041474371\n",
            "Training Results - Epoch: 4  Avg loss: 0.0037210698\n",
            "Current lr: 0.001\n",
            "Validation Results - Epoch: 4  Avg loss: 0.0027422750\n",
            "Training Results - Epoch: 5  Avg loss: 0.0018677766\n",
            "Current lr: 0.001\n",
            "Validation Results - Epoch: 5  Avg loss: 0.0002505297\n",
            "Training Results - Epoch: 6  Avg loss: 0.0030400404\n",
            "Current lr: 0.001\n",
            "Validation Results - Epoch: 6  Avg loss: 0.0023593602\n",
            "Training Results - Epoch: 7  Avg loss: 0.0041718359\n",
            "Current lr: 0.001\n",
            "Validation Results - Epoch: 7  Avg loss: 0.0012894263\n",
            "Training Results - Epoch: 8  Avg loss: 0.0039847467\n",
            "Current lr: 0.001\n",
            "Validation Results - Epoch: 8  Avg loss: 0.0005257132\n",
            "Training Results - Epoch: 9  Avg loss: 0.0042283810\n",
            "Current lr: 0.001\n",
            "Validation Results - Epoch: 9  Avg loss: 0.0010284643\n",
            "Training Results - Epoch: 10  Avg loss: 0.0097946056\n",
            "Current lr: 0.001\n",
            "Validation Results - Epoch: 10  Avg loss: 0.0052789775\n",
            "Training Results - Epoch: 11  Avg loss: 0.0041614144\n",
            "Current lr: 0.001\n",
            "Validation Results - Epoch: 11  Avg loss: 0.0006296540\n",
            "Training Results - Epoch: 12  Avg loss: 0.0039169616\n",
            "Current lr: 0.001\n",
            "Validation Results - Epoch: 12  Avg loss: 0.0010002848\n",
            "Training Results - Epoch: 13  Avg loss: 0.0028181624\n",
            "Current lr: 0.001\n",
            "Validation Results - Epoch: 13  Avg loss: 0.0004635745\n",
            "Training Results - Epoch: 14  Avg loss: 0.0093803496\n",
            "Current lr: 0.001\n",
            "Validation Results - Epoch: 14  Avg loss: 0.0053708753\n",
            "Training Results - Epoch: 15  Avg loss: 0.0030259825\n",
            "Current lr: 0.001\n",
            "Validation Results - Epoch: 15  Avg loss: 0.0003621929\n",
            "Training Results - Epoch: 16  Avg loss: 0.0064690064\n",
            "Current lr: 0.001\n",
            "Validation Results - Epoch: 16  Avg loss: 0.0048375243\n",
            "Training Results - Epoch: 17  Avg loss: 0.0025618850\n",
            "Current lr: 0.001\n",
            "Validation Results - Epoch: 17  Avg loss: 0.0004444259\n",
            "Training Results - Epoch: 18  Avg loss: 0.0037261070\n",
            "Current lr: 0.001\n",
            "Validation Results - Epoch: 18  Avg loss: 0.0016294715\n",
            "Training Results - Epoch: 19  Avg loss: 0.0040154809\n",
            "Current lr: 0.001\n",
            "Validation Results - Epoch: 19  Avg loss: 0.0016834338\n",
            "Training Results - Epoch: 20  Avg loss: 0.0038414341\n",
            "Current lr: 0.001\n",
            "Validation Results - Epoch: 20  Avg loss: 0.0007872333\n",
            "Training Results - Epoch: 21  Avg loss: 0.0040679731\n",
            "Current lr: 0.001\n",
            "Validation Results - Epoch: 21  Avg loss: 0.0006836840\n",
            "Training Results - Epoch: 22  Avg loss: 0.0065415025\n",
            "Current lr: 0.001\n",
            "Validation Results - Epoch: 22  Avg loss: 0.0030873877\n",
            "Training Results - Epoch: 23  Avg loss: 0.0031784567\n",
            "Current lr: 0.001\n",
            "Validation Results - Epoch: 23  Avg loss: 0.0002818370\n",
            "Training Results - Epoch: 24  Avg loss: 0.0038994365\n",
            "Current lr: 0.001\n",
            "Validation Results - Epoch: 24  Avg loss: 0.0011007970\n",
            "Training Results - Epoch: 25  Avg loss: 0.0045728880\n",
            "Current lr: 0.001\n",
            "Validation Results - Epoch: 25  Avg loss: 0.0007652873\n",
            "Training Results - Epoch: 26  Avg loss: 0.0052255315\n",
            "Current lr: 0.001\n",
            "Validation Results - Epoch: 26  Avg loss: 0.0017365191\n",
            "Training Results - Epoch: 27  Avg loss: 0.0033711925\n",
            "Current lr: 0.0001\n",
            "Validation Results - Epoch: 27  Avg loss: 0.0010700982\n",
            "Training Results - Epoch: 28  Avg loss: 0.0027548454\n",
            "Current lr: 0.0001\n",
            "Validation Results - Epoch: 28  Avg loss: 0.0007821073\n",
            "Training Results - Epoch: 29  Avg loss: 0.0012057762\n",
            "Current lr: 0.0001\n",
            "Validation Results - Epoch: 29  Avg loss: 0.0005415914\n",
            "Training Results - Epoch: 30  Avg loss: 0.0006802749\n",
            "Current lr: 0.0001\n",
            "Validation Results - Epoch: 30  Avg loss: 0.0003516086\n",
            "Training Results - Epoch: 31  Avg loss: 0.0004315069\n",
            "Current lr: 0.0001\n",
            "Validation Results - Epoch: 31  Avg loss: 0.0002924392\n",
            "Training Results - Epoch: 32  Avg loss: 0.0002890729\n",
            "Current lr: 0.0001\n",
            "Validation Results - Epoch: 32  Avg loss: 0.0002462816\n",
            "Training Results - Epoch: 33  Avg loss: 0.0002130581\n",
            "Current lr: 0.0001\n",
            "Validation Results - Epoch: 33  Avg loss: 0.0002194835\n",
            "Training Results - Epoch: 34  Avg loss: 0.0001787128\n",
            "Current lr: 0.0001\n",
            "Validation Results - Epoch: 34  Avg loss: 0.0002065125\n",
            "Training Results - Epoch: 35  Avg loss: 0.0001634795\n",
            "Current lr: 0.0001\n",
            "Validation Results - Epoch: 35  Avg loss: 0.0002003457\n",
            "Training Results - Epoch: 36  Avg loss: 0.0001525176\n",
            "Current lr: 0.0001\n",
            "Validation Results - Epoch: 36  Avg loss: 0.0001994817\n",
            "Training Results - Epoch: 37  Avg loss: 0.0001443151\n",
            "Current lr: 0.0001\n",
            "Validation Results - Epoch: 37  Avg loss: 0.0001938086\n",
            "Training Results - Epoch: 38  Avg loss: 0.0001381403\n",
            "Current lr: 0.0001\n",
            "Validation Results - Epoch: 38  Avg loss: 0.0001912970\n",
            "Training Results - Epoch: 39  Avg loss: 0.0001339576\n",
            "Current lr: 0.0001\n",
            "Validation Results - Epoch: 39  Avg loss: 0.0001920110\n",
            "Training Results - Epoch: 40  Avg loss: 0.0001289827\n",
            "Current lr: 0.0001\n",
            "Validation Results - Epoch: 40  Avg loss: 0.0001893558\n",
            "Training Results - Epoch: 41  Avg loss: 0.0001253985\n",
            "Current lr: 0.0001\n",
            "Validation Results - Epoch: 41  Avg loss: 0.0001867539\n",
            "Training Results - Epoch: 42  Avg loss: 0.0001215697\n",
            "Current lr: 0.0001\n",
            "Validation Results - Epoch: 42  Avg loss: 0.0001864532\n",
            "Training Results - Epoch: 43  Avg loss: 0.0001180763\n",
            "Current lr: 0.0001\n",
            "Validation Results - Epoch: 43  Avg loss: 0.0001840657\n",
            "Training Results - Epoch: 44  Avg loss: 0.0001155013\n",
            "Current lr: 0.0001\n",
            "Validation Results - Epoch: 44  Avg loss: 0.0001831985\n",
            "Training Results - Epoch: 45  Avg loss: 0.0001132511\n",
            "Current lr: 0.0001\n",
            "Validation Results - Epoch: 45  Avg loss: 0.0001819817\n",
            "Training Results - Epoch: 46  Avg loss: 0.0001107256\n",
            "Current lr: 0.0001\n",
            "Validation Results - Epoch: 46  Avg loss: 0.0001819291\n",
            "Training Results - Epoch: 47  Avg loss: 0.0001089940\n",
            "Current lr: 0.0001\n",
            "Validation Results - Epoch: 47  Avg loss: 0.0001839495\n",
            "Training Results - Epoch: 48  Avg loss: 0.0001072378\n",
            "Current lr: 0.0001\n",
            "Validation Results - Epoch: 48  Avg loss: 0.0001837345\n",
            "Training Results - Epoch: 49  Avg loss: 0.0001064902\n",
            "Current lr: 0.0001\n",
            "Validation Results - Epoch: 49  Avg loss: 0.0001836896\n",
            "Training Results - Epoch: 50  Avg loss: 0.0001031454\n",
            "Current lr: 0.0001\n",
            "Validation Results - Epoch: 50  Avg loss: 0.0001793647\n",
            "Training Results - Epoch: 51  Avg loss: 0.0001023582\n",
            "Current lr: 0.0001\n",
            "Validation Results - Epoch: 51  Avg loss: 0.0001805548\n",
            "Training Results - Epoch: 52  Avg loss: 0.0001003553\n",
            "Current lr: 0.0001\n",
            "Validation Results - Epoch: 52  Avg loss: 0.0001801327\n",
            "Training Results - Epoch: 53  Avg loss: 0.0000992152\n",
            "Current lr: 0.0001\n",
            "Validation Results - Epoch: 53  Avg loss: 0.0001793117\n",
            "Training Results - Epoch: 54  Avg loss: 0.0000978273\n",
            "Current lr: 0.0001\n",
            "Validation Results - Epoch: 54  Avg loss: 0.0001792285\n",
            "Training Results - Epoch: 55  Avg loss: 0.0000970104\n",
            "Current lr: 0.0001\n",
            "Validation Results - Epoch: 55  Avg loss: 0.0001797035\n",
            "Training Results - Epoch: 56  Avg loss: 0.0000960476\n",
            "Current lr: 0.0001\n",
            "Validation Results - Epoch: 56  Avg loss: 0.0001799070\n",
            "Training Results - Epoch: 57  Avg loss: 0.0000958916\n",
            "Current lr: 0.0001\n",
            "Validation Results - Epoch: 57  Avg loss: 0.0001757994\n",
            "Training Results - Epoch: 58  Avg loss: 0.0000950366\n",
            "Current lr: 0.0001\n",
            "Validation Results - Epoch: 58  Avg loss: 0.0001775563\n",
            "Training Results - Epoch: 59  Avg loss: 0.0000940472\n",
            "Current lr: 0.0001\n",
            "Validation Results - Epoch: 59  Avg loss: 0.0001810225\n",
            "Training Results - Epoch: 60  Avg loss: 0.0000928906\n",
            "Current lr: 0.0001\n",
            "Validation Results - Epoch: 60  Avg loss: 0.0001803668\n",
            "Training Results - Epoch: 61  Avg loss: 0.0000918817\n",
            "Current lr: 0.0001\n",
            "Validation Results - Epoch: 61  Avg loss: 0.0001780338\n",
            "Training Results - Epoch: 62  Avg loss: 0.0000917890\n",
            "Current lr: 0.0001\n",
            "Validation Results - Epoch: 62  Avg loss: 0.0001779400\n",
            "Training Results - Epoch: 63  Avg loss: 0.0000909727\n",
            "Current lr: 0.0001\n",
            "Validation Results - Epoch: 63  Avg loss: 0.0001777878\n",
            "Training Results - Epoch: 64  Avg loss: 0.0000911281\n",
            "Current lr: 0.0001\n",
            "Validation Results - Epoch: 64  Avg loss: 0.0001772350\n",
            "Training Results - Epoch: 65  Avg loss: 0.0000914576\n",
            "Current lr: 0.0001\n",
            "Validation Results - Epoch: 65  Avg loss: 0.0001802155\n",
            "Training Results - Epoch: 66  Avg loss: 0.0000899184\n",
            "Current lr: 0.0001\n",
            "Validation Results - Epoch: 66  Avg loss: 0.0001775968\n",
            "Training Results - Epoch: 67  Avg loss: 0.0000886807\n",
            "Current lr: 0.0001\n",
            "Validation Results - Epoch: 67  Avg loss: 0.0001770206\n",
            "Training Results - Epoch: 68  Avg loss: 0.0000899026\n",
            "Current lr: 0.0001\n",
            "Validation Results - Epoch: 68  Avg loss: 0.0001803941\n",
            "Training Results - Epoch: 69  Avg loss: 0.0000894944\n",
            "Current lr: 0.0001\n",
            "Validation Results - Epoch: 69  Avg loss: 0.0001759523\n",
            "Training Results - Epoch: 70  Avg loss: 0.0000883981\n",
            "Current lr: 0.0001\n",
            "Validation Results - Epoch: 70  Avg loss: 0.0001764098\n",
            "Training Results - Epoch: 71  Avg loss: 0.0000904036\n",
            "Current lr: 0.0001\n",
            "Validation Results - Epoch: 71  Avg loss: 0.0001793623\n",
            "Training Results - Epoch: 72  Avg loss: 0.0000874367\n",
            "Current lr: 0.0001\n",
            "Validation Results - Epoch: 72  Avg loss: 0.0001762202\n",
            "Training Results - Epoch: 73  Avg loss: 0.0000891420\n",
            "Current lr: 0.0001\n",
            "Validation Results - Epoch: 73  Avg loss: 0.0001802275\n",
            "Training Results - Epoch: 74  Avg loss: 0.0001226748\n",
            "Current lr: 0.0001\n",
            "Validation Results - Epoch: 74  Avg loss: 0.0001939268\n",
            "Training Results - Epoch: 75  Avg loss: 0.0000934689\n",
            "Current lr: 0.0001\n",
            "Validation Results - Epoch: 75  Avg loss: 0.0001803196\n",
            "Training Results - Epoch: 76  Avg loss: 0.0000896706\n",
            "Current lr: 0.0001\n",
            "Validation Results - Epoch: 76  Avg loss: 0.0001753685\n",
            "Training Results - Epoch: 77  Avg loss: 0.0001020843\n",
            "Current lr: 0.0001\n",
            "Validation Results - Epoch: 77  Avg loss: 0.0001861394\n",
            "Training Results - Epoch: 78  Avg loss: 0.0001024332\n",
            "Current lr: 0.0001\n",
            "Validation Results - Epoch: 78  Avg loss: 0.0001822262\n",
            "Training Results - Epoch: 79  Avg loss: 0.0001152818\n",
            "Current lr: 0.0001\n",
            "Validation Results - Epoch: 79  Avg loss: 0.0001948598\n",
            "Training Results - Epoch: 80  Avg loss: 0.0001329633\n",
            "Current lr: 0.0001\n",
            "Validation Results - Epoch: 80  Avg loss: 0.0002025565\n",
            "Training Results - Epoch: 81  Avg loss: 0.0001208761\n",
            "Current lr: 0.0001\n",
            "Validation Results - Epoch: 81  Avg loss: 0.0001827218\n",
            "Training Results - Epoch: 82  Avg loss: 0.0000971389\n",
            "Current lr: 0.0001\n",
            "Validation Results - Epoch: 82  Avg loss: 0.0001834434\n",
            "Training Results - Epoch: 83  Avg loss: 0.0001282325\n",
            "Current lr: 0.0001\n",
            "Validation Results - Epoch: 83  Avg loss: 0.0001833567\n",
            "Training Results - Epoch: 84  Avg loss: 0.0001240922\n",
            "Current lr: 0.0001\n",
            "Validation Results - Epoch: 84  Avg loss: 0.0001951440\n",
            "Training Results - Epoch: 85  Avg loss: 0.0001429768\n",
            "Current lr: 0.0001\n",
            "Validation Results - Epoch: 85  Avg loss: 0.0001885719\n",
            "Training Results - Epoch: 86  Avg loss: 0.0001435188\n",
            "Current lr: 0.0001\n",
            "Validation Results - Epoch: 86  Avg loss: 0.0001789142\n",
            "Training Results - Epoch: 87  Avg loss: 0.0003027863\n",
            "Current lr: 0.0001\n",
            "Validation Results - Epoch: 87  Avg loss: 0.0002587505\n",
            "Training Results - Epoch: 88  Avg loss: 0.0002069612\n",
            "Current lr: 0.0001\n",
            "Validation Results - Epoch: 88  Avg loss: 0.0001905440\n",
            "Training Results - Epoch: 89  Avg loss: 0.0001359619\n",
            "Current lr: 0.0001\n",
            "Validation Results - Epoch: 89  Avg loss: 0.0002004714\n",
            "Training Results - Epoch: 90  Avg loss: 0.0001123293\n",
            "Current lr: 0.0001\n",
            "Validation Results - Epoch: 90  Avg loss: 0.0002109981\n",
            "Training Results - Epoch: 91  Avg loss: 0.0001197165\n",
            "Current lr: 0.0001\n",
            "Validation Results - Epoch: 91  Avg loss: 0.0001951888\n",
            "Training Results - Epoch: 92  Avg loss: 0.0001005019\n",
            "Current lr: 0.0001\n",
            "Validation Results - Epoch: 92  Avg loss: 0.0001810703\n",
            "Training Results - Epoch: 93  Avg loss: 0.0001643328\n",
            "Current lr: 0.0001\n",
            "Validation Results - Epoch: 93  Avg loss: 0.0001976061\n",
            "Training Results - Epoch: 94  Avg loss: 0.0001088178\n",
            "Current lr: 0.0001\n",
            "Validation Results - Epoch: 94  Avg loss: 0.0001833818\n",
            "Training Results - Epoch: 95  Avg loss: 0.0001040117\n",
            "Current lr: 0.0001\n",
            "Validation Results - Epoch: 95  Avg loss: 0.0001858535\n",
            "Training Results - Epoch: 96  Avg loss: 0.0000912989\n",
            "Current lr: 0.0001\n",
            "Validation Results - Epoch: 96  Avg loss: 0.0001777175\n",
            "Training Results - Epoch: 97  Avg loss: 0.0001080153\n",
            "Current lr: 0.0001\n",
            "Validation Results - Epoch: 97  Avg loss: 0.0001800051\n",
            "Training Results - Epoch: 98  Avg loss: 0.0000857813\n",
            "Current lr: 1e-05\n",
            "Validation Results - Epoch: 98  Avg loss: 0.0001771065\n",
            "Training Results - Epoch: 99  Avg loss: 0.0000812804\n",
            "Current lr: 1e-05\n",
            "Validation Results - Epoch: 99  Avg loss: 0.0001796101\n",
            "Training Results - Epoch: 100  Avg loss: 0.0000805866\n",
            "Current lr: 1e-05\n",
            "Validation Results - Epoch: 100  Avg loss: 0.0001806904\n",
            "Training Results - Epoch: 101  Avg loss: 0.0000799283\n",
            "Current lr: 1e-05\n",
            "Validation Results - Epoch: 101  Avg loss: 0.0001816848\n",
            "Training Results - Epoch: 102  Avg loss: 0.0000797267\n",
            "Current lr: 1e-05\n",
            "Validation Results - Epoch: 102  Avg loss: 0.0001815147\n",
            "Training Results - Epoch: 103  Avg loss: 0.0000795515\n",
            "Current lr: 1e-05\n",
            "Validation Results - Epoch: 103  Avg loss: 0.0001822349\n",
            "Training Results - Epoch: 104  Avg loss: 0.0000794210\n",
            "Current lr: 1e-05\n",
            "Validation Results - Epoch: 104  Avg loss: 0.0001818271\n",
            "Training Results - Epoch: 105  Avg loss: 0.0000793323\n",
            "Current lr: 1e-05\n",
            "Validation Results - Epoch: 105  Avg loss: 0.0001818458\n",
            "Training Results - Epoch: 106  Avg loss: 0.0000792812\n",
            "Current lr: 1e-05\n",
            "Validation Results - Epoch: 106  Avg loss: 0.0001812132\n",
            "FOLD 4\n",
            "Training Results - Epoch: 1  Avg loss: 0.0005952650\n",
            "Current lr: 0.001\n",
            "Validation Results - Epoch: 1  Avg loss: 0.0006941560\n",
            "Training Results - Epoch: 2  Avg loss: 0.0016324582\n",
            "Current lr: 0.001\n",
            "Validation Results - Epoch: 2  Avg loss: 0.0038824908\n",
            "Training Results - Epoch: 3  Avg loss: 0.0016642475\n",
            "Current lr: 0.001\n",
            "Validation Results - Epoch: 3  Avg loss: 0.0007999951\n",
            "Training Results - Epoch: 4  Avg loss: 0.0011091042\n",
            "Current lr: 0.001\n",
            "Validation Results - Epoch: 4  Avg loss: 0.0030612742\n",
            "Training Results - Epoch: 5  Avg loss: 0.0003027620\n",
            "Current lr: 0.001\n",
            "Validation Results - Epoch: 5  Avg loss: 0.0006105273\n",
            "Training Results - Epoch: 6  Avg loss: 0.0006726330\n",
            "Current lr: 0.001\n",
            "Validation Results - Epoch: 6  Avg loss: 0.0007379939\n",
            "Training Results - Epoch: 7  Avg loss: 0.0014221527\n",
            "Current lr: 0.001\n",
            "Validation Results - Epoch: 7  Avg loss: 0.0017975186\n",
            "Training Results - Epoch: 8  Avg loss: 0.0006517874\n",
            "Current lr: 0.001\n",
            "Validation Results - Epoch: 8  Avg loss: 0.0003885474\n",
            "Training Results - Epoch: 9  Avg loss: 0.0006432894\n",
            "Current lr: 0.001\n",
            "Validation Results - Epoch: 9  Avg loss: 0.0014447111\n",
            "Training Results - Epoch: 10  Avg loss: 0.0006631550\n",
            "Current lr: 0.001\n",
            "Validation Results - Epoch: 10  Avg loss: 0.0003464118\n",
            "Training Results - Epoch: 11  Avg loss: 0.0007827259\n",
            "Current lr: 0.001\n",
            "Validation Results - Epoch: 11  Avg loss: 0.0011213911\n",
            "Training Results - Epoch: 12  Avg loss: 0.0008477170\n",
            "Current lr: 0.001\n",
            "Validation Results - Epoch: 12  Avg loss: 0.0009721929\n",
            "Training Results - Epoch: 13  Avg loss: 0.0008955332\n",
            "Current lr: 0.001\n",
            "Validation Results - Epoch: 13  Avg loss: 0.0009966187\n",
            "Training Results - Epoch: 14  Avg loss: 0.0008479930\n",
            "Current lr: 0.001\n",
            "Validation Results - Epoch: 14  Avg loss: 0.0008457055\n",
            "Training Results - Epoch: 15  Avg loss: 0.0019186745\n",
            "Current lr: 0.001\n",
            "Validation Results - Epoch: 15  Avg loss: 0.0020008998\n",
            "Training Results - Epoch: 16  Avg loss: 0.0016842174\n",
            "Current lr: 0.001\n",
            "Validation Results - Epoch: 16  Avg loss: 0.0023765036\n",
            "Training Results - Epoch: 17  Avg loss: 0.0016525954\n",
            "Current lr: 0.001\n",
            "Validation Results - Epoch: 17  Avg loss: 0.0010324209\n",
            "Training Results - Epoch: 18  Avg loss: 0.0004262832\n",
            "Current lr: 0.001\n",
            "Validation Results - Epoch: 18  Avg loss: 0.0003788497\n",
            "Training Results - Epoch: 19  Avg loss: 0.0003508223\n",
            "Current lr: 0.001\n",
            "Validation Results - Epoch: 19  Avg loss: 0.0004146214\n",
            "Training Results - Epoch: 20  Avg loss: 0.0004625691\n",
            "Current lr: 0.001\n",
            "Validation Results - Epoch: 20  Avg loss: 0.0005913692\n",
            "Training Results - Epoch: 21  Avg loss: 0.0004889458\n",
            "Current lr: 0.001\n",
            "Validation Results - Epoch: 21  Avg loss: 0.0005947824\n",
            "Training Results - Epoch: 22  Avg loss: 0.0003599772\n",
            "Current lr: 0.001\n",
            "Validation Results - Epoch: 22  Avg loss: 0.0003408725\n",
            "Training Results - Epoch: 23  Avg loss: 0.0009265010\n",
            "Current lr: 0.001\n",
            "Validation Results - Epoch: 23  Avg loss: 0.0011279998\n",
            "Training Results - Epoch: 24  Avg loss: 0.0009174287\n",
            "Current lr: 0.001\n",
            "Validation Results - Epoch: 24  Avg loss: 0.0013559094\n",
            "Training Results - Epoch: 25  Avg loss: 0.0021686831\n",
            "Current lr: 0.001\n",
            "Validation Results - Epoch: 25  Avg loss: 0.0018594492\n",
            "Training Results - Epoch: 26  Avg loss: 0.0006475559\n",
            "Current lr: 0.001\n",
            "Validation Results - Epoch: 26  Avg loss: 0.0007326464\n",
            "Training Results - Epoch: 27  Avg loss: 0.0004364919\n",
            "Current lr: 0.001\n",
            "Validation Results - Epoch: 27  Avg loss: 0.0003076528\n",
            "Training Results - Epoch: 28  Avg loss: 0.0008070629\n",
            "Current lr: 0.001\n",
            "Validation Results - Epoch: 28  Avg loss: 0.0011693298\n",
            "Training Results - Epoch: 29  Avg loss: 0.0005402682\n",
            "Current lr: 0.001\n",
            "Validation Results - Epoch: 29  Avg loss: 0.0007728255\n",
            "Training Results - Epoch: 30  Avg loss: 0.0034994233\n",
            "Current lr: 0.001\n",
            "Validation Results - Epoch: 30  Avg loss: 0.0037316526\n",
            "Training Results - Epoch: 31  Avg loss: 0.0009636596\n",
            "Current lr: 0.001\n",
            "Validation Results - Epoch: 31  Avg loss: 0.0005410858\n",
            "Training Results - Epoch: 32  Avg loss: 0.0018750698\n",
            "Current lr: 0.001\n",
            "Validation Results - Epoch: 32  Avg loss: 0.0015377621\n",
            "Training Results - Epoch: 33  Avg loss: 0.0013225086\n",
            "Current lr: 0.001\n",
            "Validation Results - Epoch: 33  Avg loss: 0.0006949793\n",
            "Training Results - Epoch: 34  Avg loss: 0.0014311495\n",
            "Current lr: 0.001\n",
            "Validation Results - Epoch: 34  Avg loss: 0.0012455172\n",
            "Training Results - Epoch: 35  Avg loss: 0.0009830029\n",
            "Current lr: 0.001\n",
            "Validation Results - Epoch: 35  Avg loss: 0.0007695450\n",
            "Training Results - Epoch: 36  Avg loss: 0.0005388993\n",
            "Current lr: 0.001\n",
            "Validation Results - Epoch: 36  Avg loss: 0.0004480653\n",
            "Training Results - Epoch: 37  Avg loss: 0.0004228779\n",
            "Current lr: 0.001\n",
            "Validation Results - Epoch: 37  Avg loss: 0.0004972675\n",
            "Training Results - Epoch: 38  Avg loss: 0.0006554989\n",
            "Current lr: 0.001\n",
            "Validation Results - Epoch: 38  Avg loss: 0.0006243537\n",
            "Training Results - Epoch: 39  Avg loss: 0.0004333625\n",
            "Current lr: 0.001\n",
            "Validation Results - Epoch: 39  Avg loss: 0.0004304065\n",
            "Training Results - Epoch: 40  Avg loss: 0.0004267018\n",
            "Current lr: 0.001\n",
            "Validation Results - Epoch: 40  Avg loss: 0.0004404979\n",
            "Training Results - Epoch: 41  Avg loss: 0.0003132504\n",
            "Current lr: 0.001\n",
            "Validation Results - Epoch: 41  Avg loss: 0.0003258191\n",
            "Training Results - Epoch: 42  Avg loss: 0.0002134608\n",
            "Current lr: 0.001\n",
            "Validation Results - Epoch: 42  Avg loss: 0.0003133628\n",
            "Training Results - Epoch: 43  Avg loss: 0.0002415111\n",
            "Current lr: 0.001\n",
            "Validation Results - Epoch: 43  Avg loss: 0.0002680767\n",
            "Training Results - Epoch: 44  Avg loss: 0.0001901292\n",
            "Current lr: 0.001\n",
            "Validation Results - Epoch: 44  Avg loss: 0.0002650724\n",
            "Training Results - Epoch: 45  Avg loss: 0.0001777812\n",
            "Current lr: 0.001\n",
            "Validation Results - Epoch: 45  Avg loss: 0.0002075599\n",
            "Training Results - Epoch: 46  Avg loss: 0.0002419078\n",
            "Current lr: 0.001\n",
            "Validation Results - Epoch: 46  Avg loss: 0.0004512694\n",
            "Training Results - Epoch: 47  Avg loss: 0.0003801612\n",
            "Current lr: 0.001\n",
            "Validation Results - Epoch: 47  Avg loss: 0.0006559647\n",
            "Training Results - Epoch: 48  Avg loss: 0.0008924444\n",
            "Current lr: 0.001\n",
            "Validation Results - Epoch: 48  Avg loss: 0.0011820584\n",
            "Training Results - Epoch: 49  Avg loss: 0.0021446739\n",
            "Current lr: 0.001\n",
            "Validation Results - Epoch: 49  Avg loss: 0.0016392549\n",
            "Training Results - Epoch: 50  Avg loss: 0.0065877785\n",
            "Current lr: 0.001\n",
            "Validation Results - Epoch: 50  Avg loss: 0.0097316951\n",
            "Training Results - Epoch: 51  Avg loss: 0.0088797569\n",
            "Current lr: 0.001\n",
            "Validation Results - Epoch: 51  Avg loss: 0.0091899938\n",
            "Training Results - Epoch: 52  Avg loss: 0.0009096717\n",
            "Current lr: 0.001\n",
            "Validation Results - Epoch: 52  Avg loss: 0.0013076350\n",
            "Training Results - Epoch: 53  Avg loss: 0.0005446847\n",
            "Current lr: 0.001\n",
            "Validation Results - Epoch: 53  Avg loss: 0.0012752608\n",
            "Training Results - Epoch: 54  Avg loss: 0.0003122304\n",
            "Current lr: 0.001\n",
            "Validation Results - Epoch: 54  Avg loss: 0.0005494144\n",
            "Training Results - Epoch: 55  Avg loss: 0.0004246199\n",
            "Current lr: 0.001\n",
            "Validation Results - Epoch: 55  Avg loss: 0.0003407306\n",
            "Training Results - Epoch: 56  Avg loss: 0.0001721596\n",
            "Current lr: 0.001\n",
            "Validation Results - Epoch: 56  Avg loss: 0.0003919244\n",
            "Training Results - Epoch: 57  Avg loss: 0.0004617363\n",
            "Current lr: 0.001\n",
            "Validation Results - Epoch: 57  Avg loss: 0.0009836421\n",
            "Training Results - Epoch: 58  Avg loss: 0.0002902488\n",
            "Current lr: 0.001\n",
            "Validation Results - Epoch: 58  Avg loss: 0.0005207784\n",
            "Training Results - Epoch: 59  Avg loss: 0.0001916513\n",
            "Current lr: 0.001\n",
            "Validation Results - Epoch: 59  Avg loss: 0.0002993989\n",
            "Training Results - Epoch: 60  Avg loss: 0.0003046920\n",
            "Current lr: 0.001\n",
            "Validation Results - Epoch: 60  Avg loss: 0.0010437908\n",
            "Training Results - Epoch: 61  Avg loss: 0.0005408627\n",
            "Current lr: 0.001\n",
            "Validation Results - Epoch: 61  Avg loss: 0.0006128937\n",
            "Training Results - Epoch: 62  Avg loss: 0.0003802922\n",
            "Current lr: 0.001\n",
            "Validation Results - Epoch: 62  Avg loss: 0.0005431723\n",
            "Training Results - Epoch: 63  Avg loss: 0.0022622134\n",
            "Current lr: 0.001\n",
            "Validation Results - Epoch: 63  Avg loss: 0.0023882564\n",
            "Training Results - Epoch: 64  Avg loss: 0.0006485474\n",
            "Current lr: 0.001\n",
            "Validation Results - Epoch: 64  Avg loss: 0.0010605406\n",
            "Training Results - Epoch: 65  Avg loss: 0.0026958322\n",
            "Current lr: 0.001\n",
            "Validation Results - Epoch: 65  Avg loss: 0.0023934315\n",
            "Training Results - Epoch: 66  Avg loss: 0.0025876308\n",
            "Current lr: 0.001\n",
            "Validation Results - Epoch: 66  Avg loss: 0.0050110191\n",
            "Training Results - Epoch: 67  Avg loss: 0.0007728101\n",
            "Current lr: 0.0001\n",
            "Validation Results - Epoch: 67  Avg loss: 0.0011275592\n",
            "Training Results - Epoch: 68  Avg loss: 0.0006393801\n",
            "Current lr: 0.0001\n",
            "Validation Results - Epoch: 68  Avg loss: 0.0003761634\n",
            "Training Results - Epoch: 69  Avg loss: 0.0004274702\n",
            "Current lr: 0.0001\n",
            "Validation Results - Epoch: 69  Avg loss: 0.0004580541\n",
            "Training Results - Epoch: 70  Avg loss: 0.0003477857\n",
            "Current lr: 0.0001\n",
            "Validation Results - Epoch: 70  Avg loss: 0.0003765759\n",
            "Training Results - Epoch: 71  Avg loss: 0.0003211481\n",
            "Current lr: 0.0001\n",
            "Validation Results - Epoch: 71  Avg loss: 0.0004765767\n",
            "Training Results - Epoch: 72  Avg loss: 0.0002784188\n",
            "Current lr: 0.0001\n",
            "Validation Results - Epoch: 72  Avg loss: 0.0004853064\n",
            "Training Results - Epoch: 73  Avg loss: 0.0002072985\n",
            "Current lr: 0.0001\n",
            "Validation Results - Epoch: 73  Avg loss: 0.0002973606\n",
            "Training Results - Epoch: 74  Avg loss: 0.0001784180\n",
            "Current lr: 0.0001\n",
            "Validation Results - Epoch: 74  Avg loss: 0.0003476180\n",
            "Training Results - Epoch: 75  Avg loss: 0.0001739971\n",
            "Current lr: 0.0001\n",
            "Validation Results - Epoch: 75  Avg loss: 0.0002601071\n"
          ],
          "name": "stdout"
        }
      ]
    },
    {
      "cell_type": "code",
      "metadata": {
        "id": "XbmY8XxTBIuX",
        "colab_type": "code",
        "colab": {}
      },
      "source": [
        "decoded_delta = decoder_c(delta_embedding).cpu().detach().numpy()\n",
        "predicted_data = educations[2011].values + decoded_delta"
      ],
      "execution_count": 0,
      "outputs": []
    },
    {
      "cell_type": "code",
      "metadata": {
        "id": "p60UxdAkPsj4",
        "colab_type": "code",
        "outputId": "9c0d8c60-9d5c-42fe-e371-7823ebdfa3e4",
        "colab": {
          "base_uri": "https://localhost:8080/",
          "height": 34
        }
      },
      "source": [
        "# Training Error\n",
        "np.abs(predicted_data[train_val_neighbourhoods] - actual_data[train_val_neighbourhoods]).sum(axis=1).mean()"
      ],
      "execution_count": 0,
      "outputs": [
        {
          "output_type": "execute_result",
          "data": {
            "text/plain": [
              "0.05619282123431013"
            ]
          },
          "metadata": {
            "tags": []
          },
          "execution_count": 41
        }
      ]
    },
    {
      "cell_type": "code",
      "metadata": {
        "id": "JIFWfuGxPt15",
        "colab_type": "code",
        "outputId": "f8fa3636-cbbf-440c-c242-6ba355db31bc",
        "colab": {
          "base_uri": "https://localhost:8080/",
          "height": 34
        }
      },
      "source": [
        "# Testing Error\n",
        "np.abs(predicted_data[test_neighbourhoods] - actual_data[test_neighbourhoods]).sum(axis=1).mean()"
      ],
      "execution_count": 0,
      "outputs": [
        {
          "output_type": "execute_result",
          "data": {
            "text/plain": [
              "0.12545452057365256"
            ]
          },
          "metadata": {
            "tags": []
          },
          "execution_count": 42
        }
      ]
    },
    {
      "cell_type": "markdown",
      "metadata": {
        "id": "fVJXQIgaBZav",
        "colab_type": "text"
      },
      "source": [
        "#### With Additional Layer"
      ]
    },
    {
      "cell_type": "code",
      "metadata": {
        "id": "wPwMX2LsBuoP",
        "colab_type": "code",
        "colab": {}
      },
      "source": [
        "sizes_c = [educations[2011].shape[1], reviews_elmo_all[2016].shape[1]//2, reviews_elmo_all[2016].shape[1]]\n",
        "decoder_c = Decoder_C(sizes_c)\n",
        "\n",
        "if use_cuda and torch.cuda.is_available():\n",
        "    decoder_c.cuda()"
      ],
      "execution_count": 0,
      "outputs": []
    },
    {
      "cell_type": "code",
      "metadata": {
        "id": "zOBwpUnlPL7T",
        "colab_type": "code",
        "outputId": "c6f4182d-392e-4bf6-90e8-2e2d5725f89a",
        "colab": {
          "base_uri": "https://localhost:8080/",
          "height": 158
        }
      },
      "source": [
        "decoder_c"
      ],
      "execution_count": 0,
      "outputs": [
        {
          "output_type": "execute_result",
          "data": {
            "text/plain": [
              "Decoder_C(\n",
              "  (decoder): Sequential(\n",
              "    (linear1): Linear(in_features=1024, out_features=512, bias=True)\n",
              "    (activation1): Tanh()\n",
              "    (linear2): Linear(in_features=512, out_features=6, bias=True)\n",
              "    (tanh): Tanh()\n",
              "  )\n",
              ")"
            ]
          },
          "metadata": {
            "tags": []
          },
          "execution_count": 36
        }
      ]
    },
    {
      "cell_type": "code",
      "metadata": {
        "id": "m-Wt9cjDBzxJ",
        "colab_type": "code",
        "colab": {}
      },
      "source": [
        "validation_losses, training_losses = [], []\n",
        "for i in range(folds):\n",
        "  print('FOLD', i)\n",
        "  t, v = train_decoder(decoder_c, census_data, all_trains[i], all_vals[i], name='edu_elmo')\n",
        "  training_losses.extend(t)\n",
        "  validation_losses.extend(v)"
      ],
      "execution_count": 0,
      "outputs": []
    },
    {
      "cell_type": "code",
      "metadata": {
        "id": "j5RM5xCQBeJ7",
        "colab_type": "code",
        "colab": {}
      },
      "source": [
        "decoded_delta = decoder_c(delta_embedding).cpu().detach().numpy()\n",
        "predicted_data = educations[2011].values + decoded_delta"
      ],
      "execution_count": 0,
      "outputs": []
    },
    {
      "cell_type": "code",
      "metadata": {
        "colab_type": "code",
        "outputId": "9c0d8c60-9d5c-42fe-e371-7823ebdfa3e4",
        "id": "PJO-Vs__BhP0",
        "colab": {
          "base_uri": "https://localhost:8080/",
          "height": 34
        }
      },
      "source": [
        "np.abs(predicted_data[train_val_neighbourhoods] - actual_data[train_val_neighbourhoods]).sum(axis=1).mean()"
      ],
      "execution_count": 0,
      "outputs": [
        {
          "output_type": "execute_result",
          "data": {
            "text/plain": [
              "0.05619282123431013"
            ]
          },
          "metadata": {
            "tags": []
          },
          "execution_count": 41
        }
      ]
    },
    {
      "cell_type": "code",
      "metadata": {
        "id": "KKVsosH0Ok-U",
        "colab_type": "code",
        "outputId": "0722e9f1-43c4-42e1-b91f-e96c2796180d",
        "colab": {
          "base_uri": "https://localhost:8080/",
          "height": 34
        }
      },
      "source": [
        "np.abs(predicted_data[test_neighbourhoods] - actual_data[test_neighbourhoods]).sum(axis=1).mean()"
      ],
      "execution_count": 0,
      "outputs": [
        {
          "output_type": "execute_result",
          "data": {
            "text/plain": [
              "0.09251840091242075"
            ]
          },
          "metadata": {
            "tags": []
          },
          "execution_count": 30
        }
      ]
    },
    {
      "cell_type": "markdown",
      "metadata": {
        "id": "w8bf-trrJvmj",
        "colab_type": "text"
      },
      "source": [
        "## Results Summary"
      ]
    },
    {
      "cell_type": "markdown",
      "metadata": {
        "id": "TQ30mPWTJxmL",
        "colab_type": "text"
      },
      "source": [
        "<table>\n",
        "    <thead>\n",
        "        <tr>\n",
        "            <th rowspan=2>Model</th>\n",
        "            <th rowspan=2> \"No change\" </th>\n",
        "            <th colspan=2>TF-IDF Autoencoder</th>\n",
        "            <th colspan=2>ELMO</th>\n",
        "        </tr>\n",
        "        <tr>\n",
        "            <th>LR</th>\n",
        "            <th>NLR1</th>\n",
        "            <th>LR</th>\n",
        "            <th>NLR1</th>\n",
        "            <th>NLR2</th>\n",
        "        </tr>\n",
        "    </thead>\n",
        "    <tbody>\n",
        "        <tr>\n",
        "            <td>Training MAE</td>\n",
        "            <td>11.92%</td>\n",
        "            <td>7.94%</td>\n",
        "            <td>8.22%</td>\n",
        "            <td>8.01%</td>\n",
        "            <td>5.62%</td>\n",
        "            <td>5.62%</td>\n",
        "        </tr>\n",
        "        <tr>\n",
        "            <td>Testing MAE</td>\n",
        "            <td>12.11%</td>\n",
        "            <td>10.07%</td>\n",
        "            <td>9.33%</td>\n",
        "            <td>8.01%</td>\n",
        "            <td>12.55%</td>\n",
        "            <td>9.25%</td>\n",
        "        </tr>\n",
        "</tbody>\n",
        "</table>"
      ]
    },
    {
      "cell_type": "markdown",
      "metadata": {
        "id": "S4pqGXLIdmgA",
        "colab_type": "text"
      },
      "source": [
        "## Sensitivity Analysis\n",
        "\n",
        "Senesitivity Analysis is done on the second-best performing model, raw TF-IDF with Linear Regression"
      ]
    },
    {
      "cell_type": "code",
      "metadata": {
        "id": "n93Vnj4zdwrH",
        "colab_type": "code",
        "colab": {}
      },
      "source": [
        "def evaluate_dim_reviews(reviews, orig_delta_embedding, dim):\n",
        "    orig_decoded = lr.predict(orig_delta_embedding)\n",
        "    diff = np.zeros(orig_decoded.shape)\n",
        "  \n",
        "    r_2011 = reviews[2011].data.clone()\n",
        "    r_2016 = reviews[2016].data.clone()\n",
        "\n",
        "    r_2011[:, dim] = torch.zeros(r_2011.shape[0])\n",
        "    r_2016[:, dim] = torch.zeros(r_2016.shape[0])\n",
        "\n",
        "    delta_embedding = r_2016 - r_2011\n",
        "\n",
        "    decoded = lr.predict(delta_embedding)\n",
        "    diff = orig_decoded - decoded\n",
        "\n",
        "    diff = diff.mean(axis=0)\n",
        "    \n",
        "    return diff"
      ],
      "execution_count": 0,
      "outputs": []
    },
    {
      "cell_type": "code",
      "metadata": {
        "id": "DcfvLHM3eHBr",
        "colab_type": "code",
        "colab": {}
      },
      "source": [
        "feature_importance_reviews = np.zeros((reviews[2011].data.shape[1], delta_census.shape[1]))\n",
        "for i in range(reviews[2011].data.shape[1]):\n",
        "  feature_importance_reviews[i] = evaluate_dim_reviews(reviews, delta_reviews, i)"
      ],
      "execution_count": 0,
      "outputs": []
    },
    {
      "cell_type": "code",
      "metadata": {
        "id": "7Ym2yWq4hMcT",
        "colab_type": "code",
        "colab": {}
      },
      "source": [
        "def heatmap(data, name, absolute=False, width=30, height=30):\n",
        "  fig, ax = plt.subplots()\n",
        "\n",
        "  # We want to show all ticks...\n",
        "  ax.set_xticks(np.arange(data.shape[1]))\n",
        "  ax.set_yticks(np.arange(data.shape[0]))\n",
        "  # ... and label them with the respective list entries\n",
        "\n",
        "  try:\n",
        "    ax.set_xticklabels(data.columns)\n",
        "    ax.set_yticklabels(data.index)\n",
        "  except Exception:\n",
        "    pass\n",
        "\n",
        "  if type(data) != np.ndarray:\n",
        "    data = data.to_numpy(dtype=float)\n",
        "\n",
        "  if absolute:\n",
        "    im = ax.imshow(np.abs(data))\n",
        "  else:\n",
        "    im = ax.imshow(data)\n",
        "\n",
        "  plt.setp(ax.get_xticklabels(), rotation=45, ha=\"right\",\n",
        "          rotation_mode=\"anchor\")\n",
        "\n",
        "  cbar = ax.figure.colorbar(im, ax=ax)\n",
        "\n",
        "  fig.set_size_inches(width, height)\n",
        "\n",
        "  ax.set_title(name)\n",
        "  plt.show()"
      ],
      "execution_count": 0,
      "outputs": []
    },
    {
      "cell_type": "code",
      "metadata": {
        "id": "DmNLcXN7ebDF",
        "colab_type": "code",
        "colab": {}
      },
      "source": [
        "# sort by absolute mean\n",
        "sort_importance = np.argsort(np.abs(feature_importance_reviews).mean(axis=1))[::-1]"
      ],
      "execution_count": 0,
      "outputs": []
    },
    {
      "cell_type": "code",
      "metadata": {
        "id": "FzWh_8AVeeBL",
        "colab_type": "code",
        "colab": {}
      },
      "source": [
        "with open(DRIVE_PATH.joinpath('models/words.out'), 'r') as f:\n",
        "  words = f.read().split('\\n')\n",
        "\n",
        "words = words[:-1]\n",
        "\n",
        "df_importance = pd.DataFrame(feature_importance_reviews, columns=educations[2011].columns, index=words)"
      ],
      "execution_count": 0,
      "outputs": []
    },
    {
      "cell_type": "code",
      "metadata": {
        "id": "IrBDkO32eivt",
        "colab_type": "code",
        "outputId": "725492b3-472e-4406-c6d2-f9a19ec3bf2b",
        "colab": {
          "base_uri": "https://localhost:8080/",
          "height": 141
        }
      },
      "source": [
        "df_importance.columns"
      ],
      "execution_count": 0,
      "outputs": [
        {
          "output_type": "execute_result",
          "data": {
            "text/plain": [
              "Index(['  No certificate, diploma or degree',\n",
              "       '  High school diploma or equivalent',\n",
              "       '    Apprenticeship or trades certificate or diploma',\n",
              "       '    College, CEGEP or other non-university certificate or diploma',\n",
              "       '    University certificate or diploma below bachelor level',\n",
              "       '    University certificate, diploma or degree at bachelor level or above'],\n",
              "      dtype='object')"
            ]
          },
          "metadata": {
            "tags": []
          },
          "execution_count": 97
        }
      ]
    },
    {
      "cell_type": "code",
      "metadata": {
        "id": "yufXNLeAhahR",
        "colab_type": "code",
        "outputId": "198c1f2b-ac2d-4106-cc41-630102c5c2fd",
        "colab": {
          "base_uri": "https://localhost:8080/",
          "height": 742
        }
      },
      "source": [
        "heatmap(df_importance.iloc[sort_importance[:40]], 'feature importance sorted by absolute mean', width=5, height=8)"
      ],
      "execution_count": 0,
      "outputs": [
        {
          "output_type": "display_data",
          "data": {
            "image/png": "[encoded data removed]",
            "text/plain": [
              "<Figure size 360x576 with 2 Axes>"
            ]
          },
          "metadata": {
            "tags": []
          }
        }
      ]
    },
    {
      "cell_type": "code",
      "metadata": {
        "id": "tf3CqJ5ahooL",
        "colab_type": "code",
        "colab": {}
      },
      "source": [
        "# sort by std\n",
        "sort_importance_std = np.argsort(feature_importance_reviews.std(axis=1))[::-1]"
      ],
      "execution_count": 0,
      "outputs": []
    },
    {
      "cell_type": "code",
      "metadata": {
        "id": "btaQnd-AhvdE",
        "colab_type": "code",
        "outputId": "e22866bc-6c20-4c9c-be17-5e1e0274b33a",
        "colab": {
          "base_uri": "https://localhost:8080/",
          "height": 851
        }
      },
      "source": [
        "heatmap(df_importance.iloc[sort_importance_std[:40]], 'feature importance sorted by std', width=5, height=10)"
      ],
      "execution_count": 0,
      "outputs": [
        {
          "output_type": "display_data",
          "data": {
            "image/png": "[encoded data removed]",
            "text/plain": [
              "<Figure size 360x720 with 2 Axes>"
            ]
          },
          "metadata": {
            "tags": []
          }
        }
      ]
    },
    {
      "cell_type": "code",
      "metadata": {
        "id": "njcZhNzde1ld",
        "colab_type": "code",
        "outputId": "d6bfd12d-e03f-456e-9363-1dd437fc25a8",
        "colab": {
          "base_uri": "https://localhost:8080/",
          "height": 212
        }
      },
      "source": [
        "# Low education\n",
        "df_importance['  No certificate, diploma or degree'].loc[df_importance['  No certificate, diploma or degree'].abs().sort_values(ascending=False)[:10].index]"
      ],
      "execution_count": 0,
      "outputs": [
        {
          "output_type": "execute_result",
          "data": {
            "text/plain": [
              "money                2.831877e-07\n",
              "service              2.022913e-07\n",
              "use                  1.653509e-07\n",
              "terms service        1.608900e-07\n",
              "showed               1.603786e-07\n",
              "like                 1.548711e-07\n",
              "recommend           -1.311463e-07\n",
              "removed violating    1.215644e-07\n",
              "violating terms      1.215433e-07\n",
              "review removed       1.212403e-07\n",
              "Name:   No certificate, diploma or degree, dtype: float64"
            ]
          },
          "metadata": {
            "tags": []
          },
          "execution_count": 105
        }
      ]
    },
    {
      "cell_type": "code",
      "metadata": {
        "id": "DWHIKm1ve4k7",
        "colab_type": "code",
        "outputId": "23bf7fcd-60d0-4efa-acfb-6dfea64ad0e9",
        "colab": {
          "base_uri": "https://localhost:8080/",
          "height": 232
        }
      },
      "source": [
        "# Mid-level\n",
        "df_importance['    College, CEGEP or other non-university certificate or diploma'].loc[df_importance['    College, CEGEP or other non-university certificate or diploma'].abs().sort_values(ascending=False)[:10].index]"
      ],
      "execution_count": 0,
      "outputs": [
        {
          "output_type": "execute_result",
          "data": {
            "text/plain": [
              "stuff      2.078269e-07\n",
              "la         1.885117e-07\n",
              "school    -1.679268e-07\n",
              "meats      1.635060e-07\n",
              "hot        1.468737e-07\n",
              "food      -1.427747e-07\n",
              "italian    1.413276e-07\n",
              "pizza      1.309140e-07\n",
              "lots       1.252345e-07\n",
              "quality   -1.242353e-07\n",
              "Name:     College, CEGEP or other non-university certificate or diploma, dtype: float64"
            ]
          },
          "metadata": {
            "tags": []
          },
          "execution_count": 107
        }
      ]
    },
    {
      "cell_type": "code",
      "metadata": {
        "id": "wMFNW6pJe-Ou",
        "colab_type": "code",
        "outputId": "84e34ade-72a3-4067-90b7-b6e764756250",
        "colab": {
          "base_uri": "https://localhost:8080/",
          "height": 232
        }
      },
      "source": [
        "# High-income\n",
        "df_importance['    University certificate, diploma or degree at bachelor level or above'].loc[df_importance['    University certificate, diploma or degree at bachelor level or above'].abs().sort_values(ascending=False)[:10].index]"
      ],
      "execution_count": 0,
      "outputs": [
        {
          "output_type": "execute_result",
          "data": {
            "text/plain": [
              "chicken   -6.131477e-07\n",
              "service   -4.130767e-07\n",
              "school     3.806082e-07\n",
              "money     -3.120502e-07\n",
              "stuff     -2.858410e-07\n",
              "order     -2.829215e-07\n",
              "person    -2.231304e-07\n",
              "la        -2.089917e-07\n",
              "use       -2.018877e-07\n",
              "showed    -1.974941e-07\n",
              "Name:     University certificate, diploma or degree at bachelor level or above, dtype: float64"
            ]
          },
          "metadata": {
            "tags": []
          },
          "execution_count": 108
        }
      ]
    }
  ]
}