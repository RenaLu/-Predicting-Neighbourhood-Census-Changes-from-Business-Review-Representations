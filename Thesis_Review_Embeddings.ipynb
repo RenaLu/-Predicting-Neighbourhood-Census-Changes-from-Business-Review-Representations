{
  "nbformat": 4,
  "nbformat_minor": 0,
  "metadata": {
    "colab": {
      "name": "Thesis_Review_Embeddings.ipynb",
      "provenance": [],
      "collapsed_sections": [],
      "toc_visible": true
    },
    "kernelspec": {
      "name": "python3",
      "display_name": "Python 3"
    },
    "accelerator": "GPU"
  },
  "cells": [
    {
      "cell_type": "markdown",
      "metadata": {
        "id": "_2xlgzCPO1aN",
        "colab_type": "text"
      },
      "source": [
        "<font color='red'>**In this notebook, all three embedding models are trained/used to generate neighbourhood specific review embeddings**</font>"
      ]
    },
    {
      "cell_type": "markdown",
      "metadata": {
        "id": "K-ujajSuDt-G",
        "colab_type": "text"
      },
      "source": [
        "# Imports and Global Variables\n"
      ]
    },
    {
      "cell_type": "code",
      "metadata": {
        "id": "6MAfDVk-Gaky",
        "colab_type": "code",
        "outputId": "856e644b-c960-4536-b10e-841cd3e28d02",
        "colab": {
          "base_uri": "https://localhost:8080/",
          "height": 194
        }
      },
      "source": [
        "!pip install pyshp\n",
        "import pickle, math, random, shapefile, shapely\n",
        "from shapely.geometry import Polygon, Point"
      ],
      "execution_count": 0,
      "outputs": [
        {
          "output_type": "stream",
          "text": [
            "Collecting pyshp\n",
            "\u001b[?25l  Downloading https://files.pythonhosted.org/packages/27/16/3bf15aa864fb77845fab8007eda22c2bd67bd6c1fd13496df452c8c43621/pyshp-2.1.0.tar.gz (215kB)\n",
            "\r\u001b[K     |█▌                              | 10kB 29.2MB/s eta 0:00:01\r\u001b[K     |███                             | 20kB 2.2MB/s eta 0:00:01\r\u001b[K     |████▋                           | 30kB 2.9MB/s eta 0:00:01\r\u001b[K     |██████                          | 40kB 2.1MB/s eta 0:00:01\r\u001b[K     |███████▋                        | 51kB 2.4MB/s eta 0:00:01\r\u001b[K     |█████████▏                      | 61kB 2.8MB/s eta 0:00:01\r\u001b[K     |██████████▋                     | 71kB 3.0MB/s eta 0:00:01\r\u001b[K     |████████████▏                   | 81kB 3.2MB/s eta 0:00:01\r\u001b[K     |█████████████▊                  | 92kB 3.6MB/s eta 0:00:01\r\u001b[K     |███████████████▏                | 102kB 3.4MB/s eta 0:00:01\r\u001b[K     |████████████████▊               | 112kB 3.4MB/s eta 0:00:01\r\u001b[K     |██████████████████▎             | 122kB 3.4MB/s eta 0:00:01\r\u001b[K     |███████████████████▉            | 133kB 3.4MB/s eta 0:00:01\r\u001b[K     |█████████████████████▎          | 143kB 3.4MB/s eta 0:00:01\r\u001b[K     |██████████████████████▉         | 153kB 3.4MB/s eta 0:00:01\r\u001b[K     |████████████████████████▍       | 163kB 3.4MB/s eta 0:00:01\r\u001b[K     |█████████████████████████▉      | 174kB 3.4MB/s eta 0:00:01\r\u001b[K     |███████████████████████████▍    | 184kB 3.4MB/s eta 0:00:01\r\u001b[K     |█████████████████████████████   | 194kB 3.4MB/s eta 0:00:01\r\u001b[K     |██████████████████████████████▍ | 204kB 3.4MB/s eta 0:00:01\r\u001b[K     |████████████████████████████████| 215kB 3.4MB/s eta 0:00:01\r\u001b[K     |████████████████████████████████| 225kB 3.4MB/s \n",
            "\u001b[?25hBuilding wheels for collected packages: pyshp\n",
            "  Building wheel for pyshp (setup.py) ... \u001b[?25l\u001b[?25hdone\n",
            "  Created wheel for pyshp: filename=pyshp-2.1.0-cp36-none-any.whl size=32609 sha256=7adc4b631711eabe923efd9535556ee2b2b23e6f73fb3a122a1e6da301225f51\n",
            "  Stored in directory: /root/.cache/pip/wheels/a6/0c/de/321b5192ad416b328975a2f0385f72c64db4656501eba7cc1a\n",
            "Successfully built pyshp\n",
            "Installing collected packages: pyshp\n",
            "Successfully installed pyshp-2.1.0\n"
          ],
          "name": "stdout"
        }
      ]
    },
    {
      "cell_type": "code",
      "metadata": {
        "id": "GbJf8T2qD1na",
        "colab_type": "code",
        "outputId": "25b1224c-d010-4204-f1c4-e5aea2b5da0c",
        "colab": {
          "base_uri": "https://localhost:8080/",
          "height": 34
        }
      },
      "source": [
        "import pandas as pd\n",
        "import numpy as np\n",
        "import matplotlib.pyplot as plt\n",
        "from pathlib import Path\n",
        "from ast import literal_eval\n",
        "from collections import defaultdict\n",
        "from tqdm.notebook import tqdm\n",
        "from sklearn.feature_extraction.text import TfidfTransformer\n",
        "from sklearn.model_selection import train_test_split\n",
        "from sklearn.preprocessing import normalize\n",
        "\n",
        "from scipy import sparse\n",
        "import spacy\n",
        "\n",
        "import torch\n",
        "import torch.nn as nn\n",
        "from torch import optim\n",
        "import torch.nn.functional as F\n",
        "import string\n",
        "import random\n",
        "import torch.utils.data as Data\n",
        "from torchtext.data import Field, BucketIterator\n",
        "from torchtext import data\n",
        "\n",
        "from collections import OrderedDict\n",
        "import locale\n",
        "from locale import atof, atoi\n",
        "locale.setlocale(locale.LC_NUMERIC, '')"
      ],
      "execution_count": 0,
      "outputs": [
        {
          "output_type": "execute_result",
          "data": {
            "text/plain": [
              "'en_US.UTF-8'"
            ]
          },
          "metadata": {
            "tags": []
          },
          "execution_count": 1
        }
      ]
    },
    {
      "cell_type": "code",
      "metadata": {
        "id": "AtVwaBN9aWYE",
        "colab_type": "code",
        "colab": {}
      },
      "source": [
        "!pip install pytorch-ignite"
      ],
      "execution_count": 0,
      "outputs": []
    },
    {
      "cell_type": "code",
      "metadata": {
        "id": "PRjPsVfnaYST",
        "colab_type": "code",
        "colab": {}
      },
      "source": [
        "from ignite.handlers import ModelCheckpoint, EarlyStopping, TerminateOnNan\n",
        "from ignite.engine import Engine, Events\n",
        "from ignite.metrics import Accuracy, Loss, RunningAverage\n",
        "from ignite.handlers import ModelCheckpoint, EarlyStopping\n",
        "from ignite.contrib.handlers import ProgressBar"
      ],
      "execution_count": 0,
      "outputs": []
    },
    {
      "cell_type": "code",
      "metadata": {
        "id": "yHmsk9rNL_gm",
        "colab_type": "code",
        "outputId": "79a6ce16-02b6-47e7-c8af-7261468d98c3",
        "colab": {
          "base_uri": "https://localhost:8080/",
          "height": 70
        }
      },
      "source": [
        "from nltk.tokenize import sent_tokenize\n",
        "import nltk\n",
        "nltk.download('punkt')"
      ],
      "execution_count": 0,
      "outputs": [
        {
          "output_type": "stream",
          "text": [
            "[nltk_data] Downloading package punkt to /root/nltk_data...\n",
            "[nltk_data]   Unzipping tokenizers/punkt.zip.\n"
          ],
          "name": "stdout"
        },
        {
          "output_type": "execute_result",
          "data": {
            "text/plain": [
              "True"
            ]
          },
          "metadata": {
            "tags": []
          },
          "execution_count": 2
        }
      ]
    },
    {
      "cell_type": "code",
      "metadata": {
        "id": "wBzBYsqc1OAw",
        "colab_type": "code",
        "outputId": "88632925-9ca6-4d8e-c46f-3d2cf04f9f8d",
        "colab": {
          "base_uri": "https://localhost:8080/",
          "height": 125
        }
      },
      "source": [
        "from google.colab import drive\n",
        "drive.mount('/content/drive')"
      ],
      "execution_count": 0,
      "outputs": [
        {
          "output_type": "stream",
          "text": [
            "Go to this URL in a browser: https://accounts.google.com/o/oauth2/auth?client_id=947318989803-6bn6qk8qdgf4n4g3pfee6491hc0brc4i.apps.googleusercontent.com&redirect_uri=urn%3aietf%3awg%3aoauth%3a2.0%3aoob&response_type=code&scope=email%20https%3a%2f%2fwww.googleapis.com%2fauth%2fdocs.test%20https%3a%2f%2fwww.googleapis.com%2fauth%2fdrive%20https%3a%2f%2fwww.googleapis.com%2fauth%2fdrive.photos.readonly%20https%3a%2f%2fwww.googleapis.com%2fauth%2fpeopleapi.readonly\n",
            "\n",
            "Enter your authorization code:\n",
            "··········\n",
            "Mounted at /content/drive\n"
          ],
          "name": "stdout"
        }
      ]
    },
    {
      "cell_type": "code",
      "metadata": {
        "id": "inptwleJEEm4",
        "colab_type": "code",
        "colab": {}
      },
      "source": [
        "use_idf = True\n",
        "max_features = 2**10\n",
        "pca_components = 2**4\n",
        "ngram_range = (1,2)\n",
        "min_df = 100\n",
        "DRIVE_PATH = Path('/content/drive/My Drive/Thesis2019/')\n",
        "BUSINESS_DATA_PATH = Path('businesses_final.csv')\n",
        "NEIGHBOURHOOD_SHAPEFILE_PATH = \"neighbourhoods_wgs84/NEIGHBORHOODS_WGS84\"\n",
        "REVIEWS_PATH = ('reviews.csv')\n",
        "use_cuda = True\n",
        "years = [2011, 2016]\n",
        "\n",
        "EMBEDDING_DIM = 50\n",
        "VALIDATION_SPLIT = 0.3"
      ],
      "execution_count": 0,
      "outputs": []
    },
    {
      "cell_type": "markdown",
      "metadata": {
        "id": "mfSQRvNqEtFQ",
        "colab_type": "text"
      },
      "source": [
        "# Data Cleaning and Preprocessing"
      ]
    },
    {
      "cell_type": "markdown",
      "metadata": {
        "id": "i6PyyhhQE3cP",
        "colab_type": "text"
      },
      "source": [
        "## TF-IDF Autoencoder"
      ]
    },
    {
      "cell_type": "markdown",
      "metadata": {
        "id": "8mOUXLzsHG-9",
        "colab_type": "text"
      },
      "source": [
        "### For Autoencoder training"
      ]
    },
    {
      "cell_type": "markdown",
      "metadata": {
        "id": "1pJqlFuKFR-8",
        "colab_type": "text"
      },
      "source": [
        "The datasets loaded in this section are pre-cleaned as described under section 4.2. in the report. \n",
        "\n",
        "Reference: https://github.com/alexwolson/uem_projects/blob/master/notebooks/Autoencoders/MAIN_LSA_Neighbourhoods.ipynb"
      ]
    },
    {
      "cell_type": "code",
      "metadata": {
        "id": "_veQHXLFCUZE",
        "colab_type": "code",
        "colab": {}
      },
      "source": [
        "bf_text = pd.read_csv(Path.joinpath(DATA_DIR,'business_text_stripped_all.csv')).dropna()\n",
        "uf_text = pd.read_csv(Path.joinpath(DATA_DIR,'user_text_stripped_all.csv')).dropna()\n",
        "nf_text = pd.read_csv(Path.joinpath(DATA_DIR,'neighborhood_text_stripped_all.csv')).dropna()\n",
        "rf_text = pd.read_csv(Path.joinpath(DATA_DIR,'text_stripped_all.csv')).dropna()"
      ],
      "execution_count": 0,
      "outputs": []
    },
    {
      "cell_type": "code",
      "metadata": {
        "id": "ADyPqobqC3Xb",
        "colab_type": "code",
        "colab": {}
      },
      "source": [
        "alldocs = list(bf_text['text'].values) + list(uf_text['text'].values) + list(nf_text['text'].values) + list(rf_text['text'].values)\n",
        "\n",
        "bids = list(bf_text['business'].values)\n",
        "uids = list(uf_text['user'].values)\n",
        "nids = list(nf_text['neighborhood'].values)"
      ],
      "execution_count": 0,
      "outputs": []
    },
    {
      "cell_type": "code",
      "metadata": {
        "id": "_v480U9xCYNQ",
        "colab_type": "code",
        "outputId": "90ee3004-4fb6-4ac6-f981-5bda6b8a2adf",
        "colab": {
          "base_uri": "https://localhost:8080/",
          "height": 71
        }
      },
      "source": [
        "# Build Count Vector\n",
        "p = DRIVE_PATH.joinpath('models/vectorizer.pickle')\n",
        "if p.exists():\n",
        "    with open(p,'rb') as f:\n",
        "        vectorizer = pickle.load(f)\n",
        "    vector_words = vectorizer.transform(alldocs)\n",
        "else:\n",
        "    vectorizer = CountVectorizer(strip_accents='ascii', \n",
        "                                 stop_words='english', \n",
        "                                 ngram_range=ngram_range,\n",
        "                                 min_df=min_df,\n",
        "                                 max_features=max_features\n",
        "                                )\n",
        "    vector_words = vectorizer.fit_transform(alldocs)\n",
        "    with open(str(DRIVE_PATH.joinpath('models/vectorizer.pickle')),'wb') as f:\n",
        "        pickle.dump(vectorizer,f)\n",
        "words = vectorizer.get_feature_names()"
      ],
      "execution_count": 0,
      "outputs": [
        {
          "output_type": "stream",
          "text": [
            "/usr/local/lib/python3.6/dist-packages/sklearn/base.py:318: UserWarning: Trying to unpickle estimator CountVectorizer from version 0.21.3 when using version 0.22.1. This might lead to breaking code or invalid results. Use at your own risk.\n",
            "  UserWarning)\n"
          ],
          "name": "stderr"
        }
      ]
    },
    {
      "cell_type": "code",
      "metadata": {
        "id": "bAneE2X2EhVO",
        "colab_type": "code",
        "colab": {}
      },
      "source": [
        "# Store feature/word names\n",
        "with open(DRIVE_PATH.joinpath('models/words.out'), \"w\") as txt_file:\n",
        "    for word in words:\n",
        "        txt_file.write(word + \"\\n\")"
      ],
      "execution_count": 0,
      "outputs": []
    },
    {
      "cell_type": "code",
      "metadata": {
        "id": "dmBpEXHEIre_",
        "colab_type": "code",
        "colab": {}
      },
      "source": [
        "# Build TF-IDF Vector\n",
        "if use_idf:\n",
        "    p = DRIVE_PATH.joinpath('models/tfidftransformer.pickle')\n",
        "    if p.exists():\n",
        "        with open(p,'rb') as f:\n",
        "            transformer = pickle.load(f)\n",
        "    else:\n",
        "        transformer = TfidfTransformer(use_idf=True)\n",
        "        transformer = transformer.fit(vector_words)\n",
        "        with open(p,'wb') as f:\n",
        "            pickle.dump(transformer,f)\n",
        "\n",
        "transform = lambda x: normalize(\n",
        "    transformer.transform(\n",
        "        vectorizer.transform(\n",
        "            x.text.values\n",
        "        )\n",
        "    ),\n",
        "    norm='l1',\n",
        "    axis=1)"
      ],
      "execution_count": 0,
      "outputs": []
    },
    {
      "cell_type": "code",
      "metadata": {
        "id": "f6NPTZsHZqls",
        "colab_type": "code",
        "colab": {}
      },
      "source": [
        "bf_vecs = transform(bf_text)\n",
        "uf_vecs = transform(uf_text)\n",
        "nf_vecs = transform(nf_text)\n",
        "rf_vecs = transform(rf_text)"
      ],
      "execution_count": 0,
      "outputs": []
    },
    {
      "cell_type": "code",
      "metadata": {
        "id": "IW5IC6qlaSRU",
        "colab_type": "code",
        "colab": {}
      },
      "source": [
        "# Create dataset wrapper for PyTorch\n",
        "class ReviewsVector(Data.Dataset):\n",
        "    \"\"\"Reviews Vector dataset.\"\"\"\n",
        "\n",
        "    def __init__(self, data):\n",
        "        \"\"\"\n",
        "        Args: \n",
        "          data\n",
        "\n",
        "        \"\"\"\n",
        "        self.shape = data.shape\n",
        "        self.data = torch.tensor(data).type(torch.FloatTensor)\n",
        "        if use_cuda and torch.cuda.is_available():\n",
        "          self.data = self.data.cuda()\n",
        "\n",
        "    def __len__(self):\n",
        "        return len(self.data)\n",
        "\n",
        "    def __getitem__(self, idx):\n",
        "        return self.data[idx]"
      ],
      "execution_count": 0,
      "outputs": []
    },
    {
      "cell_type": "code",
      "metadata": {
        "id": "PvGLzjc1YdN2",
        "colab_type": "code",
        "colab": {}
      },
      "source": [
        "train_vals = sparse.vstack([rf_vecs, bf_vecs, uf_vecs]).todense()\n",
        "neighborhoods_real = np.array(nf_vecs.todense())\n",
        "train_data = ReviewsVector(train_vals)\n",
        "val_data = ReviewsVector(neighborhoods_real)"
      ],
      "execution_count": 0,
      "outputs": []
    },
    {
      "cell_type": "code",
      "metadata": {
        "id": "tWHSKy5nYhtg",
        "colab_type": "code",
        "colab": {}
      },
      "source": [
        "del train_vals\n",
        "del neighborhoods_real"
      ],
      "execution_count": 0,
      "outputs": []
    },
    {
      "cell_type": "markdown",
      "metadata": {
        "id": "2NAb1sUgHMNC",
        "colab_type": "text"
      },
      "source": [
        "### For census change prediction"
      ]
    },
    {
      "cell_type": "markdown",
      "metadata": {
        "id": "t0UYvGXcHUHY",
        "colab_type": "text"
      },
      "source": [
        "For census change prediction, the reviews need to be separated by years, and aggregated by neighbourhoods. All reviews in businesses that fall under a neighbourhood's geographical region will be concatenated together.  "
      ]
    },
    {
      "cell_type": "code",
      "metadata": {
        "id": "NmdL7x1AHVgq",
        "colab_type": "code",
        "colab": {}
      },
      "source": [
        "# select reviews in English only, and store only necessary data\n",
        "reviews = pd.read_csv(DRIVE_PATH.joinpath(REVIEWS_PATH))\n",
        "cleaned_reviews = reviews[reviews['review_language']=='en'][['business_id', 'review_text', 'Year']]\n",
        "cleaned_reviews.to_csv(DRIVE_PATH.joinpath('cleaned_reviews.csv'), index=False)\n",
        "\n",
        "del reviews\n",
        "del cleaned_reviews"
      ],
      "execution_count": 0,
      "outputs": []
    },
    {
      "cell_type": "code",
      "metadata": {
        "id": "VQslRRDWHmrq",
        "colab_type": "code",
        "colab": {}
      },
      "source": [
        "# function for concatenating reviews\n",
        "def concat_reviews(x):\n",
        "  try:\n",
        "    return '\\n\\n'.join(x)\n",
        "  except:\n",
        "    return ''"
      ],
      "execution_count": 0,
      "outputs": []
    },
    {
      "cell_type": "code",
      "metadata": {
        "id": "DFUSbKZXH0sv",
        "colab_type": "code",
        "colab": {}
      },
      "source": [
        "# Concatentate reviews first by business and year\n",
        "alldocs = {}\n",
        "busids = {}\n",
        "for year in years:\n",
        "  reviews_in_year = reviews[reviews['Year']==year]\n",
        "  b_reviews = reviews_in_year[['business_id', 'review_text']].groupby('business_id')['review_text'].apply(concat_reviews).reset_index()\n",
        "  b_reviews.drop_duplicates(inplace=True)\n",
        "  alldocs[year] = list(b_reviews['review_text'].values)\n",
        "  busids[year] = list(b_reviews['business_id'].values)"
      ],
      "execution_count": 0,
      "outputs": []
    },
    {
      "cell_type": "code",
      "metadata": {
        "id": "O5lvHMtafi3E",
        "colab_type": "code",
        "outputId": "8e836161-8f54-450e-e33c-86d411bf39a1",
        "colab": {
          "base_uri": "https://localhost:8080/",
          "height": 34
        }
      },
      "source": [
        "# Put businesses into their corresponding neighbourhoods\n",
        "# Reference: https://github.com/alexwolson/uem_projects/blob/master/notebooks/Autoencoders/MAIN_LSA_Neighbourhoods.ipynb\n",
        "bf = pd.read_csv(DRIVE_PATH.joinpath(BUSINESS_DATA_PATH))\n",
        "sf = shapefile.Reader(str(DRIVE_PATH)+'/'+NEIGHBOURHOOD_SHAPEFILE_PATH)\n",
        "d = {}\n",
        "for shape in sf.iterShapeRecords():\n",
        "    d[shape.record.AREA_NAME] = Polygon(shape.shape.points)\n",
        "\n",
        "pcabids = []\n",
        "    \n",
        "n2bid = defaultdict(list)\n",
        "\n",
        "for bid,loc in tqdm(bf[['id','coordinates']].values):\n",
        "    loc = literal_eval(loc)\n",
        "    if loc['longitude'] is not None and loc['latitude'] is not None:\n",
        "        p = Point(loc['longitude'],loc['latitude'])\n",
        "        for k,v in d.items():\n",
        "            if v.contains(p):\n",
        "                n2bid[k].append(bid)"
      ],
      "execution_count": 0,
      "outputs": [
        {
          "output_type": "stream",
          "text": [
            "100%|██████████| 32123/32123 [00:29<00:00, 1091.61it/s]\n"
          ],
          "name": "stderr"
        }
      ]
    },
    {
      "cell_type": "code",
      "metadata": {
        "id": "ewX_qPGOusgP",
        "colab_type": "code",
        "colab": {}
      },
      "source": [
        "# Create neighbourhood representation for each year\n",
        "all_neighbourhoodcounts = {}\n",
        "\n",
        "for year in years:\n",
        "  neighbourhoodcounts = {}\n",
        "  docs = alldocs[year]\n",
        "  busid = busids[year]\n",
        "  for k,v in tqdm(n2bid.items(),total=len(n2bid.keys())):\n",
        "      total = ''\n",
        "      for bid in v:\n",
        "          if bid in busid:\n",
        "              total += docs[busid.index(bid)] + '\\n'\n",
        "      neighbourhoodcounts[k] = total\n",
        "\n",
        "  all_neighbourhoodcounts[year] = neighbourhoodcounts"
      ],
      "execution_count": 0,
      "outputs": []
    },
    {
      "cell_type": "code",
      "metadata": {
        "id": "tWd0HvyQLcP-",
        "colab_type": "code",
        "colab": {}
      },
      "source": [
        "all_n_reviews = {}\n",
        "for year in years:\n",
        "    all_n_reviews[year] = pd.DataFrame(pd.Series(all_neighbourhoodcounts[year])).sort_index()"
      ],
      "execution_count": 0,
      "outputs": []
    },
    {
      "cell_type": "code",
      "metadata": {
        "id": "ggTH2RwjLig3",
        "colab_type": "code",
        "colab": {}
      },
      "source": [
        "Xs = {}\n",
        "\n",
        "for year in years:\n",
        "  Xs[year] = transform(all_n_reviews[year])"
      ],
      "execution_count": 0,
      "outputs": []
    },
    {
      "cell_type": "code",
      "metadata": {
        "id": "lrFUR_iILkOt",
        "colab_type": "code",
        "colab": {}
      },
      "source": [
        "reviews_all = {}\n",
        "\n",
        "for year in years:\n",
        "  reviews_all[year] = pd.DataFrame(Xs[year].todense()).T\n",
        "  reviews_all[year].to_csv(str(DRIVE_PATH)+'/neighbourhood_reviews_'+str(year)+'.csv')"
      ],
      "execution_count": 0,
      "outputs": []
    },
    {
      "cell_type": "markdown",
      "metadata": {
        "id": "25M2vCLLNSOb",
        "colab_type": "text"
      },
      "source": [
        "## ELMO"
      ]
    },
    {
      "cell_type": "markdown",
      "metadata": {
        "id": "SIO8QWKUNrYk",
        "colab_type": "text"
      },
      "source": [
        "### For Census change prediction\n",
        "Different from the data cleaning for TF-IDF Autoencoder, for computational efficiency, business reviews are not concatenated to form one single string, but put into a list of strings. Each review in the list of strings will be embedded with ELMO first, then, their averages will be taken.  "
      ]
    },
    {
      "cell_type": "code",
      "metadata": {
        "id": "m9LoKwHaNVs7",
        "colab_type": "code",
        "colab": {}
      },
      "source": [
        "alldocs_lists = {}\n",
        "for year in [2011, 2016]:\n",
        "  alldocs_lists[year] = [x.split('\\n\\n') for x in alldocs[year]]"
      ],
      "execution_count": 0,
      "outputs": []
    },
    {
      "cell_type": "code",
      "metadata": {
        "id": "o5PqTknENqRU",
        "colab_type": "code",
        "colab": {}
      },
      "source": [
        "all_neighbourhoodcounts = {}\n",
        "\n",
        "for year in [2011, 2016]:\n",
        "  neighbourhoodcounts = {}\n",
        "  docs = alldocs_lists[year]\n",
        "  busid = busids[year]\n",
        "  for k,v in tqdm(n2bid.items(),total=len(n2bid.keys())):\n",
        "      total = []\n",
        "      for bid in v:\n",
        "          if bid in busid:\n",
        "              total.extend(docs[busid.index(bid)])\n",
        "      neighbourhoodcounts[k] = total\n",
        "\n",
        "  all_neighbourhoodcounts[year] = neighbourhoodcounts"
      ],
      "execution_count": 0,
      "outputs": []
    },
    {
      "cell_type": "markdown",
      "metadata": {
        "id": "5pjMe1wEOrRh",
        "colab_type": "text"
      },
      "source": [
        "# Model Training"
      ]
    },
    {
      "cell_type": "markdown",
      "metadata": {
        "id": "IhMBugghOt2r",
        "colab_type": "text"
      },
      "source": [
        "## TF-IDF Autoencoder"
      ]
    },
    {
      "cell_type": "code",
      "metadata": {
        "id": "XI7Wo47sNfqp",
        "colab_type": "code",
        "colab": {}
      },
      "source": [
        "class Encoder(nn.Module):\n",
        "    def __init__(self, sizes):\n",
        "        super(Encoder, self).__init__()\n",
        "                \n",
        "        layers_en = OrderedDict()       \n",
        "        for i in range(len(sizes)-1):\n",
        "            layer_name = 'linear{}'.format(i+1)\n",
        "            act_name = 'activation{}'.format(i+1)\n",
        "            layers_en[layer_name] = nn.Linear(sizes[i], sizes[i+1])\n",
        "            if i==0:\n",
        "                nn.init.xavier_uniform_(layers_en[layer_name].weight)\n",
        "            layers_en[act_name] = nn.Tanh()\n",
        "        \n",
        "        self.encoder = nn.Sequential(layers_en)\n",
        "\n",
        "    def forward(self, x):\n",
        "        return self.encoder(x) \n",
        "    \n",
        "class Decoder(nn.Module):\n",
        "    def __init__(self, sizes):\n",
        "        super(Decoder, self).__init__()\n",
        "        \n",
        "        sizes = sizes[::-1]\n",
        "        \n",
        "        layers_de = OrderedDict()\n",
        "        for i in range(len(sizes)-2):\n",
        "            layer_name = 'linear{}'.format(i+1)\n",
        "            act_name = 'activation{}'.format(i+1)\n",
        "            layers_de[layer_name] = nn.Linear(sizes[i], sizes[i+1])\n",
        "            layers_de[act_name] = nn.Tanh()\n",
        "\n",
        "        layers_de['linear{}'.format(len(sizes)-1)] = nn.Linear(sizes[-2], sizes[-1])\n",
        "        layers_de['sigmoid'] = nn.Sigmoid()\n",
        "        self.decoder = nn.Sequential(layers_de)\n",
        "\n",
        "    def forward(self, encoded):\n",
        "        return self.decoder(encoded) "
      ],
      "execution_count": 0,
      "outputs": []
    },
    {
      "cell_type": "code",
      "metadata": {
        "id": "HboFuFfWUIyX",
        "colab_type": "code",
        "colab": {}
      },
      "source": [
        "def criterion(data, decoded):\n",
        "    cossim_loss = nn.CosineEmbeddingLoss(reduction='sum') # Pytorch built-in Cosine similarity for calculating loss \n",
        "    y = torch.tensor(np.ones((data.shape[0], 1)), dtype=torch.float).cuda()\n",
        "    if use_cuda and torch.cuda.is_available():\n",
        "      y = y.cuda()\n",
        "    loss = cossim_loss(data, decoded, y)\n",
        "    return loss\n"
      ],
      "execution_count": 0,
      "outputs": []
    },
    {
      "cell_type": "code",
      "metadata": {
        "id": "cC1aJRL4Xdsk",
        "colab_type": "code",
        "colab": {}
      },
      "source": [
        "def training(encoder, decoder, batch_size):\n",
        "  train_losses = []\n",
        "  val_losses = []\n",
        "\n",
        "  optimizer_en = optim.Adam(encoder.parameters(), lr=lr)\n",
        "  scheduler_en = optim.lr_scheduler.ReduceLROnPlateau(optimizer_en, 'min', patience=patience, min_lr=min_lr, factor=0.1)\n",
        "  optimizer_de = optim.Adam(decoder.parameters(), lr=lr)\n",
        "  scheduler_de = optim.lr_scheduler.ReduceLROnPlateau(optimizer_de, 'min', patience=patience, min_lr=min_lr, factor=0.1)\n",
        "\n",
        "  def process_function(engine, batch):\n",
        "    encoder.train()\n",
        "    decoder.train()\n",
        "    optimizer_en.zero_grad()\n",
        "    optimizer_de.zero_grad()\n",
        "    encoded = encoder(batch)\n",
        "    decoded = decoder(encoded)\n",
        "    loss = criterion(decoded, batch)\n",
        "    loss.backward()\n",
        "\n",
        "    optimizer_en.step()\n",
        "    optimizer_de.step()\n",
        "    return loss.item()\n",
        "  \n",
        "\n",
        "  def eval_function(engine, batch):\n",
        "    encoder.eval()\n",
        "    decoder.eval()\n",
        "\n",
        "    with torch.no_grad():\n",
        "        encoded = encoder(batch)\n",
        "        decoded = decoder(encoded)\n",
        "        return decoded, batch\n",
        "  \n",
        "  trainer = Engine(process_function)\n",
        "  train_evaluator = Engine(eval_function)\n",
        "  validation_evaluator = Engine(eval_function)\n",
        "\n",
        "  metric = Loss(criterion)\n",
        "  metric.attach(train_evaluator, 'loss')\n",
        "  metric.attach(validation_evaluator, 'loss')\n",
        "\n",
        "  pbar = ProgressBar(persist=True, bar_format=\"\")\n",
        "  pbar.attach(trainer, ['loss'])\n",
        "\n",
        "  @trainer.on(Events.EPOCH_COMPLETED)\n",
        "\n",
        "  def log_training_results(engine):\n",
        "      train_evaluator.run(train_iterator)\n",
        "      metrics = train_evaluator.state.metrics\n",
        "      avg_loss = metrics['loss']    \n",
        "      \n",
        "      train_losses.append(avg_loss)\n",
        "\n",
        "      pbar.log_message(\n",
        "          \"Training Results - Epoch: {}  Avg loss: {:.4f}\"\n",
        "          .format(engine.state.epoch, avg_loss))\n",
        "      \n",
        "  def log_validation_results(engine):\n",
        "      validation_evaluator.run(valid_iterator)\n",
        "      metrics = validation_evaluator.state.metrics\n",
        "      avg_loss = metrics['loss']\n",
        "\n",
        "      val_losses.append(avg_loss)\n",
        "\n",
        "      pbar.log_message(\n",
        "          \"Validation Results - Epoch: {}  Avg loss: {:.4f}\"\n",
        "          .format(engine.state.epoch, avg_loss))\n",
        "      pbar.n = pbar.last_print_n = 0\n",
        "\n",
        "  trainer.add_event_handler(Events.EPOCH_COMPLETED, log_validation_results)\n",
        "\n",
        "  # Reduce on Plateau\n",
        "  def average_loss(engine):\n",
        "    print(\"Current lr: {}\".format(optimizer_de.param_groups[0]['lr']))\n",
        "    average_loss = engine.state.metrics['loss']\n",
        "    scheduler_en.step(average_loss)\n",
        "    scheduler_de.step(average_loss)\n",
        "\n",
        "  validation_evaluator.add_event_handler(Events.COMPLETED, average_loss)\n",
        "  \n",
        "  # Early Stopping\n",
        "  def score_function(engine):\n",
        "      val_loss = engine.state.metrics['loss']\n",
        "      return -val_loss\n",
        "\n",
        "  handler = EarlyStopping(patience=100, score_function=score_function, trainer=trainer)\n",
        "  validation_evaluator.add_event_handler(Events.COMPLETED, handler)\n",
        "\n",
        "  # Model Checkpoint\n",
        "  checkpointer = ModelCheckpoint(str(DRIVE_PATH.joinpath('models')), 'review', save_interval=10, n_saved=1, create_dir=False, save_as_state_dict=True, require_empty=False)\n",
        "  trainer.add_event_handler(Events.EPOCH_COMPLETED, checkpointer, {'encoder': encoder, 'decoder': decoder})\n",
        "\n",
        "  train_iterator = Data.DataLoader(train_data, batch_size=batch_size, shuffle=True, drop_last=False)\n",
        "  valid_iterator = Data.DataLoader(val_data, batch_size=batch_size, shuffle=True, drop_last=False)\n",
        "\n",
        "  trainer.run(train_iterator, max_epochs=500)\n",
        "\n",
        "  return train_losses, val_losses"
      ],
      "execution_count": 0,
      "outputs": []
    },
    {
      "cell_type": "code",
      "metadata": {
        "id": "n0HGmIFEXgCJ",
        "colab_type": "code",
        "colab": {}
      },
      "source": [
        "lr = 0.001\n",
        "patience = 20\n",
        "min_lr = 0.00001"
      ],
      "execution_count": 0,
      "outputs": []
    },
    {
      "cell_type": "code",
      "metadata": {
        "id": "R7KgULQvXg1o",
        "colab_type": "code",
        "colab": {}
      },
      "source": [
        "sizes_r = [max_features, 2**10, 2**8, pca_components]\n",
        "encoder = Encoder(sizes_r)\n",
        "decoder = Decoder(sizes_r)\n",
        "\n",
        "if use_cuda and torch.cuda.is_available():\n",
        "    encoder.cuda()\n",
        "    decoder.cuda()"
      ],
      "execution_count": 0,
      "outputs": []
    },
    {
      "cell_type": "code",
      "metadata": {
        "id": "Uv-rUg1dH0_U",
        "colab_type": "code",
        "outputId": "2ef20cef-7cfe-45dd-b014-0b43187ba551",
        "colab": {
          "base_uri": "https://localhost:8080/",
          "height": 194
        }
      },
      "source": [
        "encoder"
      ],
      "execution_count": 0,
      "outputs": [
        {
          "output_type": "execute_result",
          "data": {
            "text/plain": [
              "Encoder(\n",
              "  (encoder): Sequential(\n",
              "    (linear1): Linear(in_features=1024, out_features=1024, bias=True)\n",
              "    (activation1): Tanh()\n",
              "    (linear2): Linear(in_features=1024, out_features=256, bias=True)\n",
              "    (activation2): Tanh()\n",
              "    (linear3): Linear(in_features=256, out_features=16, bias=True)\n",
              "    (activation3): Tanh()\n",
              "  )\n",
              ")"
            ]
          },
          "metadata": {
            "tags": []
          },
          "execution_count": 10
        }
      ]
    },
    {
      "cell_type": "code",
      "metadata": {
        "id": "cj5gIk4fH1hg",
        "colab_type": "code",
        "outputId": "7884e053-7201-4fc2-e7a6-992d9622120b",
        "colab": {
          "base_uri": "https://localhost:8080/",
          "height": 194
        }
      },
      "source": [
        "decoder"
      ],
      "execution_count": 0,
      "outputs": [
        {
          "output_type": "execute_result",
          "data": {
            "text/plain": [
              "Decoder(\n",
              "  (decoder): Sequential(\n",
              "    (linear1): Linear(in_features=16, out_features=256, bias=True)\n",
              "    (activation1): Tanh()\n",
              "    (linear2): Linear(in_features=256, out_features=1024, bias=True)\n",
              "    (activation2): Tanh()\n",
              "    (linear3): Linear(in_features=1024, out_features=1024, bias=True)\n",
              "    (sigmoid): Sigmoid()\n",
              "  )\n",
              ")"
            ]
          },
          "metadata": {
            "tags": []
          },
          "execution_count": 11
        }
      ]
    },
    {
      "cell_type": "code",
      "metadata": {
        "id": "f3l6fgD8XiiI",
        "colab_type": "code",
        "colab": {}
      },
      "source": [
        "train_losses, val_losses = training(encoder, decoder, train_data.data.shape[0]//100)"
      ],
      "execution_count": 0,
      "outputs": []
    },
    {
      "cell_type": "code",
      "metadata": {
        "id": "CpFBtFT-beHb",
        "colab_type": "code",
        "outputId": "5faa68d4-5f9c-4c4b-e13d-fb80932ba76a",
        "colab": {
          "base_uri": "https://localhost:8080/",
          "height": 312
        }
      },
      "source": [
        "plt.plot(np.arange(len(val_losses)), val_losses, np.arange((len(train_losses))), train_losses)\n",
        "plt.legend(['Validation Losses', 'Training Losses'])\n",
        "plt.title('Loss curves')\n",
        "plt.xlabel('Epoch')\n",
        "plt.ylabel('Loss')"
      ],
      "execution_count": 0,
      "outputs": [
        {
          "output_type": "execute_result",
          "data": {
            "text/plain": [
              "Text(0, 0.5, 'Loss')"
            ]
          },
          "metadata": {
            "tags": []
          },
          "execution_count": 70
        },
        {
          "output_type": "display_data",
          "data": {
            "image/png": "[encoded data removed]",
            "text/plain": [
              "<Figure size 432x288 with 1 Axes>"
            ]
          },
          "metadata": {
            "tags": []
          }
        }
      ]
    },
    {
      "cell_type": "markdown",
      "metadata": {
        "id": "zjgvdGSNg96q",
        "colab_type": "text"
      },
      "source": [
        "## ELMO"
      ]
    },
    {
      "cell_type": "code",
      "metadata": {
        "id": "U5_sLo5siE4y",
        "colab_type": "code",
        "colab": {}
      },
      "source": [
        "import tensorflow_hub as hub\n",
        "import tensorflow as tf\n",
        "\n",
        "elmo = hub.Module(\"https://tfhub.dev/google/elmo/2\", trainable=True)"
      ],
      "execution_count": 0,
      "outputs": []
    },
    {
      "cell_type": "code",
      "metadata": {
        "id": "jlD0PRv1iF4w",
        "colab_type": "code",
        "colab": {}
      },
      "source": [
        "def get_elmo_embedding(x):\n",
        "  # print(x)\n",
        "  batches = [x[i:i+batch_size] for i in range(0, len(x), batch_size)]\n",
        "\n",
        "  all_embeddings = np.zeros(1024)\n",
        "  count = 0\n",
        "  with sess.as_default():\n",
        "    for batch in batches:\n",
        "      embeddings = elmo(batch, signature=\"default\", as_dict=True)[\"elmo\"]\n",
        "      embeddings = tf.reduce_mean(embeddings, (0, 1)).eval()\n",
        "      all_embeddings = all_embeddings + embeddings\n",
        "      count += 1\n",
        "\n",
        "  return all_embeddings/count"
      ],
      "execution_count": 0,
      "outputs": []
    },
    {
      "cell_type": "code",
      "metadata": {
        "id": "9l95ivPJiLsu",
        "colab_type": "code",
        "colab": {}
      },
      "source": [
        "batch_size = 100"
      ],
      "execution_count": 0,
      "outputs": []
    },
    {
      "cell_type": "code",
      "metadata": {
        "id": "dRmpSgzwiMM1",
        "colab_type": "code",
        "colab": {}
      },
      "source": [
        "for year in years:\n",
        "  for n in all_neighbourhoodcounts[year]:  \n",
        "    print(n)\n",
        "\n",
        "    if flag == 1:\n",
        "      emb = get_elmo_embedding(all_neighbourhoodcounts[year][n])\n",
        "      name = str(DRIVE_PATH.joinpath(\"elmo/elmo{}_{}\".format(year, n.replace(\"/\", \"\"))))\n",
        "      np.save(name, emb)"
      ],
      "execution_count": 0,
      "outputs": []
    },
    {
      "cell_type": "code",
      "metadata": {
        "id": "WULD9qzeik7a",
        "colab_type": "code",
        "colab": {}
      },
      "source": [
        "elmo_reviews_2011 = {}\n",
        "elmo_reviews_2016 = {}\n",
        "\n",
        "for n in all_neighbourhoodcounts[2011]:  \n",
        "    name = str(DRIVE_PATH.joinpath(\"elmo/elmo2011_{}\".format(n.replace(\"/\", \"\"))))+'.npy'\n",
        "    elmo_reviews_2011[n] = np.load(name)\n",
        "\n",
        "for n in all_neighbourhoodcounts[2016]:  \n",
        "    name = str(DRIVE_PATH.joinpath(\"elmo/elmo2016_{}\".format(n.replace(\"/\", \"\"))))+'.npy'\n",
        "    elmo_reviews_2016[n] = np.load(name)\n",
        "\n",
        "reviews_2011 = pd.DataFrame(elmo_reviews_2011).T\n",
        "reviews_2011.sort_index(inplace=True)\n",
        "reviews_2011.to_csv(DRIVE_PATH.joinpath('elmo_reviews_2011.csv'))\n",
        "\n",
        "reviews_2016 = pd.DataFrame(elmo_reviews_2016).T\n",
        "reviews_2016.sort_index(inplace=True)\n",
        "reviews_2016.to_csv(DRIVE_PATH.joinpath('elmo_reviews_2016.csv'))"
      ],
      "execution_count": 0,
      "outputs": []
    }
  ]
}